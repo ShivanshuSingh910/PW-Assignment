{
  "nbformat": 4,
  "nbformat_minor": 0,
  "metadata": {
    "colab": {
      "provenance": []
    },
    "kernelspec": {
      "name": "python3",
      "display_name": "Python 3"
    },
    "language_info": {
      "name": "python"
    }
  },
  "cells": [
    {
      "cell_type": "markdown",
      "source": [
        "# Assignment Question 1: What is a Parameter?\n",
        "\n",
        "### Answer:\n",
        "\n",
        "A **parameter** is a special type of variable that is used in the definition of a function, method, or procedure. It acts as a placeholder that allows us to pass values (called arguments) into a function when it is called. Parameters help in making functions more flexible and reusable by allowing them to work with different inputs without rewriting the code.\n",
        "\n",
        "---\n",
        "\n",
        "### Key Points about Parameters:\n",
        "\n",
        "1. **Definition**:  \n",
        "   A parameter is a variable listed inside the parentheses of a function definition.\n",
        "\n",
        "2. **Purpose**:  \n",
        "   Parameters allow data to be passed into functions so that the same block of code can perform operations on different values.\n",
        "\n",
        "3. **Difference between Parameters and Arguments**:  \n",
        "   - **Parameters** are the variables defined in the function header.  \n",
        "   - **Arguments** are the actual values supplied to the function when it is called.\n",
        "\n",
        "4. **Types of Parameters**:  \n",
        "   - **Positional Parameters** – Values are passed in the exact order.  \n",
        "   - **Default Parameters** – Assigned a default value in case no argument is provided.  \n",
        "   - **Keyword Parameters** – Arguments passed using the parameter name.  \n",
        "   - **Variable-length Parameters** – Used when the number of arguments is not fixed (e.g., `*args` and `**kwargs` in Python).\n",
        "\n",
        "5. **Advantages**:  \n",
        "   - Improves code reusability.  \n",
        "   - Makes functions more general and flexible.  \n",
        "   - Reduces repetition of code.  \n",
        "\n",
        "---\n",
        "\n",
        "### Example in Python:\n",
        "\n"
      ],
      "metadata": {
        "id": "-YZ-RaHL__Fn"
      }
    },
    {
      "cell_type": "code",
      "source": [
        "\n",
        "def greet(name, age):\n",
        "    print(f\"Hello {name}, you are {age} years old.\")\n",
        "\n",
        "greet(\"Shivanshu\", 23)"
      ],
      "metadata": {
        "colab": {
          "base_uri": "https://localhost:8080/"
        },
        "id": "TmGEOa8HAVVp",
        "outputId": "f6483248-64ee-4e4e-dc4f-424ca44d65c2"
      },
      "execution_count": 2,
      "outputs": [
        {
          "output_type": "stream",
          "name": "stdout",
          "text": [
            "Hello Shivanshu, you are 23 years old.\n"
          ]
        }
      ]
    },
    {
      "cell_type": "markdown",
      "source": [
        "# Assignment Question 2: What is Correlation? What does Negative Correlation mean?\n",
        "\n",
        "### Answer:\n",
        "\n",
        "---\n",
        "\n",
        "### 1. What is Correlation?\n",
        "\n",
        "Correlation is a **statistical measure** that describes the degree and direction of the relationship between two variables.  \n",
        "It shows whether and how strongly two variables are related to each other.\n",
        "\n",
        "- If two variables change **together in the same direction**, the correlation is positive.  \n",
        "- If two variables change **in opposite directions**, the correlation is negative.  \n",
        "- If there is **no consistent pattern**, correlation is zero (no correlation).\n",
        "\n",
        "The strength of correlation is measured by the **correlation coefficient (r)**, which ranges from **-1 to +1**.\n",
        "\n",
        "- **r = +1** → Perfect positive correlation  \n",
        "- **r = -1** → Perfect negative correlation  \n",
        "- **r = 0** → No correlation\n",
        "\n",
        "---\n",
        "\n",
        "### 2. What does Negative Correlation mean?\n",
        "\n",
        "A **negative correlation** means that as one variable **increases**, the other variable **decreases**, and vice versa.  \n",
        "The two variables move in opposite directions.\n",
        "\n",
        "- Example:  \n",
        "  - As the **price of a product increases**, the **demand for it decreases**.  \n",
        "  - As **exercise time increases**, **body weight decreases** (generally).\n",
        "\n",
        "Mathematically, the correlation coefficient (**r**) will be **less than 0** (between -1 and 0).\n",
        "\n",
        "---\n",
        "\n",
        "\n"
      ],
      "metadata": {
        "id": "orI6z-hPA1M5"
      }
    },
    {
      "cell_type": "markdown",
      "source": [
        "# Assignment Question 3: Define Machine Learning. What are the main components in Machine Learning?\n",
        "\n",
        "### Answer:\n",
        "\n",
        "---\n",
        "\n",
        "### 1. Definition of Machine Learning\n",
        "\n",
        "Machine Learning (ML) is a branch of **Artificial Intelligence (AI)** that enables a system to automatically learn and improve from experience **without being explicitly programmed**.  \n",
        "It focuses on developing algorithms that can identify patterns, make decisions, and improve their performance as more data becomes available.\n",
        "\n",
        "In simple terms:  \n",
        "**Machine Learning = Teaching computers to learn from data and make predictions or decisions.**\n",
        "\n",
        "---\n",
        "\n",
        "### 2. Main Components of Machine Learning\n",
        "\n",
        "Machine Learning mainly consists of the following components:\n",
        "\n",
        "1. **Data**  \n",
        "   - Data is the foundation of ML.  \n",
        "   - It can be structured (tables, databases) or unstructured (images, text, videos).  \n",
        "   - Quality and quantity of data affect model performance.\n",
        "\n",
        "2. **Features (Attributes)**  \n",
        "   - Features are the measurable properties or characteristics of data used for learning.  \n",
        "   - Example: In predicting house prices, features could be size, location, number of rooms.\n",
        "\n",
        "3. **Model (Algorithm)**  \n",
        "   - A model is the mathematical representation created by the learning algorithm.  \n",
        "   - It defines the relationship between input data (features) and output (prediction).  \n",
        "   - Examples: Linear Regression, Decision Trees, Neural Networks.\n",
        "\n",
        "4. **Training**  \n",
        "   - The process of feeding data to the model so it can learn patterns.  \n",
        "   - During training, the model adjusts parameters to reduce prediction errors.\n",
        "\n",
        "5. **Evaluation**  \n",
        "   - After training, the model is tested using unseen data to measure accuracy and performance.  \n",
        "   - Metrics like accuracy, precision, recall, F1-score are used.\n",
        "\n",
        "6. **Prediction (Inference)**  \n",
        "   - Once trained, the model can make predictions or decisions on new, unseen data.  \n",
        "   - Example: Predicting whether an email is spam or not.\n",
        "\n",
        "---\n",
        "\n",
        "\n",
        "\n"
      ],
      "metadata": {
        "id": "8fBlakUJBa-8"
      }
    },
    {
      "cell_type": "markdown",
      "source": [
        "# Assignment Question 4: How does loss value help in determining whether the model is good or not?\n",
        "\n",
        "### Answer:\n",
        "\n",
        "---\n",
        "\n",
        "### 1. What is Loss Value?\n",
        "\n",
        "- The **loss value** (also called cost or error) is a numerical measure of how well or poorly a machine learning model performs on a dataset.  \n",
        "- It represents the difference between the **predicted output** and the **actual/true output**.  \n",
        "- A **lower loss value** indicates that the model’s predictions are closer to the actual values.\n",
        "\n",
        "---\n",
        "\n",
        "### 2. Role of Loss Value in Model Evaluation\n",
        "\n",
        "1. **Indicator of Model Accuracy**  \n",
        "   - Loss helps us check whether the model is learning correctly.  \n",
        "   - If the loss is high, the model’s predictions are far from correct answers.  \n",
        "   - If the loss is low, the model is performing well.\n",
        "\n",
        "2. **Guides Optimization**  \n",
        "   - During training, optimization algorithms (like Gradient Descent) use the loss value to adjust model parameters (weights).  \n",
        "   - The goal is to **minimize the loss** step by step.\n",
        "\n",
        "3. **Helps in Comparing Models**  \n",
        "   - Loss values allow comparison of different models or algorithms.  \n",
        "   - The model with the **lowest loss** on validation/test data is usually considered better.\n",
        "\n",
        "4. **Detects Overfitting/Underfitting**  \n",
        "   - **High training loss + high validation loss** → Model is underfitting (not learning well).  \n",
        "   - **Low training loss + high validation loss** → Model is overfitting (memorizing training data, not generalizing).  \n",
        "\n",
        "---\n",
        "\n",
        "### 3. Example\n",
        "\n",
        "Suppose we are predicting house prices:  \n",
        "\n",
        "- Actual price = ₹50,00,000  \n",
        "- Model prediction = ₹48,00,000  \n",
        "- Loss = Difference (Error) = ₹2,00,000  \n",
        "\n",
        "If another model predicts ₹49,80,000, the loss is only ₹20,000 → **better model**.\n",
        "\n",
        "---\n",
        "\n",
        "\n",
        "\n"
      ],
      "metadata": {
        "id": "QKvv44jjBo1e"
      }
    },
    {
      "cell_type": "markdown",
      "source": [
        "## Q5. What are Continuous and Categorical Variables?\n",
        "\n",
        "### Definition:\n",
        "In statistics and Machine Learning, variables are the features or attributes of data that represent information. They can broadly be classified into **continuous variables** and **categorical variables**.\n",
        "\n",
        "---\n",
        "\n",
        "### 1. Continuous Variables:\n",
        "- Continuous variables are **numerical** in nature.  \n",
        "- They can take an **infinite number of values** within a given range.  \n",
        "- They are measured on a **scale** and are not restricted to fixed categories.  \n",
        "- Can be **discrete (countable)** or **continuous (measurable)**.  \n",
        "\n",
        "**Examples:**\n",
        "- Height of students (e.g., 160.5 cm, 172.3 cm).  \n",
        "- Temperature (e.g., 28.4°C, 30.1°C).  \n",
        "- Salary of employees (₹35,000, ₹40,750).  \n",
        "\n",
        "---\n",
        "\n",
        "### 2. Categorical Variables:\n",
        "- Categorical variables represent **labels or categories**.  \n",
        "- They are **qualitative** in nature rather than numerical.  \n",
        "- These variables divide data into groups or classes.  \n",
        "- Can be further divided into:\n",
        "  - **Nominal Variables** → Categories without order. (e.g., Colors: Red, Blue, Green)  \n",
        "  - **Ordinal Variables** → Categories with order. (e.g., Small < Medium < Large)  \n",
        "\n",
        "**Examples:**\n",
        "- Gender (Male, Female, Other).  \n",
        "- City names (Delhi, Mumbai, Kolkata).  \n",
        "- Education level (Primary, Secondary, Graduate).  \n",
        "\n",
        "---\n",
        "\n",
        "### 3. Key Differences between Continuous and Categorical Variables:\n",
        "\n",
        "| Feature                | Continuous Variables                  | Categorical Variables               |\n",
        "|-------------------------|---------------------------------------|--------------------------------------|\n",
        "| Nature                 | Quantitative (numeric)               | Qualitative (labels/groups)          |\n",
        "| Values                  | Infinite values within range         | Limited categories                   |\n",
        "| Measurement            | Measured on a scale                  | Grouped into classes                 |\n",
        "| Examples               | Height, weight, salary               | Gender, color, city                  |\n",
        "\n",
        "---\n",
        "\n",
        "### 4. Importance in Machine Learning:\n",
        "- Continuous variables are often **scaled/normalized** for ML algorithms.  \n",
        "- Categorical variables are usually **encoded** (One-Hot, Label Encoding) before being fed to models.  \n",
        "- Correct identification of variable type ensures **proper preprocessing** and improves model accuracy.  \n",
        "\n",
        "---\n",
        "\n",
        "### Conclusion:\n",
        "Continuous variables represent measurable quantities with infinite possible values, while categorical variables represent qualitative attributes divided into groups. Understanding the difference is crucial in data preprocessing and model building, making this distinction one of the foundational steps in Machine Learning.  \n",
        "\n",
        "---\n"
      ],
      "metadata": {
        "id": "dfRgDgwkCLGV"
      }
    },
    {
      "cell_type": "markdown",
      "source": [
        "## Q6. How do we handle categorical variables in Machine Learning? What are the common techniques?\n",
        "\n",
        "### Definition:\n",
        "In Machine Learning, datasets often contain **categorical variables** (labels, categories, groups).  \n",
        "Since most ML algorithms work with **numerical input**, categorical variables must be transformed into numbers.  \n",
        "This process is called **encoding categorical variables**.\n",
        "\n",
        "---\n",
        "\n",
        "### 1. Why Handling Categorical Variables is Important?\n",
        "- ML models like **Linear Regression, Logistic Regression, SVM, KNN** cannot process raw text categories.  \n",
        "- Incorrect handling can lead to biased or inaccurate predictions.  \n",
        "- Proper encoding improves **model performance, accuracy, and interpretability**.\n",
        "\n",
        "---\n",
        "\n",
        "### 2. Common Techniques to Handle Categorical Variables:\n",
        "\n",
        "#### (a) **Label Encoding**\n",
        "- Converts categories into numeric values (0, 1, 2, …).  \n",
        "- Works well for **ordinal data** (where order matters).  \n",
        "\n",
        "\n",
        "#### (b) **One-Hot Encoding**\n",
        "- Creates a **binary column (0/1)** for each category.  \n",
        "- Best for **nominal data** (no order).  \n",
        "\n",
        "\n",
        "#### (c) **Ordinal Encoding**\n",
        "- Assigns numbers to categories **based on ranking/order**.  \n",
        "- Example: Education levels  \n",
        "\n",
        "#### (d) **Target / Mean Encoding**\n",
        "- Replaces categories with the **mean of target variable** for that category.  \n",
        "- Useful in high-cardinality categorical variables.  \n",
        "- Example: If average salary for department “IT” is 80,000 and for “HR” is 60,000, encode accordingly.\n",
        "\n",
        "#### (e) **Frequency / Count Encoding**\n",
        "- Encodes categories based on their frequency/count in the dataset.  \n",
        "- Example: If \"Delhi\" appears 500 times and \"Mumbai\" 300 times, values assigned are 500 and 300.\n",
        "\n",
        "---\n"
      ],
      "metadata": {
        "id": "BQrMvdcdDhxb"
      }
    },
    {
      "cell_type": "markdown",
      "source": [
        "## Q7. What do you mean by Training and Testing a Dataset?\n",
        "\n",
        "### Definition:\n",
        "In Machine Learning, the **dataset** is usually divided into two parts:  \n",
        "1. **Training dataset** → Used to teach the model.  \n",
        "2. **Testing dataset** → Used to evaluate the model’s performance.  \n",
        "\n",
        "This division ensures the model does not simply memorize the data, but actually **learns patterns** that generalize to unseen data.\n",
        "\n",
        "---\n",
        "\n",
        "### 1. Training Dataset:\n",
        "- The portion of data given to the algorithm so that it can **learn relationships** between input features (X) and target output (y).  \n",
        "- The model adjusts its **parameters/weights** using this dataset.  \n",
        "- Usually, **70–80% of data** is used for training.  \n",
        "\n",
        "**Example:**  \n",
        "If we are predicting house prices, the training data will include house size, location, number of rooms (features), and actual price (target).\n",
        "\n",
        "---\n",
        "\n",
        "### 2. Testing Dataset:\n",
        "- A separate portion of data not seen by the model during training.  \n",
        "- Used to **measure accuracy and generalization ability** of the model.  \n",
        "- Prevents **overfitting** (when the model memorizes training data instead of learning patterns).  \n",
        "- Usually, **20–30% of data** is used for testing.  \n",
        "\n",
        "**Example:**  \n",
        "Using new house data (size, rooms, location) without price to check if the model predicts price correctly.\n",
        "\n",
        "---\n",
        "\n",
        "### 3. Why Split into Training and Testing?\n",
        "- To evaluate if the model works well on **unseen data**.  \n",
        "- Ensures fairness while testing model accuracy.  \n",
        "- Helps detect **overfitting** and **underfitting** problems.  \n",
        "\n",
        "---\n",
        "\n"
      ],
      "metadata": {
        "id": "ui_ef6t0Egps"
      }
    },
    {
      "cell_type": "markdown",
      "source": [
        "## Q8. What is sklearn.preprocessing?\n",
        "\n",
        "### Definition:\n",
        "`sklearn.preprocessing` is a module in **Scikit-learn** (Python library) that provides **tools and functions to prepare data** for Machine Learning models.  \n",
        "It helps transform raw data into a format that is easier for ML algorithms to process efficiently and accurately.\n",
        "\n",
        "---\n",
        "\n",
        "### 1. Why is Preprocessing Important?\n",
        "- Raw data often contains **different scales, categorical labels, or missing values**.  \n",
        "- ML algorithms work best with **numerical data that is normalized or standardized**.  \n",
        "- Preprocessing ensures:\n",
        "  - Faster convergence of algorithms.  \n",
        "  - Improved accuracy and stability.  \n",
        "  - Proper handling of categorical features.  \n",
        "\n",
        "---\n",
        "\n",
        "### 2. Common Functionalities in `sklearn.preprocessing`:\n",
        "\n",
        "#### (a) **Scaling Features**\n",
        "- Brings features to the **same scale**, avoiding dominance of large-valued features.  \n",
        "- Examples:\n",
        "  - `StandardScaler()` → standardizes features (mean=0, std=1)  \n",
        "  - `MinMaxScaler()` → scales features between 0 and 1\n",
        "\n",
        "#### (b) **Normalizing Data**\n",
        "- Ensures that **feature vectors have unit norm**.  \n",
        "- Example: `Normalizer()` scales rows individually.\n",
        "\n",
        "#### (c) **Encoding Categorical Variables**\n",
        "- Converts **text labels into numbers**.\n",
        "  - `LabelEncoder()` → converts labels into integers  \n",
        "  - `OneHotEncoder()` → creates binary columns for categories\n",
        "\n",
        "#### (d) **Binarization**\n",
        "- Converts numerical features into **binary values** based on a threshold.  \n",
        "- Example: `Binarizer(threshold=0.5)`\n",
        "\n",
        "#### (e) **Polynomial Feature Generation**\n",
        "- Creates **new features** by combining existing features for non-linear models.  \n",
        "- Example: `PolynomialFeatures(degree=2)`  \n",
        "\n",
        "---\n",
        "\n"
      ],
      "metadata": {
        "id": "B-j3al7yFDIp"
      }
    },
    {
      "cell_type": "code",
      "source": [
        "#One-Hot Encoding Example:\n",
        "from sklearn.preprocessing import OneHotEncoder\n",
        "import pandas as pd\n",
        "\n",
        "df = pd.DataFrame({'Color': ['Red', 'Blue', 'Green']})\n",
        "\n",
        "encoder = OneHotEncoder(sparse_output=False)\n",
        "encoded = encoder.fit_transform(df[['Color']])\n",
        "print(encoded)\n"
      ],
      "metadata": {
        "colab": {
          "base_uri": "https://localhost:8080/"
        },
        "id": "EubI-vjmFM1c",
        "outputId": "1794e902-2cf8-4015-cf71-6c289c55ccca"
      },
      "execution_count": 7,
      "outputs": [
        {
          "output_type": "stream",
          "name": "stdout",
          "text": [
            "[[0. 0. 1.]\n",
            " [1. 0. 0.]\n",
            " [0. 1. 0.]]\n"
          ]
        }
      ]
    },
    {
      "cell_type": "markdown",
      "source": [
        "## Q9. What is a Test Set?\n",
        "\n",
        "### Definition:\n",
        "A **Test Set** is a portion of the dataset that is **kept separate from the training data**.  \n",
        "It is used to **evaluate the performance of a trained Machine Learning model** on unseen data, ensuring that the model generalizes well and is not just memorizing the training data.\n",
        "\n",
        "---\n",
        "\n",
        "### 1. Purpose of a Test Set:\n",
        "- To **assess model accuracy** on new, unseen data.  \n",
        "- To **detect overfitting**: if a model performs well on training data but poorly on the test set, it is overfitting.  \n",
        "- To **compare different models** objectively.\n",
        "\n",
        "---\n",
        "\n",
        "### 2. Characteristics of a Test Set:\n",
        "- Should **not overlap** with training data.  \n",
        "- Typically contains **20–30% of the entire dataset**, but the ratio may vary depending on dataset size.  \n",
        "- Should represent the **overall data distribution** to give a realistic evaluation.\n",
        "\n",
        "---\n",
        "\n",
        "### 3. Difference Between Training, Validation, and Test Sets:\n",
        "\n",
        "| Set Type      | Purpose                               | Usage                   |\n",
        "|---------------|---------------------------------------|-------------------------|\n",
        "| Training Set  | Train the model                        | Fit the model           |\n",
        "| Validation Set| Tune hyperparameters & select model   | Optimize model          |\n",
        "| Test Set      | Evaluate final model performance      | Assess generalization   |\n",
        "\n",
        "---\n",
        "\n"
      ],
      "metadata": {
        "id": "AZ7NI9TMFz5Q"
      }
    },
    {
      "cell_type": "code",
      "source": [
        "import pandas as pd\n",
        "from sklearn.model_selection import train_test_split\n",
        "\n",
        "\n",
        "data = {\n",
        "    'Hours_Studied': [2, 4, 6, 8, 10],\n",
        "    'Exam_Score': [50, 60, 70, 80, 90]\n",
        "}\n",
        "\n",
        "df = pd.DataFrame(data)\n",
        "\n",
        "X = df[['Hours_Studied']]\n",
        "y = df['Exam_Score']\n",
        "\n",
        "X_train, X_test, y_train, y_test = train_test_split(\n",
        "    X, y, test_size=0.2, random_state=42\n",
        ")\n",
        "\n",
        "print(\"Training features:\\n\", X_train)\n",
        "print(\"Training target:\\n\", y_train)\n",
        "print(\"Testing features:\\n\", X_test)\n",
        "print(\"Testing target:\\n\", y_test)\n"
      ],
      "metadata": {
        "colab": {
          "base_uri": "https://localhost:8080/"
        },
        "id": "kfAceb8NGYi8",
        "outputId": "8bd1044c-d804-491d-c904-ecb5a407caff"
      },
      "execution_count": 10,
      "outputs": [
        {
          "output_type": "stream",
          "name": "stdout",
          "text": [
            "Training features:\n",
            "    Hours_Studied\n",
            "4             10\n",
            "2              6\n",
            "0              2\n",
            "3              8\n",
            "Training target:\n",
            " 4    90\n",
            "2    70\n",
            "0    50\n",
            "3    80\n",
            "Name: Exam_Score, dtype: int64\n",
            "Testing features:\n",
            "    Hours_Studied\n",
            "1              4\n",
            "Testing target:\n",
            " 1    60\n",
            "Name: Exam_Score, dtype: int64\n"
          ]
        }
      ]
    },
    {
      "cell_type": "markdown",
      "source": [
        "## Q10. How do we split data for model fitting (training and testing) in Python?\n",
        "\n",
        "### Definition:\n",
        "Splitting data into **training and testing sets** is a fundamental step in Machine Learning.  \n",
        "- **Training set** → Used to teach the model.  \n",
        "- **Testing set** → Used to evaluate how well the model generalizes to new, unseen data.\n",
        "\n",
        "---\n",
        "\n",
        "### 1. Why Split Data?\n",
        "- Prevents **overfitting** (model memorizing training data).  \n",
        "- Ensures that the model works well on **real-world data**.  \n",
        "- Allows **fair evaluation** of different algorithms.\n",
        "\n",
        "---\n",
        "\n"
      ],
      "metadata": {
        "id": "daZCUifJGs2D"
      }
    },
    {
      "cell_type": "code",
      "source": [
        "### 2. How to Split Data in Python:\n",
        "#We use `train_test_split` from `sklearn.model_selection`.\n",
        "\n",
        "\n",
        "# Import required libraries\n",
        "import pandas as pd\n",
        "from sklearn.model_selection import train_test_split\n",
        "\n",
        "# Sample dataset\n",
        "data = {\n",
        "    'Hours_Studied': [2, 4, 6, 8, 10],\n",
        "    'Exam_Score': [50, 60, 70, 80, 90]\n",
        "}\n",
        "df = pd.DataFrame(data)\n",
        "\n",
        "# Features and target\n",
        "X = df[['Hours_Studied']]  # Feature(s)\n",
        "y = df['Exam_Score']       # Target\n",
        "\n",
        "# Split dataset\n",
        "X_train, X_test, y_train, y_test = train_test_split(\n",
        "    X, y, test_size=0.2, random_state=42\n",
        ")\n",
        "\n",
        "# Display splits\n",
        "print(\"Training Features:\\n\", X_train)\n",
        "print(\"Testing Features:\\n\", X_test)\n"
      ],
      "metadata": {
        "colab": {
          "base_uri": "https://localhost:8080/"
        },
        "id": "7CrnE6gaG4w2",
        "outputId": "05af0e03-10a5-40c7-d187-8d0781edbe9a"
      },
      "execution_count": 11,
      "outputs": [
        {
          "output_type": "stream",
          "name": "stdout",
          "text": [
            "Training Features:\n",
            "    Hours_Studied\n",
            "4             10\n",
            "2              6\n",
            "0              2\n",
            "3              8\n",
            "Testing Features:\n",
            "    Hours_Studied\n",
            "1              4\n"
          ]
        }
      ]
    },
    {
      "cell_type": "markdown",
      "source": [
        "###How do you approach a Machine Learning problem?\n",
        "1. Define the Problem\n",
        "\n",
        "Clearly understand what you want to predict or classify.\n",
        "\n",
        "Example: Predict house prices based on features like size, location, and rooms.\n",
        "\n",
        "2. Collect Data\n",
        "\n",
        "Gather relevant data from databases, CSV files, APIs, or public datasets.\n",
        "\n",
        "3. Explore the Data (EDA)\n",
        "\n",
        "Understand data distribution, missing values, outliers.\n",
        "\n",
        "Visualize data using histograms, scatter plots, and correlation matrices.\n",
        "\n",
        "4. Preprocess the Data\n",
        "\n",
        "Handle missing values.\n",
        "\n",
        "Encode categorical variables (One-Hot, Label Encoding).\n",
        "\n",
        "Scale features (StandardScaler, MinMaxScaler).\n",
        "\n",
        "5. Split Data\n",
        "\n",
        "Divide into training and testing sets to evaluate performance.\n",
        "\n",
        "6. Choose an Algorithm\n",
        "\n",
        "Based on problem type:\n",
        "\n",
        "Regression → Linear Regression, Decision Tree, Random Forest\n",
        "\n",
        "Classification → Logistic Regression, SVM, KNN\n",
        "\n",
        "7. Train the Model\n",
        "\n",
        "Fit the algorithm on the training data using model.fit(X_train, y_train).\n",
        "\n",
        "8. Evaluate the Model\n",
        "\n",
        "Use metrics to assess performance:\n",
        "\n",
        "Regression → RMSE, MAE, R²\n",
        "\n",
        "Classification → Accuracy, Precision, Recall, F1-score\n",
        "\n",
        "9. Tune Hyperparameters\n",
        "\n",
        "Optimize model parameters using GridSearchCV, RandomSearchCV, or manual tuning.\n",
        "\n",
        "10. Deployment & Monitoring\n",
        "\n",
        "Deploy the model for real-world use.\n",
        "\n",
        "Monitor performance and update the model as new data arrives."
      ],
      "metadata": {
        "id": "dmHEHB9xH1Ex"
      }
    },
    {
      "cell_type": "markdown",
      "source": [
        "## Q11. Why do we have to perform EDA before fitting a model to the data?\n",
        "\n",
        "### Definition:\n",
        "**EDA (Exploratory Data Analysis)** is the process of **analyzing, visualizing, and summarizing** a dataset before applying Machine Learning models.  \n",
        "It helps understand the **structure, patterns, and quality of data**.\n",
        "\n",
        "---\n",
        "\n",
        "### 1. Importance of EDA:\n",
        "\n",
        "1. **Understand Data Distribution:**\n",
        "   - Helps identify how features and target variables are **distributed** (normal, skewed, etc.).\n",
        "   - Example: Histogram of exam scores shows if data is balanced.\n",
        "\n",
        "2. **Detect Missing Values:**\n",
        "   - Missing values can cause **errors** or reduce model accuracy.\n",
        "   - EDA helps identify **NaNs** and decide how to handle them (imputation or deletion).\n",
        "\n",
        "3. **Identify Outliers:**\n",
        "   - Outliers can **skew results** or affect algorithms like Linear Regression.\n",
        "   - Example: Boxplots reveal extreme values that may need treatment.\n",
        "\n",
        "4. **Check Feature Relationships:**\n",
        "   - Correlation analysis helps find **relationships between features and target**.\n",
        "   - Prevents multicollinearity in regression models.\n",
        "\n",
        "5. **Decide Feature Engineering / Transformation:**\n",
        "   - Scaling, encoding, or creating new features is guided by EDA findings.\n",
        "   - Example: Converting categorical variables into numeric using One-Hot Encoding.\n",
        "\n",
        "6. **Guide Model Selection:**\n",
        "   - Understanding data type and distribution helps **choose the appropriate ML algorithm**.\n",
        "   - Example: For skewed target data, consider logarithmic transformation or robust regression.\n",
        "\n",
        "---\n",
        "\n"
      ],
      "metadata": {
        "id": "vIyFP2j-H71n"
      }
    },
    {
      "cell_type": "code",
      "source": [
        "### 2. Python Example (EDA in Colab)\n",
        "import pandas as pd\n",
        "import seaborn as sns\n",
        "import matplotlib.pyplot as plt\n",
        "\n",
        "# Sample dataset\n",
        "df = pd.DataFrame({\n",
        "    'Hours_Studied': [2, 4, 6, 8, 10, 12],\n",
        "    'Exam_Score': [50, 60, 70, 80, 90, 95]\n",
        "})\n",
        "\n",
        "# Check first few rows\n",
        "print(df.head())\n",
        "\n",
        "# Summary statistics\n",
        "print(df.describe())\n",
        "\n",
        "# Visualize distribution\n",
        "sns.histplot(df['Exam_Score'], kde=True)\n",
        "plt.show()\n",
        "\n",
        "# Scatter plot to see relationship\n",
        "sns.scatterplot(x='Hours_Studied', y='Exam_Score', data=df)\n",
        "plt.show()\n",
        "\n",
        "# Correlation\n",
        "print(df.corr())\n",
        "sns.heatmap(df.corr(), annot=True, cmap=\"coolwarm\")\n",
        "plt.show()\n"
      ],
      "metadata": {
        "colab": {
          "base_uri": "https://localhost:8080/",
          "height": 1000
        },
        "id": "zGjsJUShIdGO",
        "outputId": "c645daeb-2901-4a73-f877-d529996aea9b"
      },
      "execution_count": 12,
      "outputs": [
        {
          "output_type": "stream",
          "name": "stdout",
          "text": [
            "   Hours_Studied  Exam_Score\n",
            "0              2          50\n",
            "1              4          60\n",
            "2              6          70\n",
            "3              8          80\n",
            "4             10          90\n",
            "       Hours_Studied  Exam_Score\n",
            "count       6.000000    6.000000\n",
            "mean        7.000000   74.166667\n",
            "std         3.741657   17.440375\n",
            "min         2.000000   50.000000\n",
            "25%         4.500000   62.500000\n",
            "50%         7.000000   75.000000\n",
            "75%         9.500000   87.500000\n",
            "max        12.000000   95.000000\n"
          ]
        },
        {
          "output_type": "display_data",
          "data": {
            "text/plain": [
              "<Figure size 640x480 with 1 Axes>"
            ],
            "image/png": "[encoded data removed]"
          },
          "metadata": {}
        },
        {
          "output_type": "display_data",
          "data": {
            "text/plain": [
              "<Figure size 640x480 with 1 Axes>"
            ],
            "image/png": "[encoded data removed]"
          },
          "metadata": {}
        },
        {
          "output_type": "stream",
          "name": "stdout",
          "text": [
            "               Hours_Studied  Exam_Score\n",
            "Hours_Studied       1.000000    0.996078\n",
            "Exam_Score          0.996078    1.000000\n"
          ]
        },
        {
          "output_type": "display_data",
          "data": {
            "text/plain": [
              "<Figure size 640x480 with 2 Axes>"
            ],
            "image/png": "[encoded data removed]"
          },
          "metadata": {}
        }
      ]
    },
    {
      "cell_type": "markdown",
      "source": [
        "## Q12. What is Correlation?\n",
        "\n",
        "### Definition:\n",
        "**Correlation** measures the **strength and direction of a relationship** between two variables.  \n",
        "It tells us **how one variable changes when another variable changes**.\n",
        "\n",
        "- Positive correlation → Both variables increase or decrease together.  \n",
        "- Negative correlation → One variable increases while the other decreases.  \n",
        "- No correlation → Variables do not show any consistent pattern.\n",
        "\n",
        "---\n",
        "\n",
        "### 1. Types of Correlation:\n",
        "\n",
        "1. **Positive Correlation:**\n",
        "   - Both variables move in the **same direction**.\n",
        "   - Example: Hours studied and exam score.  \n",
        "     More hours studied → Higher exam score.\n",
        "\n",
        "2. **Negative Correlation:**\n",
        "   - Variables move in **opposite directions**.\n",
        "   - Example: Number of absences and exam score.  \n",
        "     More absences → Lower exam score.\n",
        "\n",
        "3. **No Correlation:**\n",
        "   - No clear relationship between variables.\n",
        "   - Example: Shoe size and exam score.\n",
        "\n",
        "---\n",
        "\n",
        "### 2. Correlation Coefficient:\n",
        "\n",
        "- Denoted by **r** (Pearson correlation coefficient).  \n",
        "- Values range **-1 to +1**:\n",
        "  - r = +1 → Perfect positive correlation\n",
        "  - r = -1 → Perfect negative correlation\n",
        "  - r = 0 → No correlation\n",
        "\n",
        "---\n",
        "\n"
      ],
      "metadata": {
        "id": "X7hieaSkIhO5"
      }
    },
    {
      "cell_type": "code",
      "source": [
        "# 3. Python Example (Calculating Correlation)\n",
        "\n",
        "import pandas as pd\n",
        "import seaborn as sns\n",
        "import matplotlib.pyplot as plt\n",
        "\n",
        "# Sample dataset\n",
        "df = pd.DataFrame({\n",
        "    'Hours_Studied': [2, 4, 6, 8, 10],\n",
        "    'Exam_Score': [50, 60, 70, 80, 90]\n",
        "})\n",
        "\n",
        "# Calculate correlation\n",
        "print(\"Correlation Matrix:\\n\", df.corr())\n",
        "\n",
        "# Visualize correlation using heatmap\n",
        "sns.heatmap(df.corr(), annot=True, cmap=\"coolwarm\")\n",
        "plt.show()\n"
      ],
      "metadata": {
        "colab": {
          "base_uri": "https://localhost:8080/",
          "height": 504
        },
        "id": "-Fd-mJ00Itat",
        "outputId": "418e0b08-e3cd-469f-db50-b6c8f6027f59"
      },
      "execution_count": 13,
      "outputs": [
        {
          "output_type": "stream",
          "name": "stdout",
          "text": [
            "Correlation Matrix:\n",
            "                Hours_Studied  Exam_Score\n",
            "Hours_Studied            1.0         1.0\n",
            "Exam_Score               1.0         1.0\n"
          ]
        },
        {
          "output_type": "display_data",
          "data": {
            "text/plain": [
              "<Figure size 640x480 with 2 Axes>"
            ],
            "image/png": "[encoded data removed]"
          },
          "metadata": {}
        }
      ]
    },
    {
      "cell_type": "markdown",
      "source": [
        "## Q13. What does Negative Correlation Mean?\n",
        "\n",
        "### Definition:\n",
        "**Negative correlation** occurs when **two variables move in opposite directions**.  \n",
        "- As one variable **increases**, the other **decreases**.  \n",
        "- The correlation coefficient (r) for a negative correlation is **between -1 and 0**.\n",
        "\n",
        "---\n",
        "\n",
        "### 1. Characteristics of Negative Correlation:\n",
        "- r = -1 → Perfect negative correlation  \n",
        "- r = 0 → No correlation  \n",
        "- r between -1 and 0 → Partial negative correlation  \n",
        "\n",
        "**Key Point:** A stronger negative correlation is closer to -1.\n",
        "\n",
        "---\n",
        "\n",
        "### 2. Examples of Negative Correlation:\n",
        "1. **Hours of TV watched vs Exam scores:**  \n",
        "   - More TV hours → Lower exam scores  \n",
        "   - Correlation coefficient r < 0  \n",
        "\n",
        "2. **Number of absences vs Work performance:**  \n",
        "   - More absences → Lower performance  \n",
        "   - r < 0  \n",
        "\n",
        "---\n",
        "\n"
      ],
      "metadata": {
        "id": "xVNHnfPKIwcy"
      }
    },
    {
      "cell_type": "code",
      "source": [
        "### 3. Python Example (Visualizing Negative Correlation)\n",
        "import pandas as pd\n",
        "import seaborn as sns\n",
        "import matplotlib.pyplot as plt\n",
        "\n",
        "# Sample dataset\n",
        "df = pd.DataFrame({\n",
        "    'Hours_TV': [1, 2, 3, 4, 5],\n",
        "    'Exam_Score': [90, 80, 70, 60, 50]\n",
        "})\n",
        "\n",
        "# Calculate correlation\n",
        "print(\"Correlation Matrix:\\n\", df.corr())\n",
        "\n",
        "# Visualize\n",
        "sns.scatterplot(x='Hours_TV', y='Exam_Score', data=df)\n",
        "plt.title(\"Negative Correlation: Hours of TV vs Exam Score\")\n",
        "plt.show()\n"
      ],
      "metadata": {
        "colab": {
          "base_uri": "https://localhost:8080/",
          "height": 541
        },
        "id": "Qvq_qSNUJPp4",
        "outputId": "3133b786-88a3-4d5b-c2a1-42063f15620f"
      },
      "execution_count": 14,
      "outputs": [
        {
          "output_type": "stream",
          "name": "stdout",
          "text": [
            "Correlation Matrix:\n",
            "             Hours_TV  Exam_Score\n",
            "Hours_TV         1.0        -1.0\n",
            "Exam_Score      -1.0         1.0\n"
          ]
        },
        {
          "output_type": "display_data",
          "data": {
            "text/plain": [
              "<Figure size 640x480 with 1 Axes>"
            ],
            "image/png": "[encoded data removed]"
          },
          "metadata": {}
        }
      ]
    },
    {
      "cell_type": "markdown",
      "source": [
        "## Q14. How can you find correlation between variables in Python?\n",
        "\n",
        "### Definition:\n",
        "Correlation measures the **relationship between two or more variables**. In Python, we can compute correlation using **Pandas** and visualize it using **Seaborn or Matplotlib**.\n",
        "\n",
        "---\n",
        "\n",
        "\n"
      ],
      "metadata": {
        "id": "3s9RXh4NJjgn"
      }
    },
    {
      "cell_type": "code",
      "source": [
        "### 1. Using Pandas `.corr()` Method\n",
        "import pandas as pd\n",
        "\n",
        "# Sample dataset\n",
        "df = pd.DataFrame({\n",
        "    'Hours_Studied': [2, 4, 6, 8, 10],\n",
        "    'Exam_Score': [50, 60, 70, 80, 90],\n",
        "    'Hours_TV': [5, 4, 3, 2, 1]\n",
        "})\n",
        "\n",
        "# Calculate correlation matrix\n",
        "correlation_matrix = df.corr()\n",
        "print(correlation_matrix)"
      ],
      "metadata": {
        "colab": {
          "base_uri": "https://localhost:8080/"
        },
        "id": "QrEQO9ZUJrSj",
        "outputId": "5f17a5a2-ab7a-4e4a-ab5a-469dbc3670c0"
      },
      "execution_count": 17,
      "outputs": [
        {
          "output_type": "stream",
          "name": "stdout",
          "text": [
            "               Hours_Studied  Exam_Score  Hours_TV\n",
            "Hours_Studied            1.0         1.0      -1.0\n",
            "Exam_Score               1.0         1.0      -1.0\n",
            "Hours_TV                -1.0        -1.0       1.0\n"
          ]
        }
      ]
    },
    {
      "cell_type": "code",
      "source": [
        "import seaborn as sns\n",
        "import matplotlib.pyplot as plt\n",
        "\n",
        "# Heatmap to visualize correlation\n",
        "sns.heatmap(correlation_matrix, annot=True, cmap=\"coolwarm\")\n",
        "plt.title(\"Correlation Matrix Heatmap\")\n",
        "plt.show()\n"
      ],
      "metadata": {
        "colab": {
          "base_uri": "https://localhost:8080/",
          "height": 452
        },
        "id": "7ogw7wQVJ04J",
        "outputId": "53d4127d-bf6a-4660-8dd0-2ea131b0af38"
      },
      "execution_count": 18,
      "outputs": [
        {
          "output_type": "display_data",
          "data": {
            "text/plain": [
              "<Figure size 640x480 with 2 Axes>"
            ],
            "image/png": "[encoded data removed]"
          },
          "metadata": {}
        }
      ]
    },
    {
      "cell_type": "code",
      "source": [
        "# Scatter plot to check relationship\n",
        "sns.scatterplot(x='Hours_Studied', y='Exam_Score', data=df)\n",
        "plt.title(\"Hours Studied vs Exam Score\")\n",
        "plt.show()\n",
        "\n",
        "sns.scatterplot(x='Hours_TV', y='Exam_Score', data=df)\n",
        "plt.title(\"Hours of TV vs Exam Score\")\n",
        "plt.show()\n"
      ],
      "metadata": {
        "colab": {
          "base_uri": "https://localhost:8080/",
          "height": 927
        },
        "id": "PCv0F3v4J7fE",
        "outputId": "7e1fa17b-4d2a-4214-8174-6aa1024d2ca7"
      },
      "execution_count": 19,
      "outputs": [
        {
          "output_type": "display_data",
          "data": {
            "text/plain": [
              "<Figure size 640x480 with 1 Axes>"
            ],
            "image/png": "[encoded data removed]"
          },
          "metadata": {}
        },
        {
          "output_type": "display_data",
          "data": {
            "text/plain": [
              "<Figure size 640x480 with 1 Axes>"
            ],
            "image/png": "[encoded data removed]"
          },
          "metadata": {}
        }
      ]
    },
    {
      "cell_type": "markdown",
      "source": [
        "## Q15. What is Causation? Explain Difference Between Correlation and Causation with an Example\n",
        "\n",
        "### 1. Definition of Causation:\n",
        "**Causation** (or causal relationship) means that **a change in one variable directly causes a change in another variable**.  \n",
        "- If X causes Y, then changing X will result in a change in Y.\n",
        "\n",
        "---\n",
        "\n",
        "### 2. Difference Between Correlation and Causation:\n",
        "\n",
        "| Aspect                  | Correlation                              | Causation                                      |\n",
        "|--------------------------|------------------------------------------|------------------------------------------------|\n",
        "| Meaning                  | Measures relationship/association       | Measures cause-and-effect relationship       |\n",
        "| Direction of effect      | No direction implied                     | One variable directly affects another        |\n",
        "| Interpretation           | X and Y move together (positive/negative) | X directly changes Y                          |\n",
        "| Example                  | Ice cream sales ↑ and drowning ↑        | Smoking → Lung cancer                         |\n",
        "| Can be inferred from data| Yes, using statistics                    | Requires controlled experiments or studies   |\n",
        "\n",
        "**Key Point:**  \n",
        "- Correlation does **not imply causation**.  \n",
        "- Two variables may be correlated due to a **third variable** or by coincidence.\n",
        "\n",
        "---\n",
        "\n",
        "\n"
      ],
      "metadata": {
        "id": "MShQk9aOKPa9"
      }
    },
    {
      "cell_type": "code",
      "source": [
        "### 3. Example in Python (Correlation vs Causation)\n",
        "import pandas as pd\n",
        "import seaborn as sns\n",
        "import matplotlib.pyplot as plt\n",
        "\n",
        "# Sample dataset showing correlation\n",
        "df = pd.DataFrame({\n",
        "    'Ice_Cream_Sales': [200, 300, 400, 500, 600],\n",
        "    'Drowning_Cases': [3, 5, 7, 9, 11]\n",
        "})\n",
        "\n",
        "# Correlation matrix\n",
        "print(df.corr())"
      ],
      "metadata": {
        "colab": {
          "base_uri": "https://localhost:8080/"
        },
        "id": "1Scftt0LKT0t",
        "outputId": "08b815c2-e23b-47c1-ab03-fe77e6ef47c2"
      },
      "execution_count": 20,
      "outputs": [
        {
          "output_type": "stream",
          "name": "stdout",
          "text": [
            "                 Ice_Cream_Sales  Drowning_Cases\n",
            "Ice_Cream_Sales              1.0             1.0\n",
            "Drowning_Cases               1.0             1.0\n"
          ]
        }
      ]
    },
    {
      "cell_type": "code",
      "source": [
        "# Heatmap\n",
        "sns.heatmap(df.corr(), annot=True, cmap=\"coolwarm\")\n",
        "plt.show()"
      ],
      "metadata": {
        "colab": {
          "base_uri": "https://localhost:8080/",
          "height": 435
        },
        "id": "mZJfRrbdKY6v",
        "outputId": "f88337a4-fa94-4d66-d7e2-1fe509e0af28"
      },
      "execution_count": 21,
      "outputs": [
        {
          "output_type": "display_data",
          "data": {
            "text/plain": [
              "<Figure size 640x480 with 2 Axes>"
            ],
            "image/png": "[encoded data removed]"
          },
          "metadata": {}
        }
      ]
    },
    {
      "cell_type": "code",
      "source": [
        "# Scatter plot\n",
        "sns.scatterplot(x='Ice_Cream_Sales', y='Drowning_Cases', data=df)\n",
        "plt.title(\"Correlation Example: Ice Cream vs Drowning Cases\")\n",
        "plt.show()"
      ],
      "metadata": {
        "colab": {
          "base_uri": "https://localhost:8080/",
          "height": 472
        },
        "id": "B5zUCNx3Kfge",
        "outputId": "dd59c1c4-1d05-4667-ef4c-e33ddfa16f9a"
      },
      "execution_count": 22,
      "outputs": [
        {
          "output_type": "display_data",
          "data": {
            "text/plain": [
              "<Figure size 640x480 with 1 Axes>"
            ],
            "image/png": "[encoded data removed]"
          },
          "metadata": {}
        }
      ]
    },
    {
      "cell_type": "markdown",
      "source": [
        "## Q16. What is an Optimizer? What Are Different Types of Optimizers? Explain Each with an Example\n",
        "\n",
        "### 1. Definition:\n",
        "An **optimizer** in Machine Learning and Deep Learning is an **algorithm used to update the weights of a model** to minimize the **loss function** during training.  \n",
        "- The goal is to **find the best set of parameters** that reduce error and improve model accuracy.\n",
        "\n",
        "---\n",
        "\n",
        "### 2. How Optimizers Work:\n",
        "1. Compute the **gradient** of the loss function w.r.t model parameters.  \n",
        "2. Adjust the weights in the **opposite direction of the gradient**.  \n",
        "3. Repeat until **loss is minimized**.\n",
        "\n",
        "---\n",
        "\n",
        "### 3. Types of Optimizers:\n",
        "\n",
        "#### (a) **Gradient Descent (GD)**\n",
        "- Updates weights using **all training samples** at once.  \n",
        "- Can be **slow** for large datasets.\n",
        "\n",
        "**Python Example (conceptual):**\n",
        "```python\n",
        "# Pseudocode for Gradient Descent\n",
        "weight = 0\n",
        "learning_rate = 0.01\n",
        "for i in range(100):\n",
        "    gradient = compute_gradient(X, y, weight)\n",
        "    weight = weight - learning_rate * gradient\n"
      ],
      "metadata": {
        "id": "vSrBzgVxKlSp"
      }
    },
    {
      "cell_type": "markdown",
      "source": [
        "(b) Stochastic Gradient Descent (SGD)\n",
        "\n",
        "Updates weights for each training example.\n",
        "\n",
        "Faster but more noisy updates."
      ],
      "metadata": {
        "id": "huF7jycMMOeZ"
      }
    },
    {
      "cell_type": "code",
      "source": [
        "import numpy as np\n",
        "\n",
        "# Sample dataset (X = feature, y = target)\n",
        "X = np.array([1, 2, 3, 4, 5], dtype=float)\n",
        "y = np.array([2, 4, 6, 8, 10], dtype=float)  # Target: y = 2 * x\n",
        "\n",
        "# Initialize weight\n",
        "weight = 0.0\n",
        "learning_rate = 0.01\n",
        "epochs = 10\n",
        "\n",
        "# SGD loop\n",
        "for epoch in range(epochs):\n",
        "    for x_i, y_i in zip(X, y):\n",
        "        # Simple gradient: dL/dW = 2 * (y_pred - y) * x\n",
        "        y_pred = weight * x_i\n",
        "        gradient = 2 * (y_pred - y_i) * x_i\n",
        "        weight -= learning_rate * gradient\n",
        "    print(f\"Epoch {epoch+1}, Weight: {weight:.4f}\")\n",
        "\n",
        "# Final weight should be close to 2 (since y = 2*x)\n"
      ],
      "metadata": {
        "colab": {
          "base_uri": "https://localhost:8080/"
        },
        "id": "cs1TwgExMEAS",
        "outputId": "7501cd25-2f41-43d2-ad79-0d4654dd13b3"
      },
      "execution_count": 27,
      "outputs": [
        {
          "output_type": "stream",
          "name": "stdout",
          "text": [
            "Epoch 1, Weight: 1.4973\n",
            "Epoch 2, Weight: 1.8736\n",
            "Epoch 3, Weight: 1.9682\n",
            "Epoch 4, Weight: 1.9920\n",
            "Epoch 5, Weight: 1.9980\n",
            "Epoch 6, Weight: 1.9995\n",
            "Epoch 7, Weight: 1.9999\n",
            "Epoch 8, Weight: 2.0000\n",
            "Epoch 9, Weight: 2.0000\n",
            "Epoch 10, Weight: 2.0000\n"
          ]
        }
      ]
    },
    {
      "cell_type": "markdown",
      "source": [
        "(c) Mini-Batch Gradient Descent\n",
        "\n",
        "Updates weights using small batches of data.\n",
        "\n",
        "Balances speed and stability."
      ],
      "metadata": {
        "id": "2CWmtfVLML1R"
      }
    },
    {
      "cell_type": "code",
      "source": [
        "import numpy as np\n",
        "\n",
        "# Sample dataset (X = feature, y = target)\n",
        "X = np.array([1, 2, 3, 4, 5], dtype=float)\n",
        "y = np.array([2, 4, 6, 8, 10], dtype=float)\n",
        "\n",
        "# Initialize weight\n",
        "weight = 0.0\n",
        "learning_rate = 0.01\n",
        "epochs = 5\n",
        "batch_size = 2  # Mini-batch size\n",
        "\n",
        "# Function to create mini-batches\n",
        "def create_batches(X, y, batch_size):\n",
        "    for i in range(0, len(X), batch_size):\n",
        "        yield X[i:i+batch_size], y[i:i+batch_size]\n",
        "\n",
        "# Mini-Batch Gradient Descent\n",
        "for epoch in range(epochs):\n",
        "    for X_batch, y_batch in create_batches(X, y, batch_size):\n",
        "        # Compute gradient for batch\n",
        "        grad = 2 * np.sum((weight * X_batch - y_batch) * X_batch) / len(X_batch)\n",
        "        # Update weight\n",
        "        weight -= learning_rate * grad\n",
        "    print(f\"Epoch {epoch+1}, Weight: {weight:.4f}\")\n"
      ],
      "metadata": {
        "colab": {
          "base_uri": "https://localhost:8080/"
        },
        "id": "3B7L4WSiMNtF",
        "outputId": "3dcd938c-7e12-4c62-848f-7014dc049421"
      },
      "execution_count": 29,
      "outputs": [
        {
          "output_type": "stream",
          "name": "stdout",
          "text": [
            "Epoch 1, Weight: 1.2875\n",
            "Epoch 2, Weight: 1.7462\n",
            "Epoch 3, Weight: 1.9096\n",
            "Epoch 4, Weight: 1.9678\n",
            "Epoch 5, Weight: 1.9885\n"
          ]
        }
      ]
    },
    {
      "cell_type": "markdown",
      "source": [
        "## Q17. What is `sklearn.linear_model`?\n",
        "\n",
        "### Definition:\n",
        "`sklearn.linear_model` is a **module in Scikit-learn** that provides classes and functions to implement **linear models** for regression and classification.  \n",
        "\n",
        "Linear models try to **predict the target variable as a linear combination of input features**.\n",
        "\n",
        "---\n",
        "\n",
        "### 1. Common Linear Models in `sklearn.linear_model`:\n",
        "\n",
        "1. **LinearRegression**  \n",
        "   - Used for **predicting continuous target variables**.  \n",
        "   - Formula: `y = w1*x1 + w2*x2 + ... + b`  \n",
        "\n",
        "2. **LogisticRegression**  \n",
        "   - Used for **classification problems** (binary/multi-class).  \n",
        "   - Predicts probabilities using the **sigmoid function**.  \n",
        "\n",
        "3. **Ridge**  \n",
        "   - Linear regression with **L2 regularization**.  \n",
        "   - Prevents overfitting.  \n",
        "\n",
        "4. **Lasso**  \n",
        "   - Linear regression with **L1 regularization**.  \n",
        "   - Can perform **feature selection** by shrinking some coefficients to zero.  \n",
        "\n",
        "5. **ElasticNet**  \n",
        "   - Combines **L1 and L2 regularization**.  \n",
        "\n",
        "---\n",
        "\n"
      ],
      "metadata": {
        "id": "_BplVZw7Mmk2"
      }
    },
    {
      "cell_type": "code",
      "source": [
        "## 2. Python Example (Linear Regression)\n",
        "from sklearn.linear_model import LinearRegression\n",
        "import pandas as pd\n",
        "\n",
        "# Sample dataset\n",
        "df = pd.DataFrame({\n",
        "    'Hours_Studied': [2, 4, 6, 8, 10],\n",
        "    'Exam_Score': [50, 60, 70, 80, 90]\n",
        "})\n",
        "\n",
        "X = df[['Hours_Studied']]\n",
        "y = df['Exam_Score']\n",
        "\n",
        "# Initialize and train model\n",
        "model = LinearRegression()\n",
        "model.fit(X, y)\n",
        "\n",
        "# Make prediction\n",
        "y_pred = model.predict([[5]])\n",
        "print(\"Predicted Score for 5 hours studied:\", y_pred[0])\n"
      ],
      "metadata": {
        "colab": {
          "base_uri": "https://localhost:8080/"
        },
        "id": "HCKXp-RuMppW",
        "outputId": "9dd60841-f500-4e57-f0da-ef56318c966c"
      },
      "execution_count": 30,
      "outputs": [
        {
          "output_type": "stream",
          "name": "stdout",
          "text": [
            "Predicted Score for 5 hours studied: 65.0\n"
          ]
        },
        {
          "output_type": "stream",
          "name": "stderr",
          "text": [
            "/usr/local/lib/python3.12/dist-packages/sklearn/utils/validation.py:2739: UserWarning: X does not have valid feature names, but LinearRegression was fitted with feature names\n",
            "  warnings.warn(\n"
          ]
        }
      ]
    },
    {
      "cell_type": "markdown",
      "source": [
        "## Q18. What does `model.fit()` do? What arguments must be given?\n",
        "\n",
        "### Definition:\n",
        "`model.fit()` is a **method in Scikit-learn** used to **train a machine learning model**.  \n",
        "- It finds the **best parameters/weights** for the model using the training data.  \n",
        "- After fitting, the model can **predict outcomes** on new data using `model.predict()`.\n",
        "\n",
        "---\n",
        "\n",
        "### 1. Arguments:\n",
        "\n",
        "The arguments depend on the type of model, but generally:\n",
        "\n",
        "1. **X (Features):**\n",
        "   - Input data for training.  \n",
        "   - Can be a **2D array or DataFrame**.  \n",
        "   - Shape: `(n_samples, n_features)`\n",
        "\n",
        "2. **y (Target/Labels):**\n",
        "   - Output variable for supervised learning.  \n",
        "   - Shape: `(n_samples,)` for regression or classification.  \n",
        "\n",
        "**Optional arguments:**  \n",
        "- `sample_weight` → weights for training samples  \n",
        "- Model-specific hyperparameters (already set during model initialization)\n",
        "\n",
        "---\n",
        "\n"
      ],
      "metadata": {
        "id": "-ASKbVx3M_er"
      }
    },
    {
      "cell_type": "code",
      "source": [
        "### 2. Python Example (Linear Regression)\n",
        "\n",
        "from sklearn.linear_model import LinearRegression\n",
        "import pandas as pd\n",
        "\n",
        "# Sample dataset\n",
        "df = pd.DataFrame({\n",
        "    'Hours_Studied': [2, 4, 6, 8, 10],\n",
        "    'Exam_Score': [50, 60, 70, 80, 90]\n",
        "})\n",
        "\n",
        "X = df[['Hours_Studied']]\n",
        "y = df['Exam_Score']\n",
        "\n",
        "# Initialize model\n",
        "model = LinearRegression()\n",
        "\n",
        "# Fit the model\n",
        "model.fit(X, y)  # X = features, y = target\n",
        "\n",
        "# Model is now trained\n",
        "print(\"Model Coefficient:\", model.coef_)\n",
        "print(\"Model Intercept:\", model.intercept_)\n"
      ],
      "metadata": {
        "colab": {
          "base_uri": "https://localhost:8080/"
        },
        "id": "orJRk-4BNEOy",
        "outputId": "d36fa516-2edb-45bc-b058-56779139cd93"
      },
      "execution_count": 31,
      "outputs": [
        {
          "output_type": "stream",
          "name": "stdout",
          "text": [
            "Model Coefficient: [5.]\n",
            "Model Intercept: 40.00000000000001\n"
          ]
        }
      ]
    },
    {
      "cell_type": "markdown",
      "source": [
        "## Q19. What does `model.predict()` do? What arguments must be given?\n",
        "\n",
        "### Definition:\n",
        "`model.predict()` is a method in **Scikit-learn** used to **make predictions using a trained model**.  \n",
        "- After training a model with `model.fit()`, `predict()` applies the learned parameters to **new/unseen input data** to estimate the output.\n",
        "\n",
        "---\n",
        "\n",
        "### 1. Arguments:\n",
        "\n",
        "1. **X (Features for prediction):**\n",
        "   - Input data for which predictions are required.  \n",
        "   - Must have the **same number of features** as the data used during training.  \n",
        "   - Can be a **2D array or DataFrame**.  \n",
        "   - Shape: `(n_samples, n_features)`\n",
        "\n",
        "**Optional arguments:**  \n",
        "- Some models accept additional parameters, but normally only `X` is required.\n",
        "\n",
        "---\n",
        "\n"
      ],
      "metadata": {
        "id": "BkpVuxhUNG0v"
      }
    },
    {
      "cell_type": "code",
      "source": [
        "### 2. Python Example (Linear Regression)\n",
        "\n",
        "from sklearn.linear_model import LinearRegression\n",
        "import pandas as pd\n",
        "\n",
        "# Sample dataset\n",
        "df = pd.DataFrame({\n",
        "    'Hours_Studied': [2, 4, 6, 8, 10],\n",
        "    'Exam_Score': [50, 60, 70, 80, 90]\n",
        "})\n",
        "\n",
        "X_train = df[['Hours_Studied']]\n",
        "y_train = df['Exam_Score']\n",
        "\n",
        "# Train model\n",
        "model = LinearRegression()\n",
        "model.fit(X_train, y_train)\n",
        "\n",
        "# Make predictions\n",
        "X_new = pd.DataFrame({'Hours_Studied': [3, 7]})\n",
        "y_pred = model.predict(X_new)\n",
        "print(\"Predicted Scores:\", y_pred)\n"
      ],
      "metadata": {
        "colab": {
          "base_uri": "https://localhost:8080/"
        },
        "id": "pWhQ2eX6Nod5",
        "outputId": "d1ee24e8-6f8e-476a-8a56-bee0656f3016"
      },
      "execution_count": 32,
      "outputs": [
        {
          "output_type": "stream",
          "name": "stdout",
          "text": [
            "Predicted Scores: [55. 75.]\n"
          ]
        }
      ]
    },
    {
      "cell_type": "markdown",
      "source": [
        "## Q20. What Are Continuous and Categorical Variables?\n",
        "\n",
        "### 1. Continuous Variables:\n",
        "- **Definition:** Continuous variables are numeric variables that can take **any value within a range**.  \n",
        "- **Characteristics:**\n",
        "  1. Can take fractional or decimal values.  \n",
        "  2. Can be measured, not just counted.  \n",
        "  3. Usually used in mathematical operations.  \n",
        "- **Examples:**  \n",
        "  - Height of a person (150.5 cm, 160.2 cm)  \n",
        "  - Weight of a person (50.7 kg, 72.3 kg)  \n",
        "  - Temperature (36.6°C, 37.2°C)  \n",
        "\n",
        "---\n",
        "\n",
        "### 2. Categorical Variables:\n",
        "- **Definition:** Categorical variables represent **categories or classes** rather than numeric values.  \n",
        "- **Characteristics:**\n",
        "  1. Can be **nominal** (no order) or **ordinal** (ordered).  \n",
        "  2. Cannot perform direct mathematical operations.  \n",
        "- **Examples:**  \n",
        "  - Gender (Male, Female) – Nominal  \n",
        "  - Education Level (High School, Bachelor, Master) – Ordinal  \n",
        "  - Colors (Red, Blue, Green) – Nominal  \n",
        "\n",
        "---\n",
        "\n",
        "### 3. Key Points:\n",
        "- Continuous variables are **quantitative and measurable**.  \n",
        "- Categorical variables are **qualitative and class-based**.  \n",
        "- Correct identification is crucial for **data preprocessing, encoding, and model building**.\n",
        "\n",
        "---\n",
        "\n"
      ],
      "metadata": {
        "id": "qs-53FUdPfSO"
      }
    },
    {
      "cell_type": "code",
      "source": [
        "### 4. Python Example:\n",
        "\n",
        "import pandas as pd\n",
        "\n",
        "# Sample dataset\n",
        "df = pd.DataFrame({\n",
        "    'Height': [150.5, 160.2, 170.1],   # Continuous\n",
        "    'Gender': ['Male', 'Female', 'Male']  # Categorical\n",
        "})\n",
        "\n",
        "print(df)\n"
      ],
      "metadata": {
        "colab": {
          "base_uri": "https://localhost:8080/"
        },
        "id": "opD5OrDeP3wS",
        "outputId": "f7dab447-77de-4eb5-e887-10c64df9fa67"
      },
      "execution_count": 37,
      "outputs": [
        {
          "output_type": "stream",
          "name": "stdout",
          "text": [
            "   Height  Gender\n",
            "0   150.5    Male\n",
            "1   160.2  Female\n",
            "2   170.1    Male\n"
          ]
        }
      ]
    },
    {
      "cell_type": "markdown",
      "source": [
        "## Q21. What is Feature Scaling? How Does It Help in Machine Learning?\n",
        "\n",
        "### Definition:\n",
        "**Feature scaling** is the process of **standardizing or normalizing** the range of independent variables (features) in a dataset.  \n",
        "- Ensures that **all features contribute equally** to the model.  \n",
        "- Prevents features with large values from **dominating the model**.\n",
        "\n",
        "---\n",
        "\n",
        "### 1. Why Feature Scaling is Important:\n",
        "\n",
        "1. **Models using distance metrics:**  \n",
        "   - Algorithms like **K-Nearest Neighbors (KNN)**, **K-Means**, and **SVM** are sensitive to feature scale.  \n",
        "\n",
        "2. **Gradient-based optimization:**  \n",
        "   - Algorithms like **Gradient Descent** converge faster when features are scaled.  \n",
        "\n",
        "3. **Prevent bias:**  \n",
        "   - Features with larger ranges can **bias the model**, while smaller-range features may be ignored.\n",
        "\n",
        "---\n",
        "\n",
        "### 2. Common Techniques:\n",
        "\n",
        "1. **Min-Max Scaling (Normalization):**  \n",
        "   - Scales data to a fixed range `[0, 1]`.  \n",
        "   - Formula: \\( X_{\\text{scaled}} = \\frac{X - X_{\\min}}{X_{\\max} - X_{\\min}} \\)  \n",
        "\n",
        "2. **Standardization (Z-score Scaling):**  \n",
        "   - Scales data to have **mean = 0** and **standard deviation = 1**.  \n",
        "   - Formula: \\( X_{\\text{scaled}} = \\frac{X - \\mu}{\\sigma} \\)  \n",
        "\n",
        "3. **Robust Scaling:**  \n",
        "   - Uses **median and IQR**, less sensitive to outliers.\n",
        "\n",
        "---\n",
        "\n"
      ],
      "metadata": {
        "id": "IEjKkNxQNvwM"
      }
    },
    {
      "cell_type": "code",
      "source": [
        "### 3. Python Example (Using `sklearn.preprocessing`)\n",
        "\n",
        "from sklearn.preprocessing import StandardScaler, MinMaxScaler\n",
        "import pandas as pd\n",
        "\n",
        "# Sample dataset\n",
        "df = pd.DataFrame({\n",
        "    'Height': [150, 160, 170, 180],\n",
        "    'Weight': [50, 60, 70, 80]\n",
        "})\n",
        "\n",
        "# Standardization\n",
        "scaler_std = StandardScaler()\n",
        "df_std = scaler_std.fit_transform(df)\n",
        "print(\"Standardized Data:\\n\", df_std)\n",
        "\n",
        "# Min-Max Scaling\n",
        "scaler_mm = MinMaxScaler()\n",
        "df_mm = scaler_mm.fit_transform(df)\n",
        "print(\"Min-Max Scaled Data:\\n\", df_mm)\n"
      ],
      "metadata": {
        "colab": {
          "base_uri": "https://localhost:8080/"
        },
        "id": "KPXHL0ZqN4DW",
        "outputId": "ca4c367f-b439-4e74-ad0f-24c8e1c7d2a5"
      },
      "execution_count": 34,
      "outputs": [
        {
          "output_type": "stream",
          "name": "stdout",
          "text": [
            "Standardized Data:\n",
            " [[-1.34164079 -1.34164079]\n",
            " [-0.4472136  -0.4472136 ]\n",
            " [ 0.4472136   0.4472136 ]\n",
            " [ 1.34164079  1.34164079]]\n",
            "Min-Max Scaled Data:\n",
            " [[0.         0.        ]\n",
            " [0.33333333 0.33333333]\n",
            " [0.66666667 0.66666667]\n",
            " [1.         1.        ]]\n"
          ]
        }
      ]
    },
    {
      "cell_type": "markdown",
      "source": [
        "## Q22. How Do We Perform Scaling in Python? What is `sklearn.preprocessing`?\n",
        "\n",
        "### 1. Definition of `sklearn.preprocessing`:\n",
        "`sklearn.preprocessing` is a **module in Scikit-learn** that provides tools for **preprocessing and scaling data**, including:\n",
        "\n",
        "- **Normalization / Standardization**  \n",
        "- **Encoding categorical variables**  \n",
        "- **Binarization**  \n",
        "- **Imputation / handling missing values**  \n",
        "\n",
        "---\n",
        "\n",
        "\n"
      ],
      "metadata": {
        "id": "dT_qqToVOnlX"
      }
    },
    {
      "cell_type": "code",
      "source": [
        "### 2. Performing Feature Scaling in Python:\n",
        "\n",
        "#**Step 1: Import required scaler**\n",
        "\n",
        "from sklearn.preprocessing import StandardScaler, MinMaxScaler\n",
        "import pandas as pd\n",
        "# Sample dataset\n",
        "df = pd.DataFrame({\n",
        "    'Height': [150, 160, 170, 180],\n",
        "    'Weight': [50, 60, 70, 80]\n",
        "})\n",
        "\n",
        "scaler_std = StandardScaler()\n",
        "df_std = scaler_std.fit_transform(df)\n",
        "print(\"Standardized Data:\\n\", df_std)\n",
        "\n",
        "scaler_mm = MinMaxScaler()\n",
        "df_mm = scaler_mm.fit_transform(df)\n",
        "print(\"Min-Max Scaled Data:\\n\", df_mm)\n"
      ],
      "metadata": {
        "colab": {
          "base_uri": "https://localhost:8080/"
        },
        "id": "24Md0ZSEO3wO",
        "outputId": "73698102-29b9-4a9e-d77e-246ca8f176e5"
      },
      "execution_count": 36,
      "outputs": [
        {
          "output_type": "stream",
          "name": "stdout",
          "text": [
            "Standardized Data:\n",
            " [[-1.34164079 -1.34164079]\n",
            " [-0.4472136  -0.4472136 ]\n",
            " [ 0.4472136   0.4472136 ]\n",
            " [ 1.34164079  1.34164079]]\n",
            "Min-Max Scaled Data:\n",
            " [[0.         0.        ]\n",
            " [0.33333333 0.33333333]\n",
            " [0.66666667 0.66666667]\n",
            " [1.         1.        ]]\n"
          ]
        }
      ]
    },
    {
      "cell_type": "markdown",
      "source": [
        "## Q23. What is `sklearn.preprocessing`?\n",
        "\n",
        "### 1. Definition:\n",
        "`sklearn.preprocessing` is a **module in Scikit-learn** that provides tools for **preprocessing and transforming data** before feeding it into a Machine Learning model.  \n",
        "- Helps prepare data so that **models perform better and converge faster**.\n",
        "\n",
        "---\n",
        "\n",
        "### 2. Purpose of `sklearn.preprocessing`:\n",
        "1. **Feature Scaling:**  \n",
        "   - Standardize or normalize numeric features.  \n",
        "   - Important for **gradient-based algorithms** and **distance-based models**.\n",
        "\n",
        "2. **Encoding Categorical Variables:**  \n",
        "   - Convert categorical data into numeric form.  \n",
        "   - Example: `LabelEncoder`, `OneHotEncoder`.\n",
        "\n",
        "3. **Data Normalization:**  \n",
        "   - Scale features to **unit norm** (important for KNN, SVM).\n",
        "\n",
        "4. **Handling Outliers / Missing Values (Preprocessing utilities):**  \n",
        "   - Impute missing values using `SimpleImputer`.\n",
        "\n",
        "---\n",
        "\n",
        "### 3. Common Functions / Classes:\n",
        "\n",
        "| Function/Class         | Purpose                                       |\n",
        "|------------------------|-----------------------------------------------|\n",
        "| `StandardScaler`       | Standardization (mean=0, std=1)              |\n",
        "| `MinMaxScaler`         | Normalization (range 0–1)                    |\n",
        "| `RobustScaler`         | Scaling robust to outliers                    |\n",
        "| `LabelEncoder`         | Encode labels as integers                     |\n",
        "| `OneHotEncoder`        | Encode categorical variables as binary vectors |\n",
        "\n",
        "---\n",
        "\n"
      ],
      "metadata": {
        "id": "Nao717vNQCGy"
      }
    },
    {
      "cell_type": "code",
      "source": [
        "## 4. Python Example:\n",
        "\n",
        "import pandas as pd\n",
        "from sklearn.preprocessing import StandardScaler, OneHotEncoder\n",
        "\n",
        "# Sample dataset\n",
        "df = pd.DataFrame({\n",
        "    'Height': [150, 160, 170],\n",
        "    'Color': ['Red', 'Blue', 'Green']\n",
        "})\n",
        "\n",
        "# Standardize numeric feature\n",
        "scaler = StandardScaler()\n",
        "df[['Height']] = scaler.fit_transform(df[['Height']])\n",
        "print(\"Standardized Height:\\n\", df[['Height']])\n",
        "\n",
        "# One-hot encode categorical feature\n",
        "encoder = OneHotEncoder(sparse_output=False)\n",
        "encoded_color = encoder.fit_transform(df[['Color']])\n",
        "print(\"One-hot Encoded Colors:\\n\", encoded_color)\n"
      ],
      "metadata": {
        "colab": {
          "base_uri": "https://localhost:8080/"
        },
        "id": "UNkfYnA1QTBb",
        "outputId": "94e1f417-941f-4f1b-db3e-4d6fa92fdefc"
      },
      "execution_count": 38,
      "outputs": [
        {
          "output_type": "stream",
          "name": "stdout",
          "text": [
            "Standardized Height:\n",
            "      Height\n",
            "0 -1.224745\n",
            "1  0.000000\n",
            "2  1.224745\n",
            "One-hot Encoded Colors:\n",
            " [[0. 0. 1.]\n",
            " [1. 0. 0.]\n",
            " [0. 1. 0.]]\n"
          ]
        }
      ]
    },
    {
      "cell_type": "markdown",
      "source": [
        "## Q24. How Do We Split Data for Model Fitting (Training and Testing) in Python?\n",
        "\n",
        "\n",
        "### 1. Definition:\n",
        "- **Training set:** Subset of the dataset used to **train the model**.  \n",
        "- **Testing set:** Subset of the dataset used to **evaluate model performance** on unseen data.  \n",
        "- Splitting data ensures the model **generalizes well** and prevents **overfitting**.\n",
        "\n",
        "---\n",
        "\n",
        "### 2. Common Practice:\n",
        "- Typical split: **70% training, 30% testing** or **80% training, 20% testing**.  \n",
        "- Use `random_state` to **reproduce the same split** every time.\n",
        "\n",
        "---\n",
        "\n"
      ],
      "metadata": {
        "id": "NpGsn_6_QV7x"
      }
    },
    {
      "cell_type": "code",
      "source": [
        "### 3. Python Implementation (Using `train_test_split`)\n",
        "\n",
        "\n",
        "import pandas as pd\n",
        "from sklearn.model_selection import train_test_split\n",
        "\n",
        "# Sample dataset\n",
        "df = pd.DataFrame({\n",
        "    'Hours_Studied': [2, 4, 6, 8, 10],\n",
        "    'Exam_Score': [50, 60, 70, 80, 90]\n",
        "})\n",
        "\n",
        "# Features and target\n",
        "X = df[['Hours_Studied']]  # Feature(s)\n",
        "y = df['Exam_Score']       # Target variable\n",
        "\n",
        "# Split data into training and testing sets\n",
        "X_train, X_test, y_train, y_test = train_test_split(\n",
        "    X, y, test_size=0.2, random_state=42\n",
        ")\n",
        "\n",
        "# Display shapes of split datasets\n",
        "print(\"X_train shape:\", X_train.shape)\n",
        "print(\"X_test shape:\", X_test.shape)\n",
        "print(\"y_train shape:\", y_train.shape)\n",
        "print(\"y_test shape:\", y_test.shape)\n"
      ],
      "metadata": {
        "colab": {
          "base_uri": "https://localhost:8080/"
        },
        "id": "GBhpH0TDQmz1",
        "outputId": "c63dcb02-b80e-470d-a17a-00faed56ce53"
      },
      "execution_count": 39,
      "outputs": [
        {
          "output_type": "stream",
          "name": "stdout",
          "text": [
            "X_train shape: (4, 1)\n",
            "X_test shape: (1, 1)\n",
            "y_train shape: (4,)\n",
            "y_test shape: (1,)\n"
          ]
        }
      ]
    },
    {
      "cell_type": "markdown",
      "source": [
        "## Q25. Explain Data Encoding\n",
        "\n",
        "### 1. Definition:\n",
        "**Data encoding** is the process of **converting categorical data into numerical format** so that Machine Learning models can process it.  \n",
        "- Most ML algorithms require **numeric input**.  \n",
        "- Encoding ensures categorical variables can be used **effectively in models**.\n",
        "\n",
        "---\n",
        "\n",
        "### 2. Types of Categorical Variables:\n",
        "1. **Nominal:** Categories with **no order** (e.g., Color: Red, Blue, Green)  \n",
        "2. **Ordinal:** Categories with **order/rank** (e.g., Education: High School < Bachelor < Master)\n",
        "\n",
        "---\n",
        "\n",
        "### 3. Common Data Encoding Techniques:\n",
        "\n",
        "#### (a) Label Encoding\n",
        "- Assigns a **unique integer** to each category.  \n",
        "- Suitable for **ordinal data**.  \n"
      ],
      "metadata": {
        "id": "Ovo70JT6QrIm"
      }
    },
    {
      "cell_type": "code",
      "source": [
        " #**Python Example:**\n",
        "\n",
        "from sklearn.preprocessing import LabelEncoder\n",
        "import pandas as pd\n",
        "\n",
        "df = pd.DataFrame({'Education': ['High School', 'Bachelor', 'Master']})\n",
        "encoder = LabelEncoder()\n",
        "df['Education_Label'] = encoder.fit_transform(df['Education'])\n",
        "print(df)\n"
      ],
      "metadata": {
        "colab": {
          "base_uri": "https://localhost:8080/"
        },
        "id": "x5CfCNBURB3r",
        "outputId": "9d0911a4-1686-4a7c-9a3a-90f6986f92ff"
      },
      "execution_count": 41,
      "outputs": [
        {
          "output_type": "stream",
          "name": "stdout",
          "text": [
            "     Education  Education_Label\n",
            "0  High School                1\n",
            "1     Bachelor                0\n",
            "2       Master                2\n"
          ]
        }
      ]
    },
    {
      "cell_type": "markdown",
      "source": [
        "(b) One-Hot Encoding\n",
        "\n",
        "Converts categories into binary vectors.\n",
        "\n",
        "Suitable for nominal data."
      ],
      "metadata": {
        "id": "ON106z6SRMeM"
      }
    },
    {
      "cell_type": "code",
      "source": [
        "from sklearn.preprocessing import OneHotEncoder\n",
        "\n",
        "df = pd.DataFrame({'Color': ['Red', 'Blue', 'Green']})\n",
        "encoder = OneHotEncoder(sparse_output=False)\n",
        "encoded = encoder.fit_transform(df[['Color']])\n",
        "print(encoded)\n"
      ],
      "metadata": {
        "colab": {
          "base_uri": "https://localhost:8080/"
        },
        "id": "g2FMmqpTRNc7",
        "outputId": "06e357d9-ada6-42f6-ae62-293311b8d1f6"
      },
      "execution_count": 42,
      "outputs": [
        {
          "output_type": "stream",
          "name": "stdout",
          "text": [
            "[[0. 0. 1.]\n",
            " [1. 0. 0.]\n",
            " [0. 1. 0.]]\n"
          ]
        }
      ]
    },
    {
      "cell_type": "markdown",
      "source": [
        "(c) Target / Mean Encoding\n",
        "\n",
        "Replaces categories with the mean of the target variable for that category.\n",
        "\n",
        "Used in regression problems."
      ],
      "metadata": {
        "id": "Wp8CGAtvRQuU"
      }
    },
    {
      "cell_type": "code",
      "source": [
        "### Python Example:\n",
        "\n",
        "import pandas as pd\n",
        "\n",
        "# Sample dataset\n",
        "df = pd.DataFrame({\n",
        "    'City': ['Delhi', 'Mumbai', 'Delhi', 'Mumbai', 'Chennai', 'Delhi'],\n",
        "    'House_Price': [500, 600, 550, 650, 700, 580]\n",
        "})\n",
        "\n",
        "# Compute mean price per city\n",
        "mean_encoding = df.groupby('City')['House_Price'].mean()\n",
        "df['City_Encoded'] = df['City'].map(mean_encoding)\n",
        "\n",
        "print(df)"
      ],
      "metadata": {
        "colab": {
          "base_uri": "https://localhost:8080/"
        },
        "id": "ADqJCNcsSANf",
        "outputId": "dd5511da-d5ee-4a80-e60e-f76d29e38c92"
      },
      "execution_count": 43,
      "outputs": [
        {
          "output_type": "stream",
          "name": "stdout",
          "text": [
            "      City  House_Price  City_Encoded\n",
            "0    Delhi          500    543.333333\n",
            "1   Mumbai          600    625.000000\n",
            "2    Delhi          550    543.333333\n",
            "3   Mumbai          650    625.000000\n",
            "4  Chennai          700    700.000000\n",
            "5    Delhi          580    543.333333\n"
          ]
        }
      ]
    }
  ]
}