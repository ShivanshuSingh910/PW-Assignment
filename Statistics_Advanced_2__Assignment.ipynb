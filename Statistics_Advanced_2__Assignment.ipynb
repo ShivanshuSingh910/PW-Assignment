{
  "nbformat": 4,
  "nbformat_minor": 0,
  "metadata": {
    "colab": {
      "provenance": []
    },
    "kernelspec": {
      "name": "python3",
      "display_name": "Python 3"
    },
    "language_info": {
      "name": "python"
    }
  },
  "cells": [
    {
      "cell_type": "markdown",
      "source": [
        "#**Statistics Advanced - 2| Assignment**\n"
      ],
      "metadata": {
        "id": "0VgbCQLJeci3"
      }
    },
    {
      "cell_type": "markdown",
      "source": [
        "**Question 1**: What is hypothesis testing in statistics?\n"
      ],
      "metadata": {
        "id": "prtwCClrekKp"
      }
    },
    {
      "cell_type": "markdown",
      "source": [
        "**Answer 1:**  Hypothesis testing is a statistical method used to make decisions or draw conclusions about a population parameter based on sample data. It helps us check whether the evidence from the sample is strong enough to support or reject a claim (called a hypothesis) about the population.\n",
        "\n",
        "**Steps in Hypothesis Testing:**\n",
        "\n",
        "1.  State the hypotheses:\n",
        "\n",
        "      - Null Hypothesis (H₀): Assumes no effect or no difference. (e.g., “The mean = 50”)\n",
        "\n",
        "     - Alternative Hypothesis (H₁ or Ha): Assumes there is an effect or difference. (e.g., “The mean ≠ 50”)\n",
        "\n",
        "2. Choose significance level (α):\n",
        "\n",
        "    - Common choices: 0.05, 0.01.\n",
        "\n",
        "    - It represents the probability of rejecting H₀ when it is actually true.\n",
        "\n",
        "3. Select the test statistic:\n",
        "\n",
        "    - Example: z-test, t-test, chi-square test, F-test depending on data type.\n",
        "\n",
        "4. Compute the test statistic & p-value:\n",
        "\n",
        "   - p-value: Probability of obtaining the observed result if H₀ is true.\n",
        "\n",
        "5. Make a decision:\n",
        "\n",
        "   - If p-value ≤ α, reject H₀ (evidence supports H₁).\n",
        "\n",
        "   - If p-value > α, fail to reject H₀ (not enough evidence against H₀)."
      ],
      "metadata": {
        "id": "4L5XKgt2ern8"
      }
    },
    {
      "cell_type": "markdown",
      "source": [
        "**Question 2**: What is the null hypothesis, and how does it differ from the alternative\n",
        "hypothesis?"
      ],
      "metadata": {
        "id": "-fRZxzsxgsRW"
      }
    },
    {
      "cell_type": "markdown",
      "source": [
        "**Answer 2**:   In statistics, hypothesis testing is used to make decisions about population parameters based on sample data. For this purpose, two types of hypotheses are framed: Null Hypothesis (H₀) and Alternative Hypothesis (H₁ or Ha).\n",
        "\n",
        "1. Null Hypothesis (H₀)\n",
        "\n",
        "- The null hypothesis is the default assumption that there is no significant difference, effect, or relationship between variables.\n",
        "\n",
        "- It represents the status quo or existing claim.\n",
        "\n",
        "- The aim of testing is to check if the sample data provides enough evidence to reject H₀.\n",
        "\n",
        "Example:\n",
        "\n",
        "  - A company claims the average weight of a packet of chips is 50g.\n",
        "\n",
        "   - H₀: μ = 50 (mean weight is 50g).\n",
        "\n",
        "2. Alternative Hypothesis (H₁ / Ha)\n",
        "\n",
        "- The alternative hypothesis contradicts the null hypothesis.\n",
        "\n",
        "- It states that there is a significant effect, difference, or relationship.\n",
        "\n",
        "- It represents the researcher’s claim that needs to be proved with evidence.\n",
        "\n",
        "\n",
        "- Example:  H₁: μ ≠ 50 (mean weight is not 50g).\n",
        "3. Types of Alternative Hypotheses\n",
        "\n",
        "Two-tailed test: H₁: μ ≠ μ₀ (mean is not equal to the claimed value).\n",
        "\n",
        "Right-tailed test: H₁: μ > μ₀ (mean is greater).\n",
        "\n",
        "Left-tailed test: H₁: μ < μ₀ (mean is smaller).\n",
        "\n",
        "-  Key Differences between Null and Alternative Hypotheses\n",
        "Aspect\tNull Hypothesis (H₀)\tAlternative Hypothesis (H₁ / Ha)\n",
        "Meaning\tNo effect/difference exists\tEffect/difference exists\n",
        "Role\tDefault assumption, tested first\tCompeting claim, supported if H₀ is rejected\n",
        "Symbols\tH₀: μ = μ₀\tH₁: μ ≠ μ₀, μ > μ₀, or μ < μ₀\n",
        "Decision\tEither rejected or not rejected\tAccepted if H₀ is rejected\n",
        "Example\tAverage weight = 50g\tAverage weight ≠ 50g\n",
        "\n",
        "-  **Conclusion**\n",
        "\n",
        "The Null Hypothesis (H₀) is a conservative assumption of “no change,” while the Alternative Hypothesis (H₁) suggests “change exists.” Hypothesis testing revolves around rejecting or failing to reject H₀ based on sample evidence, thus deciding which statement is more supported by data."
      ],
      "metadata": {
        "id": "4VORiARfhB-V"
      }
    },
    {
      "cell_type": "markdown",
      "source": [
        "**Question 3:** Explain the significance level in hypothesis testing and its role in deciding\n",
        "the outcome of a test.\n"
      ],
      "metadata": {
        "id": "YnIlRTREj4dz"
      }
    },
    {
      "cell_type": "markdown",
      "source": [
        "**Answer 3**:      In hypothesis testing, decisions are based on sample evidence. Since there is always a possibility of error, we use a significance level (α) to control the risk of making a wrong decision. It is a critical concept in deciding whether to reject or accept the null hypothesis (H₀).\n",
        "\n",
        "1. Definition of Significance Level (α)\n",
        "\n",
        "The significance level is the probability of rejecting the null hypothesis when it is actually true.\n",
        "\n",
        "In other words, it is the maximum risk of committing a Type I error (false positive).\n",
        "\n",
        "It is set before conducting the test to maintain objectivity.\n",
        "\n",
        "**Common choices of α:**\n",
        "\n",
        "0.05 (5%) → Most widely used\n",
        "\n",
        "0.01 (1%) → Very strict, used in medical/critical research\n",
        "\n",
        "0.10 (10%) → Relaxed, used in exploratory studies\n",
        "\n",
        "2. Role of Significance Level in Hypothesis Testing\n",
        "\n",
        "- Decision Threshold:\n",
        "\n",
        "     α acts as the cut-off point to decide whether the evidence is strong enough to reject H₀.\n",
        "\n",
        "- Comparison with p-value:\n",
        "\n",
        "     If p-value ≤ α → Reject H₀ (evidence supports H₁).\n",
        "\n",
        "     If p-value > α → Fail to reject H₀ (evidence not strong enough).\n",
        "\n",
        "- Error Control:\n",
        "\n",
        "     A smaller α reduces the risk of Type I error, but increases the risk of Type II error.\n",
        "\n",
        "     A larger α makes rejection easier, but increases false positives.\n",
        "\n",
        "- ** Example**\n",
        "\n",
        "A company claims that the average lifetime of a bulb is 1000 hours. A researcher tests this claim at α = 0.05.\n",
        "\n",
        "H₀: μ = 1000\n",
        "\n",
        "H₁: μ ≠ 1000\n",
        "\n",
        "The test gives a p-value = 0.03.\n",
        "\n",
        "Since p-value (0.03) < α (0.05), we reject H₀.\n",
        "\n",
        "Conclusion: The average life is significantly different from 1000 hours.\n",
        "\n",
        "If the same test was conducted at α = 0.01, the decision would be different (fail to reject H₀), showing how significance level directly impacts the outcome.\n",
        "\n",
        "\n",
        "\n",
        "\n",
        "\n",
        "\n",
        "**Conclusion:**\n",
        "\n",
        "\n",
        "The significance level (α) is a crucial parameter in hypothesis testing. It defines the tolerance for error, sets the rejection region, and directly influences whether we accept or reject the null hypothesis. By controlling α, researchers balance the risks of incorrect decisions and ensure reliable statistical conclusions."
      ],
      "metadata": {
        "id": "CkesZOI6v9Ps"
      }
    },
    {
      "cell_type": "markdown",
      "source": [
        "**Question 4:** What are Type I and Type II errors? Give examples of each.\n"
      ],
      "metadata": {
        "id": "eeoM7XgsxFqp"
      }
    },
    {
      "cell_type": "markdown",
      "source": [
        "**Answer 4**\n",
        "\n",
        "In hypothesis testing, decisions are made based on sample evidence. Since conclusions may not always be correct, two types of errors can occur: Type I error and Type II error. These errors help us understand the risks in statistical decision-making.\n",
        "\n",
        "1. Type I Error (α error)\n",
        "\n",
        "- A Type I error occurs when we reject the null hypothesis (H₀) even though it is true.\n",
        "\n",
        "- It is also known as a false positive.\n",
        "\n",
        "- The probability of committing a Type I error is equal to the significance level (α) chosen for the test.\n",
        "\n",
        "**Example:**\n",
        "\n",
        "- A court trial assumes a person is innocent (H₀).\n",
        "\n",
        "- If the court rejects this assumption and declares the person guilty even though they are actually innocent, it is a Type I error.\n",
        "\n",
        "**Statistical Example:**\n",
        "\n",
        "- H₀: A medicine has no effect.\n",
        "\n",
        "- If we conclude the medicine works (reject H₀) when in reality it does not, we commit a Type I error.\n",
        "\n",
        "2. Type II Error (β error)\n",
        "\n",
        "- A Type II error occurs when we fail to reject the null hypothesis (H₀) even though it is false.\n",
        "\n",
        "- It is also known as a false negative.\n",
        "\n",
        "- The probability of committing a Type II error is denoted by β.\n",
        "\n",
        "**Example:**\n",
        "\n",
        "- In the same court trial:\n",
        "\n",
        "- If the court fails to reject innocence and declares the accused \"not guilty,\" even though the person is actually guilty, it is a Type II error.\n",
        "\n",
        "**Statistical Example:**\n",
        "\n",
        "- H₀: A machine produces bulbs with average life = 1000 hours.\n",
        "\n",
        "- If we fail to reject H₀, but in reality the average life is 800 hours, we commit a Type II error."
      ],
      "metadata": {
        "id": "yB5yOTHaxP3q"
      }
    },
    {
      "cell_type": "markdown",
      "source": [
        "**Question 5:** What is the difference between a Z-test and a T-test? Explain when to use\n",
        "each."
      ],
      "metadata": {
        "id": "jMmieTNJx9N1"
      }
    },
    {
      "cell_type": "markdown",
      "source": [
        "**Answer 5** :\n",
        "\n",
        "In hypothesis testing, both Z-test and T-test are statistical methods used to compare sample data with population parameters or between two groups. The choice between them depends on sample size and availability of population standard deviation (σ).\n",
        "1. **Z-Test**\n",
        "\n",
        "- The Z-test is used when:\n",
        "\n",
        "- The population variance (σ²) or standard deviation (σ) is known.\n",
        "\n",
        "- The sample size is large (n ≥ 30).\n",
        "\n",
        "- It assumes the data follows a normal distribution.\n",
        "\n",
        "- Formula for one-sample Z-test:\n",
        "\n",
        " $$\n",
        "Z = \\frac{\\bar{X} - \\mu}{\\sigma / \\sqrt{n}}\n",
        "$$\n",
        "\n",
        "\n",
        "\n",
        "**Example:**\n",
        "\n",
        "Testing whether the average height of 100 students is equal to the national average when σ is known.\n",
        "\n",
        "2. T-Test\n",
        "\n",
        "- The T-test is used when:\n",
        "\n",
        "- The population variance (σ²) or standard deviation (σ) is unknown.\n",
        "\n",
        "- The sample size is small (n < 30).\n",
        "\n",
        "- It uses the sample standard deviation (s) in place of σ.\n",
        "\n",
        "- The test statistic follows the Student’s t-distribution.\n",
        "\n",
        "- Formula for one-sample T-test:\n",
        "\n",
        "$$\n",
        "t = \\frac{\\bar{X} - \\mu}{s / \\sqrt{n}}\n",
        "$$\n",
        "\n",
        "**Example:**\n",
        "\n",
        "Testing the average marks of 20 students in a class when the population standard deviation is unknown.\n",
        "\n",
        " **Practical Usage**\n",
        "\n",
        "- Z-test: Quality control in factories where population σ is available, e.g., testing whether machine-produced bolts have average length 5 cm.\n",
        "\n",
        "- T-test: Educational research where only small sample data is available, e.g., testing average marks of 15 students compared to a standard."
      ],
      "metadata": {
        "id": "loD5bh_2yDQU"
      }
    },
    {
      "cell_type": "markdown",
      "source": [
        "**Question 6:** Write a Python program to generate a binomial distribution with n=10 and\n",
        "p=0.5, then plot its histogram.\n",
        "\n"
      ],
      "metadata": {
        "id": "GyjqqjX700S-"
      }
    },
    {
      "cell_type": "markdown",
      "source": [
        "**Answer 6** : A Binomial distribution is a discrete probability distribution that models the number of successes in a fixed number of independent Bernoulli trials, each with the same probability of success\n",
        "𝑝\n",
        "p.\n",
        "### Binomial Distribution Formula\n",
        "\n",
        "The probability mass function (PMF) of a Binomial distribution is given by:\n",
        "\n",
        "$$\n",
        "P(X = k) = \\binom{n}{k} p^k (1-p)^{\\,n-k}, \\quad k = 0, 1, 2, \\dots, n\n",
        "$$\n",
        "For \\( n = 10 \\) and \\( p = 0.5 \\):\n",
        "\n",
        "$$\n",
        "P(X = k) = \\binom{10}{k} (0.5)^k (0.5)^{10-k}, \\quad k = 0, 1, 2, \\dots, 10\n",
        "$$\n",
        "\n"
      ],
      "metadata": {
        "id": "_QZONngi1CJR"
      }
    },
    {
      "cell_type": "code",
      "source": [
        "import numpy as np\n",
        "import matplotlib.pyplot as plt\n",
        "\n",
        "n = 10     # number of trials\n",
        "p = 0.5    # probability of success\n",
        "size = 1000  # number of random samples\n",
        "\n",
        "data = np.random.binomial(n, p, size)\n",
        "\n",
        "plt.hist(data, bins=range(n+2), edgecolor='black', align='left')\n",
        "plt.title(\"Binomial Distribution (n=10, p=0.5)\")\n",
        "plt.xlabel(\"Number of successes\")\n",
        "plt.ylabel(\"Frequency\")\n",
        "plt.show()\n"
      ],
      "metadata": {
        "colab": {
          "base_uri": "https://localhost:8080/",
          "height": 472
        },
        "id": "SqlQyerO1QUc",
        "outputId": "cdabd8cb-c511-49de-dbca-681a07bfb26e"
      },
      "execution_count": 1,
      "outputs": [
        {
          "output_type": "display_data",
          "data": {
            "text/plain": [
              "<Figure size 640x480 with 1 Axes>"
            ],
            "image/png": "[encoded data removed]"
          },
          "metadata": {}
        }
      ]
    },
    {
      "cell_type": "markdown",
      "source": [
        "**Question 7:** Implement hypothesis testing using Z-statistics for a sample dataset in\n",
        "Python. Show the Python code and interpret the results.\n",
        "\n",
        "sample_data = [49.1, 50.2, 51.0, 48.7, 50.5, 49.8, 50.3, 50.7, 50.2, 49.6,\n",
        "50.1, 49.9, 50.8, 50.4, 48.9, 50.6, 50.0, 49.7, 50.2, 49.5,\n",
        "50.1, 50.3, 50.4, 50.5, 50.0, 50.7, 49.3, 49.8, 50.2, 50.9,\n",
        "50.3, 50.4, 50.0, 49.7, 50.5, 49.9]\n"
      ],
      "metadata": {
        "id": "Fk1U0nOi2B94"
      }
    },
    {
      "cell_type": "markdown",
      "source": [
        "**Answer 7**\n",
        "\n",
        "In a **Z-test**, we check whether the sample mean is significantly different from the population mean.\n",
        "\n",
        "The formula for the Z-statistic is:\n",
        "\n",
        "$$\n",
        "Z = \\frac{\\bar{X} - \\mu}{\\sigma / \\sqrt{n}}\n",
        "$$\n",
        "\n",
        "where:  \n",
        "\n",
        "- $\\bar{X}$ = sample mean  \n",
        "- $\\mu$ = population mean (hypothesized)  \n",
        "- $\\sigma$ = population standard deviation (or sample standard deviation if $\\sigma$ is unknown)  \n",
        "- $n$ = sample size  \n",
        "\n",
        "We then compare the calculated **Z-value** with the **critical value** (from the Z-table) at a chosen significance level.  \n",
        "\n",
        "For example, at $\\alpha = 0.05$ (two-tailed test), the critical values are:  \n",
        "\n",
        "$$\n",
        "Z_{critical} = \\pm 1.96\n",
        "$$\n"
      ],
      "metadata": {
        "id": "IblTp_mP2jK4"
      }
    },
    {
      "cell_type": "code",
      "source": [
        "import numpy as np\n",
        "from scipy import stats\n",
        "\n",
        "sample_data = [49.1, 50.2, 51.0, 48.7, 50.5, 49.8, 50.3, 50.7, 50.2, 49.6,\n",
        "               50.1, 49.9, 50.8, 50.4, 48.9, 50.6, 50.0, 49.7, 50.2, 49.5,\n",
        "               50.1, 50.3, 50.4, 50.5, 50.0, 50.7, 49.3, 49.8, 50.2, 50.9,\n",
        "               50.3, 50.4, 50.0, 49.7, 50.5, 49.9]\n",
        "\n",
        "mu = 50\n",
        "\n",
        "sample_mean = np.mean(sample_data)\n",
        "sample_std = np.std(sample_data, ddof=1)\n",
        "n = len(sample_data)\n",
        "\n",
        "z_stat = (sample_mean - mu) / (sample_std / np.sqrt(n))\n",
        "\n",
        "p_value = 2 * (1 - stats.norm.cdf(abs(z_stat)))\n",
        "\n",
        "print(\"Sample Mean:\", sample_mean)\n",
        "print(\"Sample Std Dev:\", sample_std)\n",
        "print(\"Z-statistic:\", z_stat)\n",
        "print(\"p-value:\", p_value)\n"
      ],
      "metadata": {
        "colab": {
          "base_uri": "https://localhost:8080/"
        },
        "id": "weUsB8uU20hn",
        "outputId": "f0f58208-0c2a-443b-e59d-87d8361f2ec5"
      },
      "execution_count": 2,
      "outputs": [
        {
          "output_type": "stream",
          "name": "stdout",
          "text": [
            "Sample Mean: 50.08888888888889\n",
            "Sample Std Dev: 0.5365379910807955\n",
            "Z-statistic: 0.9940271559503017\n",
            "p-value: 0.3202096468890012\n"
          ]
        }
      ]
    },
    {
      "cell_type": "markdown",
      "source": [
        "**Question 8:**\n",
        " Write a Python script to simulate data from a normal distribution and\n",
        "calculate the 95% confidence interval for its mean. Plot the data using Matplotlib."
      ],
      "metadata": {
        "id": "Oc9wUlZm3UWw"
      }
    },
    {
      "cell_type": "markdown",
      "source": [
        "**Answer 8** :\n",
        "\n",
        "A Normal distribution is defined by its mean ($\\mu$) and standard deviation ($\\sigma$).  \n",
        "It is a continuous probability distribution that is symmetric about the mean.\n",
        "\n",
        "The **95% confidence interval (CI)** for the population mean is given by:\n",
        "\n",
        "$$\n",
        "CI = \\bar{X} \\;\\pm\\; Z_{\\alpha/2} \\times \\frac{s}{\\sqrt{n}}\n",
        "$$\n",
        "\n",
        "where:\n",
        "\n",
        "- $\\bar{X}$ = sample mean  \n",
        "- $s$ = sample standard deviation  \n",
        "- $n$ = sample size  \n",
        "- $Z_{\\alpha/2}$ = critical value from the standard normal distribution  \n",
        "  (for 95% CI, $Z_{\\alpha/2} = 1.96$)  \n",
        "\n",
        "Interpretation: The 95% confidence interval means that if we repeat the sampling process many times, about 95% of such intervals will contain the true population mean.\n"
      ],
      "metadata": {
        "id": "6ZemtYZ33cCx"
      }
    },
    {
      "cell_type": "code",
      "source": [
        "import numpy as np\n",
        "import matplotlib.pyplot as plt\n",
        "from scipy import stats\n",
        "\n",
        "np.random.seed(42)\n",
        "mu, sigma, n = 50, 5, 1000\n",
        "data = np.random.normal(mu, sigma, n)\n",
        "\n",
        "sample_mean = np.mean(data)\n",
        "sample_std = np.std(data, ddof=1)\n",
        "\n",
        "alpha = 0.05\n",
        "z_critical = stats.norm.ppf(1 - alpha/2)\n",
        "margin_of_error = z_critical * (sample_std / np.sqrt(n))\n",
        "ci_lower = sample_mean - margin_of_error\n",
        "ci_upper = sample_mean + margin_of_error\n",
        "\n",
        "print(\"Sample Mean:\", sample_mean)\n",
        "print(\"95% Confidence Interval:\", (ci_lower, ci_upper))\n",
        "\n",
        "plt.hist(data, bins=30, edgecolor='black', alpha=0.7, density=True)\n",
        "plt.title(\"Normal Distribution Simulation\")\n",
        "plt.xlabel(\"Value\")\n",
        "plt.ylabel(\"Density\")\n",
        "\n",
        "plt.axvline(sample_mean, color='red', linestyle='dashed', linewidth=2, label=f\"Mean = {sample_mean:.2f}\")\n",
        "plt.axvline(ci_lower, color='green', linestyle='dashed', linewidth=2, label=f\"Lower CI = {ci_lower:.2f}\")\n",
        "plt.axvline(ci_upper, color='green', linestyle='dashed', linewidth=2, label=f\"Upper CI = {ci_upper:.2f}\")\n",
        "plt.legend()\n",
        "plt.show()\n"
      ],
      "metadata": {
        "colab": {
          "base_uri": "https://localhost:8080/",
          "height": 507
        },
        "id": "YhDe-d5F4JUa",
        "outputId": "972ff82b-ff53-4baf-8efa-0f9fcc475712"
      },
      "execution_count": 3,
      "outputs": [
        {
          "output_type": "stream",
          "name": "stdout",
          "text": [
            "Sample Mean: 50.096660279111624\n",
            "95% Confidence Interval: (np.float64(49.793203692093016), np.float64(50.40011686613023))\n"
          ]
        },
        {
          "output_type": "display_data",
          "data": {
            "text/plain": [
              "<Figure size 640x480 with 1 Axes>"
            ],
            "image/png": "[encoded data removed]"
          },
          "metadata": {}
        }
      ]
    },
    {
      "cell_type": "markdown",
      "source": [
        "**Question 9:** Write a Python function to calculate the Z-scores from a dataset and\n",
        "visualize the standardized data using a histogram. Explain what the Z-scores represent\n",
        "in terms of standard deviations from the mean"
      ],
      "metadata": {
        "id": "Oe1i4FSv4oDE"
      }
    },
    {
      "cell_type": "markdown",
      "source": [
        "**Answer 9**:\n",
        "\n",
        "A Z-score (or standard score) measures how many **standard deviations** a data point is away from the mean.\n",
        "\n",
        "The formula for the Z-score is:\n",
        "\n",
        "$$\n",
        "Z = \\frac{X - \\bar{X}}{s}\n",
        "$$\n",
        "\n",
        "where:  \n",
        "\n",
        "- $X$ = individual data point  \n",
        "- $\\bar{X}$ = sample mean  \n",
        "- $s$ = sample standard deviation  \n",
        "\n",
        "---\n",
        "\n",
        "**Interpretation:**  \n",
        "\n",
        "- $Z = 0$ ⟶ the data point is exactly at the mean.  \n",
        "- $Z = +1$ ⟶ the data point is 1 standard deviation above the mean.  \n",
        "- $Z = -1$ ⟶ the data point is 1 standard deviation below the mean.  \n",
        "\n",
        "After standardization, the transformed dataset has:\n",
        "\n",
        "$$\n",
        "\\text{Mean} = 0, \\quad \\text{Standard Deviation} = 1\n",
        "$$\n"
      ],
      "metadata": {
        "id": "WbDSJatx4qe6"
      }
    },
    {
      "cell_type": "code",
      "source": [
        "import numpy as np\n",
        "import matplotlib.pyplot as plt\n",
        "\n",
        "def calculate_z_scores(data):\n",
        "    mean = np.mean(data)\n",
        "    std = np.std(data, ddof=1)\n",
        "    z_scores = [(x - mean) / std for x in data]\n",
        "    return np.array(z_scores)\n",
        "\n",
        "data = [10, 12, 15, 18, 20, 22, 25, 30]\n",
        "\n",
        "z_scores = calculate_z_scores(data)\n",
        "\n",
        "print(\"Original Data:\", data)\n",
        "print(\"Z-scores:\", z_scores)\n",
        "\n",
        "plt.hist(z_scores, bins=10, edgecolor='black', alpha=0.7)\n",
        "plt.title(\"Histogram of Standardized Data (Z-scores)\")\n",
        "plt.xlabel(\"Z-score\")\n",
        "plt.ylabel(\"Frequency\")\n",
        "plt.axvline(0, color='red', linestyle='dashed', linewidth=2, label=\"Mean (Z=0)\")\n",
        "plt.legend()\n",
        "plt.show()\n"
      ],
      "metadata": {
        "colab": {
          "base_uri": "https://localhost:8080/",
          "height": 524
        },
        "id": "658hqQIe5DFM",
        "outputId": "1486b618-c5fe-440f-f604-a63135ff233e"
      },
      "execution_count": 4,
      "outputs": [
        {
          "output_type": "stream",
          "name": "stdout",
          "text": [
            "Original Data: [10, 12, 15, 18, 20, 22, 25, 30]\n",
            "Z-scores: [-1.34377546 -1.04515869 -0.59723354 -0.14930838  0.14930838  0.44792515\n",
            "  0.89585031  1.64239223]\n"
          ]
        },
        {
          "output_type": "display_data",
          "data": {
            "text/plain": [
              "<Figure size 640x480 with 1 Axes>"
            ],
            "image/png": "[encoded data removed]"
          },
          "metadata": {}
        }
      ]
    },
    {
      "cell_type": "markdown",
      "source": [
        "**Interpretation**\n",
        "\n",
        "- Z-scores allow comparison of data points across different scales.\n",
        "\n",
        "- Example: A score of +1.91 means the value is 1.91 standard deviations above the mean.\n",
        "\n",
        "- Standardization is especially useful in machine learning and statistics where features need to be on the same scale."
      ],
      "metadata": {
        "id": "TNu3MsqP5M3Z"
      }
    }
  ]
}