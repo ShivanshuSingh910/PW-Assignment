{
  "nbformat": 4,
  "nbformat_minor": 0,
  "metadata": {
    "colab": {
      "provenance": [],
      "collapsed_sections": [
        "VsJjU32Hu7OC"
      ]
    },
    "kernelspec": {
      "name": "python3",
      "display_name": "Python 3"
    },
    "language_info": {
      "name": "python"
    }
  },
  "cells": [
    {
      "cell_type": "markdown",
      "source": [
        "# **Theory  Questions**"
      ],
      "metadata": {
        "id": "VsJjU32Hu7OC"
      }
    },
    {
      "cell_type": "markdown",
      "source": [
        "1. What is the difference between interpreted and compiled languages ?\n",
        "\n",
        "    1. Compiled Languages\n",
        "\n",
        "   -  Process:\n",
        "\n",
        "      Your code is translated (compiled) all at once into machine code (binary instructions) by a compiler before the program runs.\n",
        "\n",
        "   - Execution:\n",
        "\n",
        "    The machine code file is run directly by the CPU—no need for the source code or compiler during execution.\n",
        "\n",
        "    2. Interpreted Languages\n",
        "\n",
        "      - Process:\n",
        "\n",
        "           The code is read and executed line-by-line at runtime by an interpreter—no machine code file is generated in advance.\n",
        "\n",
        "     - Execution:\n",
        "\n",
        "     The interpreter translates your instructions into machine code on the spot.\n"
      ],
      "metadata": {
        "id": "cWm58fYAv9hy"
      }
    },
    {
      "cell_type": "markdown",
      "source": [
        "2. What is exception handling in Python?\n",
        "\n",
        " - Exception handling in Python is a way to deal with errors that happen while your program is running, so the program doesn’t crash abruptly and can handle the situation gracefully.\n",
        "  - Python uses try → except blocks to catch and handle exceptions."
      ],
      "metadata": {
        "id": "l5m0YDuMwOZT"
      }
    },
    {
      "cell_type": "markdown",
      "source": [
        "3. What is the purpose of the finally block in exception handling?\n",
        "\n",
        " - The finally block in Python exception handling is used to run code no matter what happens—whether an exception occurs or not.\n",
        "  - Purpose\n",
        "\n",
        "     Cleanup operations: Closing files, releasing resources, disconnecting from a database, etc.\n",
        "\n",
        "     Guarantee execution: Ensures certain steps always happen, even if the try block fails.\n",
        "\n",
        "      Final statements: Code that must run regardless of success or failure."
      ],
      "metadata": {
        "id": "WqqdPOQfxk86"
      }
    },
    {
      "cell_type": "markdown",
      "source": [
        "4.  What is logging in Python?\n",
        "\n",
        " - Logging in Python is a way to record messages about what your program is doing while it’s running — like keeping a diary of events, errors, or status updates.\n",
        "\n"
      ],
      "metadata": {
        "id": "XDRiU3owyQ4R"
      }
    },
    {
      "cell_type": "markdown",
      "source": [
        "5. What is the significance of the __del__ method in Python?\n",
        " - The __del__ method in Python is a destructor — it’s a special method that is called automatically when an object is about to be destroyed (garbage collected).\n",
        "\n",
        " -  Purpose\n",
        "  \n",
        "     Used for cleanup tasks before an object is removed from memory.\n",
        "\n",
        "  - Typical uses:\n",
        "\n",
        "     Closing file handles.\n",
        "\n",
        "     Releasing network connections.\n",
        "\n",
        "     Freeing up resources that aren’t handled automatically.\n"
      ],
      "metadata": {
        "id": "rzTdb5FByi-L"
      }
    },
    {
      "cell_type": "markdown",
      "source": [
        "6. What is the difference between import and from ... import in Python?\n",
        " - The difference between import and from ... import in Python is about how you bring code from a module into your program and how you access it afterward.\n",
        " 1. import Statement (import module_name)\n",
        "\n",
        "     Loads the entire module.\n",
        "\n",
        "     You must prefix functions, variables, or classes with the module name.\n",
        "\n",
        "   2. from ... import Statement\n",
        "   (from module_name import name1, name2\n",
        "   )\n",
        "\n",
        "     Loads specific items from a module into your namespace.\n",
        "\n",
        "     You don’t need to prefix them with the module name."
      ],
      "metadata": {
        "id": "MB0WSBEozIhm"
      }
    },
    {
      "cell_type": "markdown",
      "source": [
        "7.  How can you handle multiple exceptions in Python?\n",
        "- You can handle multiple exceptions in Python by using several except blocks or by catching multiple exceptions in a single block.\n",
        "\n",
        "  - Multiple except Blocks (Most Common),\n",
        "  You write one except for each exception type you want to handle.\n",
        "\n",
        "  - Catch Multiple Exceptions in One Block,\n",
        "   you can group exceptions in a tuple.\n",
        "\n",
        " -  Using a Generic Exception\n",
        "   Catches any exception type."
      ],
      "metadata": {
        "id": "wObwcu_T21ZH"
      }
    },
    {
      "cell_type": "markdown",
      "source": [
        "8. What is the purpose of the with statement when handling files in Python?\n",
        " - The with statement in Python is used to simplify resource management—especially for files—by automatically handling setup and cleanup.\n",
        "\n",
        "- When working with files, with ensures that the file is properly closed after you’re done with it, even if an exception occurs.\n",
        "\n",
        " - The with statement calls the object’s __enter__() method when the block starts.\n",
        "\n",
        " - It calls __exit__() when the block ends—this is where cleanup (like close()) happens.\n",
        "\n"
      ],
      "metadata": {
        "id": "Uu0zv0zF4EU0"
      }
    },
    {
      "cell_type": "markdown",
      "source": [
        "9.What is the difference between multithreading and multiprocessing?\n",
        "\n",
        " 1. Multithreading\n",
        ": Running multiple threads (smaller units of a process) within the same process.\n",
        "\n",
        " - Resource Sharing: Threads share the same memory space and variables.\n",
        "\n",
        " - Best For:\n",
        "\n",
        "- I/O-bound tasks (waiting for input/output, e.g., file reading, network requests).\n",
        "\n",
        " - Lightweight parallelism.\n",
        "\n",
        "In Python: Affected by the GIL (Global Interpreter Lock), so true parallel CPU work is limited—but still good for I/O-bound jobs.\n",
        "\n",
        "Example:\n",
        "\n",
        "Downloading multiple web pages at once.\n",
        "\n",
        "Reading multiple files simultaneously.\n",
        "\n",
        "2. Multiprocessing\n",
        ": Running multiple processes, each with its own memory space and Python interpreter.\n",
        "\n",
        " - Resource Sharing: Each process is independent—no shared memory (communication via queues/pipes).\n",
        "\n",
        " - Best For:\n",
        "\n",
        "  -  CPU-bound tasks (heavy computation, number crunching).\n",
        "\n",
        "   -  True parallelism across CPU cores.\n",
        "\n",
        "   In Python: Bypasses the GIL, so multiple CPUs can work simultaneously.\n",
        "\n",
        "Example:\n",
        "\n",
        "Image processing on large datasets.\n",
        "\n",
        "Complex mathematical simulations.\n",
        "\n"
      ],
      "metadata": {
        "id": "V6bgG0_455_D"
      }
    },
    {
      "cell_type": "markdown",
      "source": [
        "10. What are the advantages of using logging in a program?\n",
        "- Advantages of using logging in a program go far beyond just printing messages — logging is a structured, configurable, and permanent way to monitor and debug your application.\n",
        "1. Persistent Record of Events\n",
        "2. Different Levels of Importance\n",
        "3. Easier Debugging\n",
        "4. Configurable Output\n",
        "5. Minimal Performance Impact\n",
        "6. Better than print()\n",
        "7. Supports Large Applications\n"
      ],
      "metadata": {
        "id": "6uqtwWUt68F1"
      }
    },
    {
      "cell_type": "markdown",
      "source": [
        "11. What is memory management in Python?\n",
        " - Memory management in Python is how Python allocates, uses, and frees memory for your program automatically while it runs.\n",
        "\n",
        " - Python handles most memory work for you through its built-in memory manager and garbage collector, so you don’t have to manually allocate or free memory like in C or C++.\n",
        " - Key Components of Python’s Memory Management\n",
        "\n",
        " a) Private Heap Space\n",
        " b) Python Memory Manager\n",
        " c) Garbage Collection\n",
        "\n",
        "\n"
      ],
      "metadata": {
        "id": "hV3XUG7I73wF"
      }
    },
    {
      "cell_type": "markdown",
      "source": [
        "12. What are the basic steps involved in exception handling in Python?\n",
        "- The basic steps in exception handling in Python follow a clear, structured flow so your program can deal with errors without crashing.\n",
        "1. Identify Risky Code\n",
        " - Figure out which part of your program might cause an error (e.g., dividing by zero, reading a missing file).\n",
        "\n",
        " - Wrap that code in a try block.\n",
        "2. Catch the Exception\n",
        " - Use one or more except blocks to handle specific types of errors.\n",
        "3. Optional: Run Code if No Exception Occurs\n",
        " - Use an else block for code that should run only if no errors happen.\n",
        "4. Optional: Always Execute Cleanup Code\n",
        " - Use a finally block for tasks that must run no matter what, like closing files or freeing resources.\n"
      ],
      "metadata": {
        "id": "tPAck7ll8raN"
      }
    },
    {
      "cell_type": "markdown",
      "source": [
        "13. Why is memory management important in Python?\n",
        " - Memory management is important in Python because it directly affects how efficiently your program runs and how reliably it uses system resources.\n",
        "Even though Python automates most memory handling, understanding why it matters helps you write faster, safer, and more stable code.\n",
        "- Prevents Memory Leaks\n",
        "- Improves Performance\n",
        "- Supports Scalability\n",
        "- Reduces Programmer Effort\n",
        "-  Avoids Program Crashes\n"
      ],
      "metadata": {
        "id": "zHFPta-U9yrV"
      }
    },
    {
      "cell_type": "markdown",
      "source": [
        "14. What is the role of try and except in exception handling?\n",
        "- In Python exception handling, the try and except blocks work together as the core mechanism to catch and handle errors without crashing the program.\n",
        "1. Role of try\n",
        "\n",
        "- Purpose: Marks a block of code that might raise an exception.\n",
        "\n",
        "- Function: Runs the code inside it until:\n",
        "\n",
        "- It completes successfully, or\n",
        "An exception occurs.\n",
        "If an exception happens, Python immediately jumps to the matching except block.\n",
        "\n",
        "2. Role of except\n",
        "- Purpose: Catches and handles exceptions that occur inside the try block.\n",
        "\n",
        "- Function: Runs only if a matching exception is raised in try.\n",
        "\n",
        "- Prevents the program from stopping abruptly."
      ],
      "metadata": {
        "id": "qxXPsNlq-noN"
      }
    },
    {
      "cell_type": "markdown",
      "source": [
        "15. How does Python's garbage collection system work?\n",
        "- Python’s garbage collection system is responsible for automatically freeing memory by removing objects that are no longer in use, so your program doesn’t run out of memory.\n",
        "\n",
        "It works mainly through reference counting and a cyclic garbage collector.\n",
        "1. Reference Counting (Primary Mechanism)\n",
        "Every Python object keeps a reference count: the number of variables or containers referring to it.\n",
        "\n",
        "- When the count reaches zero, the object is immediately destroyed, and memory is freed.\n",
        "2. The Problem: Circular References\n",
        "If two objects reference each other, their reference count never reaches zero, even if nothing else refers to them.\n",
        "\n",
        "3. Cyclic Garbage Collector\n",
        "Python’s gc module detects and collects objects involved in reference cycles.\n",
        "\n",
        "- It periodically scans objects in memory to find cycles that are unreachable from the main program.\n",
        "\n",
        "- Once found, it breaks the cycles and frees memory."
      ],
      "metadata": {
        "id": "JXIjH6WzCNv-"
      }
    },
    {
      "cell_type": "markdown",
      "source": [
        "16.  What is the purpose of the else block in exception handling?\n",
        "- In Python exception handling, the else block is used to run code only if no exception was raised in the try block.\n",
        "\n",
        "- Purpose\n",
        "\n",
        "   To keep the normal execution code separate from the error-handling code.\n",
        "\n",
        "   Makes your program more readable by clearly separating:\n",
        "   \n",
        "   Risky code (try)\n",
        "\n",
        "  Error handling (except)\n",
        "\n",
        "  Normal follow-up actions (else)\n",
        "\n"
      ],
      "metadata": {
        "id": "ENuWT4dlHCNv"
      }
    },
    {
      "cell_type": "markdown",
      "source": [
        "17. What are the common logging levels in Python?\n",
        "\n",
        "Python’s logging system has five main logging levels, each representing the importance (or severity) of a message.\n",
        "\n",
        "1- LEVELS:-\n",
        "- DEBUG(10)\n",
        "Detailed diagnostic information for developers. Used during development.\n",
        "- INFO(20)Confirms that things are working as expected.\n",
        "- WARNING\t(30)Indicates something unexpected happened, but the program is still running fine.\n",
        "- ERROR\t(40)A serious issue occurred; some part of the program failed.\n",
        "- CRITICAL(50)Very serious error — the program may not be able to continue running.\n",
        "\n"
      ],
      "metadata": {
        "id": "XnBnWcmhIJMy"
      }
    },
    {
      "cell_type": "markdown",
      "source": [
        "18.What is the difference between os.fork() and multiprocessing in Python?\n",
        "- The difference between os.fork() and multiprocessing in Python mainly comes down to how they create processes, portability, and ease of use.\n",
        "\n",
        "1. os.fork()\n",
        "- Definition: A low-level system call that duplicates the current process.\n",
        "\n",
        "- How It Works:\n",
        "\n",
        " The child process is an exact copy of the parent process (same memory, variables at the moment of creation).\n",
        "\n",
        " Both parent and child continue execution from the point where fork() was called.\n",
        "\n",
        "- Platform Support:\n",
        "\n",
        " Works only on Unix/Linux/macOS (not on Windows).\n",
        "\n",
        "- Use Case:\n",
        "\n",
        " When you want direct, low-level process control in Unix systems.\n",
        "\n",
        " 2. multiprocessing Module\n",
        "- Definition: A high-level Python module that makes working with processes easier and cross-platform.\n",
        "\n",
        "- How It Works:\n",
        "\n",
        " Creates new processes without directly calling fork() (on Unix it may use fork() internally, on Windows it uses spawn()).\n",
        "\n",
        " Provides tools for process communication, data sharing, and task distribution.\n",
        "\n",
        "- Platform Support:\n",
        "\n",
        " Works on all major OSes (Windows, Linux, macOS).\n",
        "\n",
        "- Use Case:\n",
        "\n",
        " Running CPU-bound tasks in parallel.\n",
        "\n",
        " More control and safety when sharing data between processes."
      ],
      "metadata": {
        "id": "-AjkJHhbKoM6"
      }
    },
    {
      "cell_type": "markdown",
      "source": [
        "19. What is the importance of closing a file in Python?\n",
        "\n",
        " Closing a file in Python is important because it ensures that the file’s resources are properly freed and that any changes you’ve made are safely written to disk.\n",
        " - Ensures Data is Saved (Flushes the Buffer)\n",
        " - Frees System Resources\n",
        " - Prevents File Corruption\n",
        " -  Allows Other Programs to Access the File\n"
      ],
      "metadata": {
        "id": "NyMPU6pCNQqW"
      }
    },
    {
      "cell_type": "markdown",
      "source": [
        "20. What is the difference between file.read() and file.readline() in Python?\n",
        "\n",
        "The difference between file.read() and file.readline() in Python comes down to how much data they read from the file.\n",
        "1. file.read()\n",
        "- Reads the entire file into a single string (by default).\n",
        "\n",
        "- Can optionally take a size argument to read only that many bytes/characters.\n",
        "\n",
        "- Moves the file pointer forward each time it’s called.\n",
        "\n",
        "- Use case: When you need all the file’s contents at once.\n",
        "\n",
        "2. file.readline()\n",
        "- Reads only one line from the file at a time.\n",
        "\n",
        "- Includes the newline character \\n at the end (unless it’s the last line).\n",
        "\n",
        "- Can take an optional size argument to read part of a line.\n",
        "\n",
        "- Use case: When processing a file line by line (especially large files).\n",
        "\n",
        "\n"
      ],
      "metadata": {
        "id": "21Lf0GKCN16O"
      }
    },
    {
      "cell_type": "markdown",
      "source": [
        "21. What is the logging module in Python used for?\n",
        "\n",
        "The logging module in Python is used for recording messages about a program’s execution — this helps in debugging, monitoring, and keeping track of events while the program runs.\n",
        "\n",
        "**Main Purposes**\n",
        "\n",
        "- Debugging\n",
        "\n",
        " Helps you trace problems by recording variable values, program flow, and errors.\n",
        "\n",
        "- Monitoring\n",
        "\n",
        " Keeps a log of what the program did, even after it has finished running.\n",
        "\n",
        "- Error Tracking\n",
        "\n",
        " Records exceptions and errors for later review without stopping the program.\n",
        "\n",
        "- Audit Trails\n",
        "\n",
        " Creates a history of significant actions for compliance or safety checks.\n",
        "\n",
        "\n"
      ],
      "metadata": {
        "id": "7V3SHLL4OoZ1"
      }
    },
    {
      "cell_type": "markdown",
      "source": [
        "22. What is the os module in Python used for in file handling?\n",
        "\n",
        "The os module in Python provides functions to interact with the operating system. In file handling, it is used to perform operations such as creating, removing, renaming, and navigating files and directories. It also allows checking file/directory existence and retrieving file system information.\n",
        "\n",
        "**Common uses of os in file handling:**\n",
        "\n",
        "- Get current working directory: os.getcwd()\n",
        "\n",
        "- Change directory: os.chdir(path)\n",
        "\n",
        "- List files and directories: os.listdir(path)\n",
        "\n",
        "- Create directory: os.mkdir(name) or os.makedirs(name)\n",
        "\n",
        "- Remove file/directory: os.remove(path), os.rmdir(path)\n",
        "\n",
        "- Rename file/directory: os.rename(src, dst)\n",
        "\n",
        "- Check path existence: os.path.exists(path)\n",
        "\n",
        "- Check file or directory type: os.path.isfile(path), os.path.isdir(path)"
      ],
      "metadata": {
        "id": "P3ra1z4fPi0c"
      }
    },
    {
      "cell_type": "markdown",
      "source": [
        "23. What are the challenges associated with memory management in Python?\n",
        "\n",
        "Memory management in Python is handled automatically by the Python Memory Manager and Garbage Collector. However, several challenges may arise during program execution:\n",
        "- Memory Leaks:\n",
        "\n",
        " Occur when objects are no longer needed but are still referenced, preventing garbage collection.\n",
        "\n",
        "Example: Large data structures kept in memory unnecessarily.\n",
        "\n",
        "- Circular References:\n",
        "\n",
        " When two or more objects reference each other, making it difficult for the garbage collector to determine if they are unused.\n",
        "\n",
        "- High Memory Usage in Large Data Processing:\n",
        "\n",
        " Programs handling large datasets (e.g., big files, huge lists) may consume significant memory, affecting performance.\n",
        "\n",
        "- Fragmentation:\n",
        "\n",
        " Frequent allocation and deallocation of small objects can lead to scattered memory blocks, reducing efficiency.\n",
        "\n",
        "- Overhead of Garbage Collection:\n",
        "\n",
        " Automatic garbage collection can sometimes pause program execution, causing performance delays in time-sensitive applications.\n",
        "\n",
        "- Global Interpreter Lock (GIL) Limitation:\n",
        "\n",
        " In multi-threaded programs, the GIL can limit true parallelism, impacting memory usage optimization in concurrent processing"
      ],
      "metadata": {
        "id": "f979JZEpQl1P"
      }
    },
    {
      "cell_type": "markdown",
      "source": [
        "24.  How do you raise an exception manually in Python?\n",
        "\n",
        "In Python, exceptions can be raised manually using the raise statement. This is useful when we want to stop program execution if a certain condition is not met or to signal an error explicitly.\n",
        "- Syntax: raise ExceptionType(\"Error message\")\n",
        "- ExceptionType is the type of exception (e.g., ValueError, TypeError, RuntimeError).\n",
        "- Error message is an optional string describing the cause of the exception.\n"
      ],
      "metadata": {
        "id": "Zi_pjVRbR3cz"
      }
    },
    {
      "cell_type": "markdown",
      "source": [
        "25. Why is it important to use multithreading in certain applications?\n",
        "\n",
        "Multithreading is important in certain applications because it allows multiple threads (smaller units of a process) to execute concurrently, improving efficiency and responsiveness.\n",
        "\n",
        "**Key reasons for using multithreading:**\n",
        "\n",
        "- Improved Responsiveness:\n",
        "\n",
        " In GUI applications, multithreading prevents the interface from freezing by running background tasks (e.g., file download) in separate threads.\n",
        "\n",
        "- Better Resource Utilization:\n",
        "\n",
        " Threads share the same memory space, which reduces resource usage compared to running multiple processes.\n",
        "\n",
        "- Faster Execution in I/O-Bound Tasks:\n",
        "\n",
        " In applications involving file operations, network communication, or database queries, threads can work while waiting for I/O operations to complete.\n",
        "\n",
        "- Parallel Task Execution:\n",
        "\n",
        " Multiple independent tasks (e.g., data logging and user input processing) can run simultaneously without waiting for one to finish.\n",
        "\n",
        "- Real-Time Data Processing:\n",
        "\n",
        " Useful in applications like video streaming, gaming, and live data analysis where tasks need to run continuously in parallel.\n",
        "\n",
        "- Example:\n",
        "Downloading multiple files at the same time instead of one after another improves total execution speed."
      ],
      "metadata": {
        "id": "tMbmZo-sSunD"
      }
    },
    {
      "cell_type": "markdown",
      "source": [
        "#**Practical Questions**"
      ],
      "metadata": {
        "id": "9_bzMo0tTZ97"
      }
    },
    {
      "cell_type": "markdown",
      "source": [
        " 1.How can you open a file for writing in Python and write a string to it?"
      ],
      "metadata": {
        "id": "ELy5vEjLTseL"
      }
    },
    {
      "cell_type": "code",
      "source": [
        "file = open(\"output.txt\", \"w\")\n",
        "file.write(\"Hello, Python file handling!\")\n",
        "file.close()\n"
      ],
      "metadata": {
        "id": "JCccf4o2HUi9"
      },
      "execution_count": 1,
      "outputs": []
    },
    {
      "cell_type": "markdown",
      "source": [
        "2. Write a Python program to read the contents of a file and print each line."
      ],
      "metadata": {
        "id": "2mGAnr6fHjKN"
      }
    },
    {
      "cell_type": "code",
      "source": [
        "\n",
        "with open(\"sample.txt\", \"w\") as f:\n",
        "    f.write(\"Hello World\\nPython is fun\\n\")\n",
        "\n",
        "with open(\"sample.txt\", \"r\") as file:\n",
        "    for line in file:\n",
        "        print(line.strip())\n"
      ],
      "metadata": {
        "colab": {
          "base_uri": "https://localhost:8080/"
        },
        "id": "Kccd6f_5Lf5C",
        "outputId": "9293e063-bf50-41d5-f403-097d99d1f2c2"
      },
      "execution_count": 11,
      "outputs": [
        {
          "output_type": "stream",
          "name": "stdout",
          "text": [
            "Hello World\n",
            "Python is fun\n"
          ]
        }
      ]
    },
    {
      "cell_type": "markdown",
      "source": [
        "3. How would you handle a case where the file doesn't exist while trying to open it for reading?"
      ],
      "metadata": {
        "id": "vGhfissAMKgv"
      }
    },
    {
      "cell_type": "code",
      "source": [
        "try:\n",
        "    file = open(\"nofile.txt\", \"r\")\n",
        "    print(file.read())\n",
        "    file.close()\n",
        "except FileNotFoundError:\n",
        "    print(\"Error: The file does not exist.\")\n"
      ],
      "metadata": {
        "colab": {
          "base_uri": "https://localhost:8080/"
        },
        "id": "y9qCAX1cMM89",
        "outputId": "790e882a-94da-4b17-8325-a43efedef1b3"
      },
      "execution_count": 12,
      "outputs": [
        {
          "output_type": "stream",
          "name": "stdout",
          "text": [
            "Error: The file does not exist.\n"
          ]
        }
      ]
    },
    {
      "cell_type": "markdown",
      "source": [
        "4. Write a Python script that reads from one file and writes its content to another file."
      ],
      "metadata": {
        "id": "gHlMNnstMl48"
      }
    },
    {
      "cell_type": "code",
      "source": [
        "with open(\"source.txt\", \"w\") as f:\n",
        "    f.write(\"Hello from Colab!\\nThis is the source file.\")\n",
        "\n",
        "with open(\"source.txt\", \"r\") as src:\n",
        "    content = src.read()\n",
        "\n",
        "with open(\"destination.txt\", \"w\") as dest:\n",
        "    dest.write(content)\n",
        "\n",
        "print(\"File copied successfully!\")\n"
      ],
      "metadata": {
        "colab": {
          "base_uri": "https://localhost:8080/"
        },
        "id": "AouX_67LNLXS",
        "outputId": "df3446d2-602f-4edc-fb0e-a106461f8573"
      },
      "execution_count": 15,
      "outputs": [
        {
          "output_type": "stream",
          "name": "stdout",
          "text": [
            "File copied successfully!\n"
          ]
        }
      ]
    },
    {
      "cell_type": "markdown",
      "source": [
        "5. How would you catch and handle division by zero error in Python?"
      ],
      "metadata": {
        "id": "YYhgG4_EN_zl"
      }
    },
    {
      "cell_type": "code",
      "source": [
        "try:\n",
        "    result = 10 / 0\n",
        "except ZeroDivisionError:\n",
        "    print(\"Error: Division by zero is not allowed.\")\n"
      ],
      "metadata": {
        "colab": {
          "base_uri": "https://localhost:8080/"
        },
        "id": "0Jpr7XjdODps",
        "outputId": "94d2890e-e198-46b0-9029-8a9277b9fa67"
      },
      "execution_count": 16,
      "outputs": [
        {
          "output_type": "stream",
          "name": "stdout",
          "text": [
            "Error: Division by zero is not allowed.\n"
          ]
        }
      ]
    },
    {
      "cell_type": "markdown",
      "source": [
        "6. Write a Python program that logs an error message to a log file when a division by zero exception occurs."
      ],
      "metadata": {
        "id": "YO5iJbPTOvNW"
      }
    },
    {
      "cell_type": "code",
      "source": [
        "import logging\n",
        "logging.basicConfig(filename=\"error.log\", level=logging.ERROR)\n",
        "\n",
        "try:\n",
        "    x = 5 / 0\n",
        "except ZeroDivisionError:\n",
        "    logging.error(\"Division by zero attempted.\")\n"
      ],
      "metadata": {
        "colab": {
          "base_uri": "https://localhost:8080/"
        },
        "id": "YbTCTfTbO6S3",
        "outputId": "65fbaf06-ec77-47ce-c244-f7b07aa5bbda"
      },
      "execution_count": 17,
      "outputs": [
        {
          "output_type": "stream",
          "name": "stderr",
          "text": [
            "ERROR:root:Division by zero attempted.\n"
          ]
        }
      ]
    },
    {
      "cell_type": "markdown",
      "source": [
        "7. How do you log information at different levels (INFO, ERROR, WARNING) in Python using the logging module?"
      ],
      "metadata": {
        "id": "etFamoDUPAtQ"
      }
    },
    {
      "cell_type": "code",
      "source": [
        "import logging\n",
        "logging.basicConfig(level=logging.DEBUG)\n",
        "\n",
        "logging.info(\"This is an info message.\")\n",
        "logging.warning(\"This is a warning message.\")\n",
        "logging.error(\"This is an error message.\")\n"
      ],
      "metadata": {
        "colab": {
          "base_uri": "https://localhost:8080/"
        },
        "id": "i2J_YA6qPGAw",
        "outputId": "7afe5632-8035-4d7b-f3c2-875ce197facd"
      },
      "execution_count": 19,
      "outputs": [
        {
          "output_type": "stream",
          "name": "stderr",
          "text": [
            "WARNING:root:This is a warning message.\n",
            "ERROR:root:This is an error message.\n"
          ]
        }
      ]
    },
    {
      "cell_type": "markdown",
      "source": [
        "8. Write a program to handle a file opening error using exception handling."
      ],
      "metadata": {
        "id": "_GZpFALpPPk9"
      }
    },
    {
      "cell_type": "code",
      "source": [
        "try:\n",
        "    file = open(\"missing.txt\", \"r\")\n",
        "except FileNotFoundError:\n",
        "    print(\"File not found error.\")\n"
      ],
      "metadata": {
        "colab": {
          "base_uri": "https://localhost:8080/"
        },
        "id": "XdSRMC-yPS-1",
        "outputId": "2bb9a8ea-7359-4603-c1bd-65f24e31cd54"
      },
      "execution_count": 20,
      "outputs": [
        {
          "output_type": "stream",
          "name": "stdout",
          "text": [
            "File not found error.\n"
          ]
        }
      ]
    },
    {
      "cell_type": "markdown",
      "source": [
        "9. How can you read a file line by line and store its content in a list in Python?"
      ],
      "metadata": {
        "id": "DZgHgKpnPnPp"
      }
    },
    {
      "cell_type": "code",
      "source": [
        "with open(\"source.txt\", \"w\") as f:\n",
        "    f.write(\"Hello!\\n\")\n",
        "    f.write(\"My name is Shivanshu.\\n\")\n",
        "    f.write(\"My age is 22.\\n\")\n",
        "\n",
        "print(\"source.txt created!\")\n",
        "\n",
        "lines = []\n",
        "with open(\"source.txt\", \"r\") as file:\n",
        "    for line in file:\n",
        "        lines.append(line.strip())  # remove newline\n",
        "\n",
        "print(\"File contents as list:\")\n",
        "print(lines)\n"
      ],
      "metadata": {
        "colab": {
          "base_uri": "https://localhost:8080/"
        },
        "id": "qqFCAkFKPs1o",
        "outputId": "1c7e0026-8bd2-4f25-f3ed-9e4c1fb6c52f"
      },
      "execution_count": 23,
      "outputs": [
        {
          "output_type": "stream",
          "name": "stdout",
          "text": [
            "source.txt created!\n",
            "File contents as list:\n",
            "['Hello!', 'My name is Shivanshu.', 'My age is 22.']\n"
          ]
        }
      ]
    },
    {
      "cell_type": "markdown",
      "source": [
        "10. How can you append data to an existing file in Python?"
      ],
      "metadata": {
        "id": "o8UgUSL5Qdeh"
      }
    },
    {
      "cell_type": "code",
      "source": [
        "with open(\"append.txt\", \"a\") as file:\n",
        "    file.write(\"\\nNew line added.\")\n"
      ],
      "metadata": {
        "id": "gUKtiLLRUbg7"
      },
      "execution_count": 24,
      "outputs": []
    },
    {
      "cell_type": "markdown",
      "source": [
        "11. Write a Python program that uses a try-except block to handle an error when attempting to access a dictionary key that doesn't exist."
      ],
      "metadata": {
        "id": "tGSmh53HVYEu"
      }
    },
    {
      "cell_type": "code",
      "source": [
        "data = {\"name\": \"John\"}\n",
        "try:\n",
        "    print(data[\"age\"])\n",
        "except KeyError:\n",
        "    print(\"Key not found in dictionary.\")\n"
      ],
      "metadata": {
        "colab": {
          "base_uri": "https://localhost:8080/"
        },
        "id": "qmV1WR3ZVbKG",
        "outputId": "70e61f80-cbed-4923-b733-60d3bfe1d102"
      },
      "execution_count": 25,
      "outputs": [
        {
          "output_type": "stream",
          "name": "stdout",
          "text": [
            "Key not found in dictionary.\n"
          ]
        }
      ]
    },
    {
      "cell_type": "markdown",
      "source": [
        "12. Write a program that demonstrates using multiple except blocks to handle different types of exceptions."
      ],
      "metadata": {
        "id": "fXMnASKbVgUz"
      }
    },
    {
      "cell_type": "code",
      "source": [
        "try:\n",
        "    num = int(\"abc\")\n",
        "except ValueError:\n",
        "    print(\"Invalid number format.\")\n",
        "except ZeroDivisionError:\n",
        "    print(\"Division by zero error.\")\n"
      ],
      "metadata": {
        "colab": {
          "base_uri": "https://localhost:8080/"
        },
        "id": "Oi0IPtZxV5nl",
        "outputId": "726367b3-b579-4b99-afab-4f4dc6727fc8"
      },
      "execution_count": 26,
      "outputs": [
        {
          "output_type": "stream",
          "name": "stdout",
          "text": [
            "Invalid number format.\n"
          ]
        }
      ]
    },
    {
      "cell_type": "markdown",
      "source": [
        "13. How would you check if a file exists before attempting to read it in Python?"
      ],
      "metadata": {
        "id": "vJrepAGXWCK6"
      }
    },
    {
      "cell_type": "code",
      "source": [
        "import os\n",
        "if os.path.exists(\"check.txt\"):\n",
        "    with open(\"check.txt\", \"r\") as file:\n",
        "        print(file.read())\n",
        "else:\n",
        "    print(\"File does not exist.\")\n"
      ],
      "metadata": {
        "colab": {
          "base_uri": "https://localhost:8080/"
        },
        "id": "226Mk6S1WFS5",
        "outputId": "0614e7e5-060e-44c0-eff5-e690de46fdcd"
      },
      "execution_count": 27,
      "outputs": [
        {
          "output_type": "stream",
          "name": "stdout",
          "text": [
            "File does not exist.\n"
          ]
        }
      ]
    },
    {
      "cell_type": "markdown",
      "source": [
        "14. Write a program that uses the logging module to log both informational and error messages."
      ],
      "metadata": {
        "id": "OlUsHpTfWUya"
      }
    },
    {
      "cell_type": "code",
      "source": [
        "import logging\n",
        "logging.basicConfig(filename=\"logfile.log\", level=logging.INFO)\n",
        "\n",
        "logging.info(\"Program started successfully.\")\n",
        "logging.error(\"An error occurred in processing.\")\n"
      ],
      "metadata": {
        "colab": {
          "base_uri": "https://localhost:8080/"
        },
        "id": "gYIHKhLcWXxB",
        "outputId": "ff7c1219-1922-4703-827e-34abff5d09c0"
      },
      "execution_count": 28,
      "outputs": [
        {
          "output_type": "stream",
          "name": "stderr",
          "text": [
            "ERROR:root:An error occurred in processing.\n"
          ]
        }
      ]
    },
    {
      "cell_type": "markdown",
      "source": [
        "15. Write a Python program that prints the content of a file and handles the case when the file is empty."
      ],
      "metadata": {
        "id": "lBWZA3_bXX96"
      }
    },
    {
      "cell_type": "code",
      "source": [
        "with open(\"source.txt\", \"w\") as f:\n",
        "    f.write(\"Hello!\\n\")\n",
        "    f.write(\"Myself Shivanshu.\\n\")\n",
        "\n",
        "print(\"✅ source.txt created successfully!\")\n",
        "\n",
        "with open(\"source.txt\", \"r\") as file:\n",
        "    content = file.read()\n",
        "    if content.strip():\n",
        "        print(\"📄 File content:\\n\", content)\n",
        "    else:\n",
        "        print(\"⚠ The file is empty.\")\n"
      ],
      "metadata": {
        "colab": {
          "base_uri": "https://localhost:8080/"
        },
        "id": "R7JzMVUIXbX1",
        "outputId": "aa371fb4-1693-4f7c-b617-b508c2a7f3e6"
      },
      "execution_count": 31,
      "outputs": [
        {
          "output_type": "stream",
          "name": "stdout",
          "text": [
            "✅ source.txt created successfully!\n",
            "📄 File content:\n",
            " Hello!\n",
            "Myself Shivanshu.\n",
            "\n"
          ]
        }
      ]
    },
    {
      "cell_type": "markdown",
      "source": [
        "16. Demonstrate how to use memory profiling to check the memory usage of a small program."
      ],
      "metadata": {
        "id": "9dtODWkwZTgp"
      }
    },
    {
      "cell_type": "code",
      "source": [
        "!pip install memory_profiler\n",
        "%load_ext memory_profiler\n",
        "\n",
        "def create_list():\n",
        "    big_list = [i for i in range(10)]\n",
        "    return big_list\n",
        "\n",
        "%memit create_list()\n"
      ],
      "metadata": {
        "colab": {
          "base_uri": "https://localhost:8080/"
        },
        "id": "5UXvLAVVanh4",
        "outputId": "ff6a593a-5891-457f-fad9-ad6302d3f446"
      },
      "execution_count": 36,
      "outputs": [
        {
          "output_type": "stream",
          "name": "stdout",
          "text": [
            "Requirement already satisfied: memory_profiler in /usr/local/lib/python3.11/dist-packages (0.61.0)\n",
            "Requirement already satisfied: psutil in /usr/local/lib/python3.11/dist-packages (from memory_profiler) (5.9.5)\n",
            "peak memory: 331.17 MiB, increment: 0.15 MiB\n"
          ]
        }
      ]
    },
    {
      "cell_type": "markdown",
      "source": [
        "17. Write a Python program to create and write a list of numbers to a file, one number per line."
      ],
      "metadata": {
        "id": "JRNY1IymbBBs"
      }
    },
    {
      "cell_type": "code",
      "source": [
        "numbers = [1, 2, 3, 4, 5]\n",
        "with open(\"numbers.txt\", \"w\") as file:\n",
        "    for num in numbers:\n",
        "        file.write(str(num) + \"\\n\")\n",
        "with open(\"numbers.txt\", \"r\") as f:\n",
        "    print(f.read())\n"
      ],
      "metadata": {
        "colab": {
          "base_uri": "https://localhost:8080/"
        },
        "id": "aENfDCGieuW1",
        "outputId": "d8dba66f-1a7c-4aad-8869-7248ae7ecdcc"
      },
      "execution_count": 38,
      "outputs": [
        {
          "output_type": "stream",
          "name": "stdout",
          "text": [
            "1\n",
            "2\n",
            "3\n",
            "4\n",
            "5\n",
            "\n"
          ]
        }
      ]
    },
    {
      "cell_type": "markdown",
      "source": [
        "18. How would you implement a basic logging setup that logs to a file with rotation after 1MB?"
      ],
      "metadata": {
        "id": "CzNGksdAfJao"
      }
    },
    {
      "cell_type": "code",
      "source": [
        "import logging\n",
        "from logging.handlers import RotatingFileHandler\n",
        "\n",
        "handler = RotatingFileHandler(\"rotating.log\", maxBytes=10, backupCount=3)\n",
        "logging.basicConfig(handlers=[handler], level=logging.INFO)\n",
        "logging.info(\"Rotating log setup complete.\")\n",
        "with open(\"rotating.log\", \"r\") as f:\n",
        "    print(f.read())\n"
      ],
      "metadata": {
        "colab": {
          "base_uri": "https://localhost:8080/"
        },
        "id": "U-LKjOnJfMZw",
        "outputId": "eba85769-5d97-4ece-9e36-7e56df192f22"
      },
      "execution_count": 41,
      "outputs": [
        {
          "output_type": "stream",
          "name": "stdout",
          "text": [
            "\n"
          ]
        }
      ]
    },
    {
      "cell_type": "markdown",
      "source": [
        "19. Write a program that handles both IndexError and KeyError using a try-except block."
      ],
      "metadata": {
        "id": "GrACWNjgfieW"
      }
    },
    {
      "cell_type": "code",
      "source": [
        "try:\n",
        "    my_list = [1, 2, 3]\n",
        "    print(my_list[5])\n",
        "except IndexError:\n",
        "    print(\"List index out of range.\")\n",
        "\n",
        "try:\n",
        "    my_dict = {\"a\": 1}\n",
        "    print(my_dict[\"b\"])\n",
        "except KeyError:\n",
        "    print(\"Dictionary key not found.\")\n"
      ],
      "metadata": {
        "colab": {
          "base_uri": "https://localhost:8080/"
        },
        "id": "9vIVRMycfnBc",
        "outputId": "fbb2b3fa-f2b2-4da3-d55d-2672051791f9"
      },
      "execution_count": 43,
      "outputs": [
        {
          "output_type": "stream",
          "name": "stdout",
          "text": [
            "List index out of range.\n",
            "Dictionary key not found.\n"
          ]
        }
      ]
    },
    {
      "cell_type": "markdown",
      "source": [
        "20. How would you open a file and read its contents using a context manager in Python?"
      ],
      "metadata": {
        "id": "ecc64KujgKK6"
      }
    },
    {
      "cell_type": "code",
      "source": [
        "with open(\"context.txt\", \"w\") as f:\n",
        "    f.write(\"This is a sample file created in Colab.\\n\")\n",
        "    f.write(\"You can now read its contents without error.\\n\")\n",
        "\n",
        "with open(\"context.txt\", \"r\") as file:\n",
        "    print(file.read())\n"
      ],
      "metadata": {
        "colab": {
          "base_uri": "https://localhost:8080/"
        },
        "id": "F6zPU1w3gKx9",
        "outputId": "044f23ad-c129-4b63-e379-b62358fe8a46"
      },
      "execution_count": 45,
      "outputs": [
        {
          "output_type": "stream",
          "name": "stdout",
          "text": [
            "This is a sample file created in Colab.\n",
            "You can now read its contents without error.\n",
            "\n"
          ]
        }
      ]
    },
    {
      "cell_type": "markdown",
      "source": [
        "21. Write a Python program that reads a file and prints the number of occurrences of a specific word."
      ],
      "metadata": {
        "id": "3jqW1ksBggPz"
      }
    },
    {
      "cell_type": "code",
      "source": [
        "with open(\"text.txt\", \"w\") as f:\n",
        "    f.write(\"Python is great.\\n\")\n",
        "    f.write(\"I am learning Python in Google Colab.\\n\")\n",
        "    f.write(\"Python, Python, Python everywhere!\\n\")\n",
        "\n",
        "word_to_find = \"Python\"\n",
        "with open(\"text.txt\", \"r\") as file:\n",
        "    content = file.read()\n",
        "\n",
        "count = content.count(word_to_find)\n",
        "print(f\"'{word_to_find}' found {count} times.\")\n"
      ],
      "metadata": {
        "colab": {
          "base_uri": "https://localhost:8080/"
        },
        "id": "GuDpGJ4KgkLG",
        "outputId": "5d26bc48-8950-49f5-f7fd-360cea6401df"
      },
      "execution_count": 47,
      "outputs": [
        {
          "output_type": "stream",
          "name": "stdout",
          "text": [
            "'Python' found 5 times.\n"
          ]
        }
      ]
    },
    {
      "cell_type": "markdown",
      "source": [
        "22. How can you check if a file is empty before attempting to read its contents?"
      ],
      "metadata": {
        "id": "lOHjVciug5-J"
      }
    },
    {
      "cell_type": "code",
      "source": [
        "import os\n",
        "with open(\"emptycheck.txt\", \"w\") as f:\n",
        "     f.write(\"This file is not empty.\\n\")\n",
        "\n",
        "if os.path.getsize(\"emptycheck.txt\") == 0:\n",
        "    print(\"The file is empty.\")\n",
        "else:\n",
        "    with open(\"emptycheck.txt\", \"r\") as file:\n",
        "        print(file.read())\n"
      ],
      "metadata": {
        "colab": {
          "base_uri": "https://localhost:8080/"
        },
        "id": "Zk31jmDPg-U1",
        "outputId": "89be16e8-a629-470c-bc15-374810c6e4f6"
      },
      "execution_count": 49,
      "outputs": [
        {
          "output_type": "stream",
          "name": "stdout",
          "text": [
            "This file is not empty.\n",
            "\n"
          ]
        }
      ]
    },
    {
      "cell_type": "markdown",
      "source": [
        "23. Write a Python program that writes to a log file when an error occurs during file handling."
      ],
      "metadata": {
        "id": "RpIy6WnVhaOg"
      }
    },
    {
      "cell_type": "code",
      "source": [
        "import logging\n",
        "logging.basicConfig(filename=\"fileerror.log\", level=logging.ERROR)\n",
        "\n",
        "try:\n",
        "    with open(\"nofile.txt\", \"r\") as file:\n",
        "        print(file.read())\n",
        "except FileNotFoundError as e:\n",
        "    logging.error(f\"Error occurred: {e}\")\n"
      ],
      "metadata": {
        "colab": {
          "base_uri": "https://localhost:8080/"
        },
        "id": "9GAKUQ36hc_W",
        "outputId": "959b99b5-fb3c-4989-83ac-b07a2e5d76ba"
      },
      "execution_count": 53,
      "outputs": [
        {
          "output_type": "stream",
          "name": "stderr",
          "text": [
            "ERROR:root:Error occurred: [Errno 2] No such file or directory: 'nofile.txt'\n"
          ]
        }
      ]
    }
  ]
}