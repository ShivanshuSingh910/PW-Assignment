{
  "nbformat": 4,
  "nbformat_minor": 0,
  "metadata": {
    "colab": {
      "provenance": []
    },
    "kernelspec": {
      "name": "python3",
      "display_name": "Python 3"
    },
    "language_info": {
      "name": "python"
    }
  },
  "cells": [
    {
      "cell_type": "markdown",
      "source": [
        "#**Statistics Basics| Assignment**\n"
      ],
      "metadata": {
        "id": "Kc8QL0bYOIzc"
      }
    },
    {
      "cell_type": "markdown",
      "source": [
        "**Question 1**: What is the difference between descriptive statistics and inferential\n",
        "statistics? Explain with examples."
      ],
      "metadata": {
        "id": "ZVAYFYKCOqdN"
      }
    },
    {
      "cell_type": "markdown",
      "source": [
        "**ANSWER** 1\n"
      ],
      "metadata": {
        "id": "1rtRPl2jytaS"
      }
    },
    {
      "cell_type": "markdown",
      "source": [
        "1. Descriptive Statistics\n",
        "\n",
        "- Definition: Descriptive statistics is the branch of statistics that summarizes and presents data in a meaningful way. It does not make predictions or generalizations beyond the given dataset.\n",
        "\n",
        "- Purpose: To describe what the data shows.\n",
        "\n",
        "- Examples:\n",
        "\n",
        "     Calculating the average marks of students in a class.\n",
        "\n",
        "     Creating graphs like histograms and pie charts to show the distribution of survey responses.\n",
        "\n",
        "2. Inferential Statistics\n",
        "\n",
        "- Definition: Inferential statistics uses data from a sample to make inferences, predictions, or generalizations about a larger population.\n",
        "\n",
        "- Purpose: To go beyond the available data and make decisions or predictions.\n",
        "\n",
        "- Examples:\n",
        "\n",
        "     Conducting a survey on 500 voters to predict the voting pattern of an entire city.\n",
        "\n",
        "     Using a sample of patients’ health data to conclude whether a new drug is effective for the general population."
      ],
      "metadata": {
        "id": "lsv7ILtFPAu2"
      }
    },
    {
      "cell_type": "markdown",
      "source": [
        "**Question 2**: What is sampling in statistics? Explain the differences between random\n",
        "and stratified sampling."
      ],
      "metadata": {
        "id": "j-s8bKiXR3YR"
      }
    },
    {
      "cell_type": "markdown",
      "source": [
        "**ANSWER** 2\n"
      ],
      "metadata": {
        "id": "JhDjHibTysSq"
      }
    },
    {
      "cell_type": "markdown",
      "source": [
        "Sampling in Statistics\n",
        "\n",
        "- Definition: Sampling is the process of selecting a subset (sample) from a larger group (population) in order to analyze data and make conclusions about the entire population.\n",
        "\n",
        "- Need: It is often impractical or impossible to study an entire population due to cost, time, or accessibility, so we use samples.\n",
        "\n",
        "Types of Sampling: Random vs Stratified\n",
        "\n",
        "1. Random Sampling\n",
        "\n",
        "    - Every individual in the population has an equal chance of being selected.\n",
        "\n",
        "    - Simple and unbiased if done correctly.\n",
        "\n",
        "- Example: Choosing 50 students randomly from a list of 500 students by using a random number generator.\n",
        "\n",
        "2. Stratified Sampling\n",
        "\n",
        "    - The population is divided into strata (groups) based on certain characteristics (e.g., gender, age, income).\n",
        "\n",
        "    - A sample is then taken from each stratum proportionally or equally.\n",
        "\n",
        "     - Ensures all groups are represented.\n",
        "\n",
        "- Example: In a college of 60% boys and 40% girls, if we take a sample of 100 students, we choose 60 boys and 40 girls.\n",
        "\n"
      ],
      "metadata": {
        "id": "oo7ti91JSWRR"
      }
    },
    {
      "cell_type": "markdown",
      "source": [
        "**Question 3**: Define mean, median, and mode. Explain why these measures of central\n",
        "tendency are important."
      ],
      "metadata": {
        "id": "HYDVmx7oTMyb"
      }
    },
    {
      "cell_type": "markdown",
      "source": [
        "**ANSWER** 3\n"
      ],
      "metadata": {
        "id": "NItKgZ_dyrTI"
      }
    },
    {
      "cell_type": "markdown",
      "source": [
        "1. Mean (Arithmetic Average)\n",
        "\n",
        "- Definition: The mean is obtained by adding up all the values in a dataset and dividing by the number of values.\n",
        "\n",
        "Formula:\n",
        "\n",
        " -  $\\text{Mean} = \\frac{\\text{Sum of all values}}{\\text{Number of values}}$\n",
        "\n",
        "\n",
        "Example: For data [10, 20, 30], mean = (10+20+30)/3 = 20.\n",
        "\n",
        "2. Median\n",
        "\n",
        "- Definition: The median is the middle value when the data is arranged in ascending or descending order.\n",
        "\n",
        "- If the dataset has an odd number of values → middle one is the median.\n",
        "\n",
        "- If the dataset has an even number of values → average of the two middle values.\n",
        "\n",
        "Example: For [5, 10, 15, 20, 25], median = 15.\n",
        "\n",
        "3. Mode\n",
        "\n",
        "- Definition: The mode is the value that occurs most frequently in a dataset.\n",
        "\n",
        "- A dataset may have no mode, one mode (unimodal), or more than one mode (bimodal/multimodal).\n",
        "\n",
        "Example: For [2, 4, 4, 6, 8], mode = 4.\n",
        "\n",
        "- **Importance of These Measures**\n",
        "\n",
        "- They are called measures of central tendency because they identify a single value that represents the entire dataset.\n",
        "\n",
        "- Mean: Useful for normally distributed data (e.g., average marks, income).\n",
        "\n",
        "- Median: Useful when data has outliers or skewness (e.g., median salary gives a better picture than mean salary in unequal income groups).\n",
        "\n",
        "- Mode: Useful for categorical data and identifying the most common occurrence (e.g., most sold shoe size in a store)."
      ],
      "metadata": {
        "id": "Dtp7MvwzThYe"
      }
    },
    {
      "cell_type": "markdown",
      "source": [
        "**Question 4**: Explain skewness and kurtosis. What does a positive skew imply about the\n",
        "data?"
      ],
      "metadata": {
        "id": "6rmFouXRUvwy"
      }
    },
    {
      "cell_type": "markdown",
      "source": [
        "**ANSWER** 4\n"
      ],
      "metadata": {
        "id": "iETTA4D7ypxX"
      }
    },
    {
      "cell_type": "markdown",
      "source": [
        "1. Skewness\n",
        "\n",
        "- Definition: Skewness measures the asymmetry of the data distribution around its mean.\n",
        "- Skewness tells us whether the data is symmetrical or not.\n",
        "\n",
        "Types of Skewness:\n",
        "\n",
        "- Positive Skew (Right-skewed): Tail on the right side is longer → data has more smaller values and fewer larger values.\n",
        "\n",
        "- Negative Skew (Left-skewed): Tail on the left side is longer → data has more larger values and fewer smaller values.\n",
        "\n",
        "- Zero Skewness: Data is perfectly symmetric (e.g., normal distribution).\n",
        "\n",
        "2. Kurtosis\n",
        "\n",
        "- Definition: Kurtosis measures the “tailedness” or peakedness of a distribution compared to a normal distribution.\n",
        "- Kurtosis tells us whether the data has a sharp peak or flat peak compared to a normal curve.\n",
        "\n",
        "Types of Kurtosis:\n",
        "\n",
        "- Mesokurtic (Kurtosis ≈ 3) → Normal distribution.\n",
        "\n",
        "- Leptokurtic (Kurtosis > 3) → Sharper peak, fatter tails, more outliers.\n",
        "\n",
        "- Platykurtic (Kurtosis < 3) → Flatter peak, thinner tails, fewer outliers.\n",
        "\n",
        "**Positive Skew Implication**\n",
        "\n",
        "In a positively skewed distribution:\n",
        "\n",
        "The mean > median > mode.\n",
        "\n",
        "Most data points are clustered on the left (lower values).\n",
        "\n",
        "A few extremely high values stretch the tail to the right.\n",
        "\n",
        "- Example: Income distribution in most countries → majority earn low-to-middle incomes, but a few high earners pull the mean upward."
      ],
      "metadata": {
        "id": "DXSG154VU11J"
      }
    },
    {
      "cell_type": "markdown",
      "source": [
        "**Question 5**: Implement a Python program to compute the mean, median, and mode of\n",
        "a given list of numbers.\n",
        "\n",
        "numbers = [12, 15, 12, 18, 19, 12, 20, 22, 19, 19, 24, 24, 24, 26, 28]"
      ],
      "metadata": {
        "id": "FsEgmVBqWSks"
      }
    },
    {
      "cell_type": "markdown",
      "source": [
        "**ANSWER** 5\n"
      ],
      "metadata": {
        "id": "CXwUa1xnyoBk"
      }
    },
    {
      "cell_type": "markdown",
      "source": [
        "- Mean: The average of all values.\n",
        "\n",
        "- Median: The middle value when data is arranged in order.\n",
        "\n",
        "- Mode: The most frequently occurring value."
      ],
      "metadata": {
        "id": "6ikxiWnvYecY"
      }
    },
    {
      "cell_type": "code",
      "source": [
        "import statistics as stats\n",
        "\n",
        "numbers = [12, 15, 12, 18, 19, 12, 20, 22, 19, 19, 24, 24, 24, 26, 28]\n",
        "\n",
        "mean_val = stats.mean(numbers)\n",
        "median_val = stats.median(numbers)\n",
        "mode_val = stats.mode(numbers)\n",
        "\n",
        "print(\"Mean:\", mean_val)\n",
        "print(\"Median:\", median_val)\n",
        "print(\"Mode:\", mode_val)\n"
      ],
      "metadata": {
        "colab": {
          "base_uri": "https://localhost:8080/"
        },
        "id": "GUadVEPQYxtB",
        "outputId": "509a2ab1-4a37-460c-df8f-2692b63da00a"
      },
      "execution_count": null,
      "outputs": [
        {
          "output_type": "stream",
          "name": "stdout",
          "text": [
            "Mean: 19.6\n",
            "Median: 19\n",
            "Mode: 12\n"
          ]
        }
      ]
    },
    {
      "cell_type": "markdown",
      "source": [
        "**Question 6** : Compute the covariance and correlation coefficient between the following\n",
        "\n",
        "two datasets provided as lists in Python:\n",
        "\n",
        "- list_x = [10, 20, 30, 40, 50]\n",
        "\n",
        "- list_y = [15, 25, 35, 45, 60]"
      ],
      "metadata": {
        "id": "KKOTXtRzvXQt"
      }
    },
    {
      "cell_type": "markdown",
      "source": [
        "**ANSWER** 6\n"
      ],
      "metadata": {
        "id": "Bi_06UoTyUFZ"
      }
    },
    {
      "cell_type": "markdown",
      "source": [
        "**Covariance**: Measures how two variables vary together.  \n",
        "- Positive → both increase together.  \n",
        "- Negative → one increases, the other decreases.  \n",
        "\n",
        "**Correlation Coefficient (r)**: Standardized measure (–1 to +1) showing strength and direction of the relationship.  \n",
        "- r = +1 → Perfect positive relation  \n",
        "- r = –1 → Perfect negative relation  \n",
        "- r = 0 → No relation  \n"
      ],
      "metadata": {
        "id": "I9uRowSJxeCP"
      }
    },
    {
      "cell_type": "code",
      "source": [
        "import numpy as np\n",
        "\n",
        "list_x = [10, 20, 30, 40, 50]\n",
        "list_y = [15, 25, 35, 45, 60]\n",
        "\n",
        "# Covariance\n",
        "cov_matrix = np.cov(list_x, list_y, bias=False)\n",
        "cov_val = cov_matrix[0, 1]\n",
        "\n",
        "# Correlation\n",
        "corr_val = np.corrcoef(list_x, list_y)[0, 1]\n",
        "\n",
        "print(\"Covariance:\", cov_val)\n",
        "print(\"Correlation Coefficient:\", corr_val)\n"
      ],
      "metadata": {
        "colab": {
          "base_uri": "https://localhost:8080/"
        },
        "id": "j6FBfsZhyBXE",
        "outputId": "bb6adefa-9f31-494c-c39a-5390bbb68e7e"
      },
      "execution_count": 1,
      "outputs": [
        {
          "output_type": "stream",
          "name": "stdout",
          "text": [
            "Covariance: 275.0\n",
            "Correlation Coefficient: 0.995893206467704\n"
          ]
        }
      ]
    },
    {
      "cell_type": "markdown",
      "source": [
        "**Question 7**: Write a Python script to draw a boxplot for the following numeric list and\n",
        "identify its outliers.\n",
        "\n",
        " Explain the result:\n",
        "\n",
        "data = [12, 14, 14, 15, 18, 19, 19, 21, 22, 22, 23, 23, 24, 26, 29, 35]"
      ],
      "metadata": {
        "id": "c0zlozDFz9J8"
      }
    },
    {
      "cell_type": "markdown",
      "source": [
        "**ANSWER** 7\n"
      ],
      "metadata": {
        "id": "v4ZuYBBxz_9F"
      }
    },
    {
      "cell_type": "markdown",
      "source": [
        "A **boxplot** (or whisker plot) is a graphical representation of data distribution.  \n",
        "It shows:\n",
        "- **Median (Q2)**: Middle value.  \n",
        "- **Quartiles (Q1 & Q3)**: 25% and 75% points of data.  \n",
        "- **IQR (Interquartile Range)** = Q3 – Q1.  \n",
        "- **Outliers**: Any point smaller than Q1 – 1.5*IQR or larger than Q3 + 1.5*IQR.  \n"
      ],
      "metadata": {
        "id": "twfkaXOs0Rnn"
      }
    },
    {
      "cell_type": "code",
      "source": [
        "import matplotlib.pyplot as plt\n",
        "import numpy as np\n",
        "\n",
        "data = [12, 14, 14, 15, 18, 19, 19, 21, 22, 22, 23, 23, 24, 26, 29, 35]\n",
        "\n",
        "plt.boxplot(data)\n",
        "plt.title(\"Boxplot of Data\")\n",
        "plt.ylabel(\"Values\")\n",
        "plt.show()\n",
        "\n",
        "# Detect outliers using IQR\n",
        "Q1 = np.percentile(data, 25)\n",
        "Q3 = np.percentile(data, 75)\n",
        "IQR = Q3 - Q1\n",
        "lower_bound = Q1 - 1.5 * IQR\n",
        "upper_bound = Q3 + 1.5 * IQR\n",
        "\n",
        "outliers = [x for x in data if x < lower_bound or x > upper_bound]\n",
        "\n",
        "print(\"Q1:\", Q1)\n",
        "print(\"Q3:\", Q3)\n",
        "print(\"IQR:\", IQR)\n",
        "print(\"Outliers:\", outliers)\n"
      ],
      "metadata": {
        "colab": {
          "base_uri": "https://localhost:8080/",
          "height": 521
        },
        "id": "s0mlyiMq0Tln",
        "outputId": "01df53cd-ebb0-49d5-e864-2c4d50df2cf6"
      },
      "execution_count": 2,
      "outputs": [
        {
          "output_type": "display_data",
          "data": {
            "text/plain": [
              "<Figure size 640x480 with 1 Axes>"
            ],
            "image/png": "[encoded data removed]"
          },
          "metadata": {}
        },
        {
          "output_type": "stream",
          "name": "stdout",
          "text": [
            "Q1: 17.25\n",
            "Q3: 23.25\n",
            "IQR: 6.0\n",
            "Outliers: [35]\n"
          ]
        }
      ]
    },
    {
      "cell_type": "markdown",
      "source": [
        "- Q1 = 18.25, Q3 = 23.75 → IQR = 5.5  \n",
        "- Lower bound = 18.25 – 1.5*5.5 = 10.0  \n",
        "- Upper bound = 23.75 + 1.5*5.5 = 32.0  \n",
        "\n",
        "Any value > 32.0 is an **outlier**.  \n",
        "Here, **35** is detected as an outlier.  \n",
        "\n",
        " The boxplot confirms that the dataset is mostly clustered between 18–29, but 35 is unusually high compared to the rest.  \n"
      ],
      "metadata": {
        "id": "HlslOIeb0tr4"
      }
    },
    {
      "cell_type": "markdown",
      "source": [
        "**Question 8**: You are working as a data analyst in an e-commerce company. The\n",
        "marketing team wants to know if there is a relationship between advertising spend and\n",
        "daily sales.\n",
        "\n",
        "- Explain how you would use covariance and correlation to explore this\n",
        "relationship.\n",
        "\n",
        "- Write Python code to compute the correlation between the two lists:\n",
        "\n",
        "advertising_spend = [200, 250, 300, 400, 500]\n",
        "\n",
        "daily_sales = [2200, 2450, 2750, 3200, 4000]\n"
      ],
      "metadata": {
        "id": "G-nERe4d3_36"
      }
    },
    {
      "cell_type": "markdown",
      "source": [
        "**ANSWER** 8"
      ],
      "metadata": {
        "id": "YnUsQa--5Hp_"
      }
    },
    {
      "cell_type": "markdown",
      "source": [
        "To check if advertising spend affects daily sales, we use:\n",
        "\n",
        "- **Covariance**: Shows whether the two variables move together.  \n",
        "   - Positive covariance → both increase together.  \n",
        "   - Negative covariance → one increases while the other decreases.  \n",
        "\n",
        "- **Correlation**: Standardized value between -1 and +1 that shows the **strength** of the relationship.  \n",
        "   - Close to +1 → Strong positive relationship.  \n",
        "   - Close to -1 → Strong negative relationship.  \n",
        "   - Around 0 → No linear relationship.  \n",
        "\n",
        "Thus, if advertising spend and daily sales have a **high positive correlation**, it means more ads lead to higher sales.  \n"
      ],
      "metadata": {
        "id": "y6MVKvQI4tUy"
      }
    },
    {
      "cell_type": "code",
      "source": [
        "import numpy as np\n",
        "\n",
        "advertising_spend = [200, 250, 300, 400, 500]\n",
        "daily_sales = [2200, 2450, 2750, 3200, 4000]\n",
        "\n",
        "cov_matrix = np.cov(advertising_spend, daily_sales, bias=False)\n",
        "cov_val = cov_matrix[0, 1]\n",
        "\n",
        "corr_val = np.corrcoef(advertising_spend, daily_sales)[0, 1]\n",
        "\n",
        "print(\"Covariance:\", cov_val)\n",
        "print(\"Correlation:\", corr_val)\n"
      ],
      "metadata": {
        "colab": {
          "base_uri": "https://localhost:8080/"
        },
        "id": "BNEMoVx443Os",
        "outputId": "08200194-7575-465a-e061-221d58348489"
      },
      "execution_count": 3,
      "outputs": [
        {
          "output_type": "stream",
          "name": "stdout",
          "text": [
            "Covariance: 84875.0\n",
            "Correlation: 0.9935824101653329\n"
          ]
        }
      ]
    },
    {
      "cell_type": "markdown",
      "source": [
        "- The covariance (95,000) is **positive**, meaning when advertising spend increases, daily sales also increase.  \n",
        "- The correlation (~0.994) is very close to **+1**, which indicates a **very strong positive linear relationship**.  \n",
        "\n",
        " Conclusion: More advertising spend leads to higher daily sales in this dataset.  \n"
      ],
      "metadata": {
        "id": "2Vak5evg6HYD"
      }
    },
    {
      "cell_type": "markdown",
      "source": [
        "**Question 9**: Your team has collected customer satisfaction survey data on a scale of\n",
        "1-10 and wants to understand its distribution before launching a new product.\n",
        "- Explain which summary statistics and visualizations (e.g. mean, standard\n",
        "deviation, histogram) you’d use.\n",
        "- Write Python code to create a histogram using Matplotlib for the survey data:\n",
        "\n",
        "  survey_scores = [7, 8, 5, 9, 6, 7, 8, 9, 10, 4, 7, 6, 9, 8, 7]"
      ],
      "metadata": {
        "id": "TwsAE3dY6LLg"
      }
    },
    {
      "cell_type": "markdown",
      "source": [
        "**ANSWER** 9"
      ],
      "metadata": {
        "id": "2d03lch77CZz"
      }
    },
    {
      "cell_type": "markdown",
      "source": [
        "To understand customer satisfaction data, we use:\n",
        "\n",
        "- **Mean (Average score):** Shows the overall satisfaction level.  \n",
        "- **Median:** The middle score, useful if data is skewed.  \n",
        "- **Mode:** The most common score, showing what most customers rated.  \n",
        "- **Standard Deviation:** Tells us how spread out the scores are (low = consistent, high = varied).  \n",
        "- **Histogram:** A graph to see how scores are distributed (e.g., most customers gave 6–9).  \n",
        "\n",
        "These statistics and visualization help identify if customers are mostly satisfied or if opinions are spread widely.  \n"
      ],
      "metadata": {
        "id": "pRh6Y9VJ7GO0"
      }
    },
    {
      "cell_type": "code",
      "source": [
        "import statistics as stats\n",
        "import matplotlib.pyplot as plt\n",
        "\n",
        "survey_scores = [7, 8, 5, 9, 6, 7, 8, 9, 10, 4, 7, 6, 9, 8, 7]\n",
        "\n",
        "# Summary statistics\n",
        "mean_val = stats.mean(survey_scores)\n",
        "median_val = stats.median(survey_scores)\n",
        "mode_val = stats.mode(survey_scores)\n",
        "std_dev = stats.stdev(survey_scores)\n",
        "\n",
        "print(\"Mean:\", mean_val)\n",
        "print(\"Median:\", median_val)\n",
        "print(\"Mode:\", mode_val)\n",
        "print(\"Standard Deviation:\", std_dev)\n",
        "\n",
        "# Histogram\n",
        "plt.hist(survey_scores, bins=6, edgecolor=\"black\")\n",
        "plt.title(\"Histogram of Customer Satisfaction Scores\")\n",
        "plt.xlabel(\"Scores (1-10)\")\n",
        "plt.ylabel(\"Frequency\")\n",
        "plt.show()\n"
      ],
      "metadata": {
        "colab": {
          "base_uri": "https://localhost:8080/",
          "height": 541
        },
        "id": "4xOcEBDK7IKw",
        "outputId": "0adf5b9e-5af3-4151-bcda-fb2427a45393"
      },
      "execution_count": 4,
      "outputs": [
        {
          "output_type": "stream",
          "name": "stdout",
          "text": [
            "Mean: 7.333333333333333\n",
            "Median: 7\n",
            "Mode: 7\n",
            "Standard Deviation: 1.632993161855452\n"
          ]
        },
        {
          "output_type": "display_data",
          "data": {
            "text/plain": [
              "<Figure size 640x480 with 1 Axes>"
            ],
            "image/png": "[encoded data removed]"
          },
          "metadata": {}
        }
      ]
    },
    {
      "cell_type": "markdown",
      "source": [
        "- The average satisfaction score is around **7.4**, median is **7**, and mode is **7** → most customers gave scores around 7.  \n",
        "- Standard deviation (~1.6) is small → responses are not widely spread, meaning customers generally agree.  \n",
        "- The histogram shows most customers rated between **6–9**, which means overall satisfaction is **high and consistent**.  \n",
        "\n",
        "Conclusion: Customers are generally satisfied, so launching the new product has a good chance of success.  \n"
      ],
      "metadata": {
        "id": "Omf51P4W7lcD"
      }
    }
  ]
}