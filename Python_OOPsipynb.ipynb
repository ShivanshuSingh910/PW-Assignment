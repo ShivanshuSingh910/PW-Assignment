{
  "nbformat": 4,
  "nbformat_minor": 0,
  "metadata": {
    "colab": {
      "provenance": []
    },
    "kernelspec": {
      "name": "python3",
      "display_name": "Python 3"
    },
    "language_info": {
      "name": "python"
    }
  },
  "cells": [
    {
      "cell_type": "markdown",
      "source": [
        "# **Python OOPs Questions**"
      ],
      "metadata": {
        "id": "e_wG3kxgSJDj"
      }
    },
    {
      "cell_type": "markdown",
      "source": [
        "1.  What is Object-Oriented Programming (OOP)?\n",
        "\n",
        "  - A programming paradigm based on the concept of \"objects\", which can contain data (attributes) and code (methods). It promotes modularity, code reuse, and organization"
      ],
      "metadata": {
        "id": "nE75arEDQvIa"
      }
    },
    {
      "cell_type": "markdown",
      "source": [
        "2. What is a class in OOP?\n",
        " - A blueprint for creating objects. It defines a set of attributes and methods that the created objects (instances) will have."
      ],
      "metadata": {
        "id": "57027HWHQ-Z1"
      }
    },
    {
      "cell_type": "markdown",
      "source": [
        "3. What is an object in OOP?\n",
        "\n",
        " - An instance of a class that has its own data and can use the methods defined in the class."
      ],
      "metadata": {
        "id": "ej52jWBxRHp7"
      }
    },
    {
      "cell_type": "markdown",
      "source": [
        "4.  What is the difference between abstraction and encapsulation?\n",
        " - Abstraction: Hides complexity by showing only essential features.\n",
        "\n",
        " - Encapsulation: Bundles data and methods within a class and restricts access using access modifiers.\n"
      ],
      "metadata": {
        "id": "YkD2tKcDRW-q"
      }
    },
    {
      "cell_type": "markdown",
      "source": [
        "5. What are dunder methods in Python?\n",
        " - Special methods with double underscores, e.g., __init__, __str__, used for operator overloading and custom behavior.\n"
      ],
      "metadata": {
        "id": "0n3kwSPzRsqH"
      }
    },
    {
      "cell_type": "markdown",
      "source": [
        "6. Explain the concept of inheritance in OOP.\n",
        "- Allows a class (child) to inherit properties and methods from another class (parent), promoting code reuse."
      ],
      "metadata": {
        "id": "GYk986r3SEDA"
      }
    },
    {
      "cell_type": "markdown",
      "source": [
        "7. H What is polymorphism in OOP?\n",
        "- The ability of different classes to respond to the same method call in different ways.\n",
        "\n"
      ],
      "metadata": {
        "id": "PoKRZb7sSEwm"
      }
    },
    {
      "cell_type": "markdown",
      "source": [
        "8. How is encapsulation achieved in Python?\n",
        " - Encapsulation is one of the core principles of Object-Oriented Programming (OOP). It refers to wrapping the data (variables) and the code (methods) into a single unit — usually a class — and restricting direct access to some of the object’s components.\n",
        "\n"
      ],
      "metadata": {
        "id": "ROlUBsFiS8ez"
      }
    },
    {
      "cell_type": "markdown",
      "source": [
        "9. What is a constructor in Python?\n",
        "\n",
        " - __init__() is the constructor method, automatically called when a class object is created.\n"
      ],
      "metadata": {
        "id": "uKJXI5dOTcEq"
      }
    },
    {
      "cell_type": "markdown",
      "source": [
        "10. What are class and static methods in Python?\n",
        " - A class method is a method that is bound to the class, not the instance. It can access or modify class-level data using the cls parameter (instead of self).\n",
        "  - A static method is a method that does not access class or instance data. It’s a utility function, defined inside the class for logical grouping."
      ],
      "metadata": {
        "id": "Q4H4e-BWTs5X"
      }
    },
    {
      "cell_type": "markdown",
      "source": [
        "11.  What is method overloading in Python?\n",
        " - Method Overloading means defining multiple methods with the same name but different number or types of arguments.\n",
        "  - Not directly supported. Achieved by default arguments or variable arguments."
      ],
      "metadata": {
        "id": "qpW7YCNaUIAG"
      }
    },
    {
      "cell_type": "markdown",
      "source": [
        "12. What is method overriding in OOP?\n",
        "  - Method Overriding occurs when a child (subclass) provides its own version of a method that is already defined in its parent (superclass)."
      ],
      "metadata": {
        "id": "j1wKTggnYTFP"
      }
    },
    {
      "cell_type": "markdown",
      "source": [
        "13. What is a property decorator in Python?\n",
        "\n",
        "- The @property decorator in Python is used to define a method as a getter, so it can be accessed like an attribute instead of calling it like a method."
      ],
      "metadata": {
        "id": "w-PW4I0rYlmO"
      }
    },
    {
      "cell_type": "markdown",
      "source": [
        "14.Why is polymorphism important in OOP?\n",
        " - In Object-Oriented Programming (OOP), polymorphism allows different classes to be treated through the same interface, even if they behave differently.\n",
        "  - It allows flexibility and reusability of code with a common interface.\n",
        "\n",
        "\n",
        "\n"
      ],
      "metadata": {
        "id": "Qo_Y9TqfY8EU"
      }
    },
    {
      "cell_type": "markdown",
      "source": [
        "15. What is an abstract class in Python?\n",
        " - An abstract class in Python is a blueprint for other classes. It can define abstract methods (methods without implementation) that must be implemented in any subclass.\n"
      ],
      "metadata": {
        "id": "nfC0gRN7ZrLD"
      }
    },
    {
      "cell_type": "markdown",
      "source": [
        "16. What are the advantages of OOP?\n",
        " - Modularity: Code is Organized into Classes\n",
        " - Reusability: Write Once, Use Many Times\n",
        " - Abstraction: Hiding Unnecessary Details\n",
        " - Encapsulation: Protects Data\n",
        " - Polymorphism: Many Forms, One Interface\n"
      ],
      "metadata": {
        "id": "QVD7zkvjaBHi"
      }
    },
    {
      "cell_type": "markdown",
      "source": [
        " 17. What is the difference between a class variable and an instance variable?\n",
        "  - A class variable is shared by all objects of the class. It's declared inside the class but outside any method.\n",
        "- An instance variable is unique to each object. It's defined inside the constructor (__init__) using self.\n",
        "\n"
      ],
      "metadata": {
        "id": "lEzEO_42ankc"
      }
    },
    {
      "cell_type": "markdown",
      "source": [
        "18. What is multiple inheritance in Python?\n",
        " - Multiple Inheritance means a class can inherit from more than one parent class.\n",
        " - This allows a child class to access attributes and methods of multiple base classes."
      ],
      "metadata": {
        "id": "TV6PyRGMcCj7"
      }
    },
    {
      "cell_type": "markdown",
      "source": [
        "19. Explain the purpose of ‘’__str__’ and ‘__repr__’ ‘ methods in Python.\n",
        " - __str__: User-friendly string representation.\n",
        "\n",
        " - __repr__: Developer-focused string for debugging"
      ],
      "metadata": {
        "id": "-ZGcftqvcVPE"
      }
    },
    {
      "cell_type": "markdown",
      "source": [
        "20. What is the significance of the ‘super()’ function in Python?\n",
        " - The super() function in Python is used to call a method from the parent (super) class inside a subclass.\n",
        "\n"
      ],
      "metadata": {
        "id": "J6CH4PI6cmFT"
      }
    },
    {
      "cell_type": "markdown",
      "source": [
        "21. What is the significance of the __del__ method in Python?\n",
        " - The __del__() method in Python is a special (magic) method called when an object is about to be destroyed (i.e., garbage collected).\n",
        " - It's known as a destructor."
      ],
      "metadata": {
        "id": "pqcb7ESlc0Xz"
      }
    },
    {
      "cell_type": "markdown",
      "source": [
        "22. What is the difference between @staticmethod and @classmethod in Python?\n",
        "  - Both @staticmethod and @classmethod are decorators used to define methods inside a class that don't behave like regular instance methods.\n",
        "\n",
        " - But they serve different purposes and take different first arguments\n",
        "\n"
      ],
      "metadata": {
        "id": "QUi_IkAsdFgv"
      }
    },
    {
      "cell_type": "markdown",
      "source": [
        "23.How does polymorphism work in Python with inheritance?\n",
        " - In object-oriented programming, polymorphism allows objects of different classes to be treated as objects of a common superclass, especially when they share the same method name.\n",
        "  - Subclasses override methods of the base class to behave differently.\n",
        "\n"
      ],
      "metadata": {
        "id": "RekWvKl3dVVa"
      }
    },
    {
      "cell_type": "markdown",
      "source": [
        "24. What is method chaining in Python OOP?\n",
        " - Method chaining is a programming technique where multiple method calls are chained together in a single line, using the dot (.) operator.\n",
        "  - Returning self from methods allows chaining calls: obj.method1().method2().\n",
        "\n"
      ],
      "metadata": {
        "id": "1ePXQREkdtYj"
      }
    },
    {
      "cell_type": "markdown",
      "source": [
        "25. What is the purpose of the __call__ method in Python?\n",
        "\n",
        " - When a class defines the __call__ method, you can use its object as if you're calling a function."
      ],
      "metadata": {
        "id": "wwMVgAdqeEzT"
      }
    },
    {
      "cell_type": "markdown",
      "source": [
        "# Practical Questions"
      ],
      "metadata": {
        "id": "dkwayBBEeWGe"
      }
    },
    {
      "cell_type": "markdown",
      "source": [
        "1. Create a parent class Animal with a method speak() that prints a generic message. Create a child class Dog\n",
        "that overrides the speak() method to print \"Bark!\"."
      ],
      "metadata": {
        "id": "yNDEK2jLecaD"
      }
    },
    {
      "cell_type": "code",
      "source": [
        "class Animal:\n",
        "    def speak(self):\n",
        "        print(\"Animal speaks\")\n",
        "\n",
        "class Dog(Animal):\n",
        "    def speak(self):\n",
        "        print(\"Bark!\")"
      ],
      "metadata": {
        "id": "3EK2wab_Nfrl"
      },
      "execution_count": 2,
      "outputs": []
    },
    {
      "cell_type": "markdown",
      "source": [
        "2. Write a program to create an abstract class Shape with a method area(). Derive classes Circle and Rectangle\n",
        "from it and implement the area() method in both."
      ],
      "metadata": {
        "id": "xyeqVPA-N1CD"
      }
    },
    {
      "cell_type": "code",
      "source": [
        "from abc import ABC, abstractmethod\n",
        "\n",
        "class Shape(ABC):\n",
        "    @abstractmethod\n",
        "    def area(self):\n",
        "        pass\n",
        "\n",
        "class Circle(Shape):\n",
        "    def __init__(self, radius):\n",
        "        self.radius = radius\n",
        "\n",
        "    def area(self):\n",
        "        return 3.14 * self.radius ** 2\n",
        "\n",
        "class Rectangle(Shape):\n",
        "    def __init__(self, length, width):\n",
        "        self.length = length\n",
        "        self.width = width\n",
        "\n",
        "    def area(self):\n",
        "        return self.length * self.width"
      ],
      "metadata": {
        "id": "dt80HcsBN6hq"
      },
      "execution_count": 3,
      "outputs": []
    },
    {
      "cell_type": "markdown",
      "source": [
        "3. Implement a multi-level inheritance scenario where a class Vehicle has an attribute type. Derive a class Car\n",
        "and further derive a class ElectricCar that adds a battery attribute."
      ],
      "metadata": {
        "id": "3Bcmf7_NOkLb"
      }
    },
    {
      "cell_type": "code",
      "source": [
        "class Vehicle:\n",
        "    def __init__(self, vtype):\n",
        "        self.type = vtype\n",
        "\n",
        "class Car(Vehicle):\n",
        "    def __init__(self, brand, vtype=\"Car\"):\n",
        "        super().__init__(vtype)\n",
        "        self.brand = brand\n",
        "\n",
        "class ElectricCar(Car):\n",
        "    def __init__(self, brand, battery):\n",
        "        super().__init__(brand)\n",
        "        self.battery = battery"
      ],
      "metadata": {
        "id": "CViNZSzOOl7J"
      },
      "execution_count": 4,
      "outputs": []
    },
    {
      "cell_type": "markdown",
      "source": [
        "4. Demonstrate polymorphism by creating a base class Bird with a method fly(). Create two derived classes\n",
        "Sparrow and Penguin that override the fly() method.\n"
      ],
      "metadata": {
        "id": "A6QfgXflOuC5"
      }
    },
    {
      "cell_type": "code",
      "source": [
        "class Bird:\n",
        "    def fly(self):\n",
        "        print(\"Bird is flying\")\n",
        "\n",
        "class Sparrow(Bird):\n",
        "    def fly(self):\n",
        "        print(\"Sparrow flies high\")\n",
        "\n",
        "class Penguin(Bird):\n",
        "    def fly(self):\n",
        "        print(\"Penguins cannot fly\")"
      ],
      "metadata": {
        "id": "uV_5oCMhOzo3"
      },
      "execution_count": 5,
      "outputs": []
    },
    {
      "cell_type": "markdown",
      "source": [
        "5. Write a program to demonstrate encapsulation by creating a class BankAccount with private attributes\n",
        "balance and methods to deposit, withdraw, and check balance."
      ],
      "metadata": {
        "id": "MDcx0ERnO7xh"
      }
    },
    {
      "cell_type": "code",
      "source": [
        "class BankAccount:\n",
        "    def __init__(self):\n",
        "        self.__balance = 0\n",
        "\n",
        "    def deposit(self, amount):\n",
        "        self.__balance += amount\n",
        "\n",
        "    def withdraw(self, amount):\n",
        "        if amount <= self.__balance:\n",
        "            self.__balance -= amount\n",
        "\n",
        "    def get_balance(self):\n",
        "        return self.__balance"
      ],
      "metadata": {
        "id": "iJ9TSoRmO_Wi"
      },
      "execution_count": 6,
      "outputs": []
    },
    {
      "cell_type": "markdown",
      "source": [
        "6. Demonstrate runtime polymorphism using a method play() in a base class Instrument. Derive classes Guitar\n",
        "and Piano that implement their own version of play().\n",
        "\n",
        "\n"
      ],
      "metadata": {
        "id": "KL-MH3wRPtb7"
      }
    },
    {
      "cell_type": "code",
      "source": [
        "class Instrument:\n",
        "    def play(self):\n",
        "        print(\"Playing instrument\")\n",
        "\n",
        "class Guitar(Instrument):\n",
        "    def play(self):\n",
        "        print(\"Strumming guitar\")\n",
        "\n",
        "class Piano(Instrument):\n",
        "    def play(self):\n",
        "        print(\"Playing piano\")"
      ],
      "metadata": {
        "id": "TD5NaSPEPvlH"
      },
      "execution_count": 7,
      "outputs": []
    },
    {
      "cell_type": "markdown",
      "source": [
        "7. Create a class MathOperations with a class method add_numbers() to add two numbers and a static\n",
        "method subtract_numbers() to subtract two numbers."
      ],
      "metadata": {
        "id": "pnrAi23VQBJq"
      }
    },
    {
      "cell_type": "code",
      "source": [
        "class MathOperations:\n",
        "    def add_numbers(cls, a, b):\n",
        "        return a + b\n",
        "\n",
        "    def subtract_numbers(a, b):\n",
        "        return a - b"
      ],
      "metadata": {
        "id": "YcX-FlJbQEQr"
      },
      "execution_count": 10,
      "outputs": []
    },
    {
      "cell_type": "markdown",
      "source": [
        "8. Implement a class Person with a class method to count the total number of persons created."
      ],
      "metadata": {
        "id": "3DBN4SAKQePe"
      }
    },
    {
      "cell_type": "code",
      "source": [
        "class Person:\n",
        "    count = 0\n",
        "\n",
        "    def __init__(self):\n",
        "        Person.count += 1\n",
        "\n",
        "    def get_count(cls):\n",
        "        return cls.count"
      ],
      "metadata": {
        "id": "ptJi3_8vQfRW"
      },
      "execution_count": 11,
      "outputs": []
    },
    {
      "cell_type": "markdown",
      "source": [
        "9. Write a class Fraction with attributes numerator and denominator. Override the str method to display the\n",
        "fraction as \"numerator/denominator\"."
      ],
      "metadata": {
        "id": "rMQqfXQJQqXX"
      }
    },
    {
      "cell_type": "code",
      "source": [
        "class Fraction:\n",
        "    def __init__(self, numerator, denominator):\n",
        "        self.numerator = numerator\n",
        "        self.denominator = denominator\n",
        "\n",
        "    def __str__(self):\n",
        "        return f\"{self.numerator}/{self.denominator}\""
      ],
      "metadata": {
        "id": "VOC9SuKIQtuL"
      },
      "execution_count": 12,
      "outputs": []
    },
    {
      "cell_type": "markdown",
      "source": [
        "10. Demonstrate operator overloading by creating a class Vector and overriding the add method to add two\n",
        "vectors."
      ],
      "metadata": {
        "id": "hh3PZl04Q7qB"
      }
    },
    {
      "cell_type": "code",
      "source": [
        "class Vector:\n",
        "    def __init__(self, x, y):\n",
        "        self.x = x\n",
        "        self.y = y\n",
        "\n",
        "    def __add__(self, other):\n",
        "        return Vector(self.x + other.x, self.y + other.y)"
      ],
      "metadata": {
        "id": "pPoxlgSIRBYZ"
      },
      "execution_count": 13,
      "outputs": []
    },
    {
      "cell_type": "markdown",
      "source": [
        "11. Create a class Person with attributes name and age. Add a method greet() that prints \"Hello, my name is\n",
        "{name} and I am {age} years old.\""
      ],
      "metadata": {
        "id": "nbiZpdlzRLnV"
      }
    },
    {
      "cell_type": "code",
      "source": [
        "class Person:\n",
        "    def __init__(self, name, age):\n",
        "        self.name = name\n",
        "        self.age = age\n",
        "\n",
        "    def greet(self):\n",
        "        print(f\"Hello, my name is {self.name} and I am {self.age} years old.\")"
      ],
      "metadata": {
        "id": "KVfXFRxTRQBU"
      },
      "execution_count": 14,
      "outputs": []
    },
    {
      "cell_type": "markdown",
      "source": [
        "12. Implement a class Student with attributes name and grades. Create a method average_grade() to compute\n",
        "the average of the grades."
      ],
      "metadata": {
        "id": "q3LnhQ4eRa5G"
      }
    },
    {
      "cell_type": "code",
      "source": [
        "class Student:\n",
        "    def __init__(self, name, grades):\n",
        "        self.name = name\n",
        "        self.grades = grades\n",
        "\n",
        "    def average_grade(self):\n",
        "        return sum(self.grades) / len(self.grades)\n"
      ],
      "metadata": {
        "id": "qafKglQWReoJ"
      },
      "execution_count": 17,
      "outputs": []
    },
    {
      "cell_type": "markdown",
      "source": [
        "13. Create a class Rectangle with methods set_dimensions() to set the dimensions and area() to calculate the\n",
        "area."
      ],
      "metadata": {
        "id": "jd9zJ-XQRlgH"
      }
    },
    {
      "cell_type": "code",
      "source": [
        "class Rectangle:\n",
        "    def set_dimensions(self, l, w):\n",
        "        self.length = l\n",
        "        self.width = w\n",
        "\n",
        "    def area(self):\n",
        "        return self.length * self.width"
      ],
      "metadata": {
        "id": "_1AVAbTQRmNz"
      },
      "execution_count": 16,
      "outputs": []
    },
    {
      "cell_type": "markdown",
      "source": [
        "14. Create a class Employee with a method calculate_salary() that computes the salary based on hours worked\n",
        "and hourly rate. Create a derived class Manager that adds a bonus to the salary."
      ],
      "metadata": {
        "id": "pDKWlmHDRuTL"
      }
    },
    {
      "cell_type": "code",
      "source": [
        "class Employee:\n",
        "    def calculate_salary(self, hours, rate):\n",
        "        return hours * rate\n",
        "\n",
        "class Manager(Employee):\n",
        "    def calculate_salary(self, hours, rate, bonus=1000):\n",
        "        return super().calculate_salary(hours, rate) + bonus"
      ],
      "metadata": {
        "id": "LSFERrNUR0gx"
      },
      "execution_count": 18,
      "outputs": []
    },
    {
      "cell_type": "markdown",
      "source": [
        "15. Create a class Product with attributes name, price, and quantity. Implement a method total_price() that\n",
        "calculates the total price of the product.\n",
        "\n",
        "\n"
      ],
      "metadata": {
        "id": "Nih5SsveR8Xv"
      }
    },
    {
      "cell_type": "code",
      "source": [
        "class Product:\n",
        "    def __init__(self, name, price, quantity):\n",
        "        self.name = name\n",
        "        self.price = price\n",
        "        self.quantity = quantity\n",
        "\n",
        "    def total_price(self):\n",
        "        return self.price * self.quantity\n"
      ],
      "metadata": {
        "id": "sXQnawsaR_uq"
      },
      "execution_count": 19,
      "outputs": []
    },
    {
      "cell_type": "markdown",
      "source": [
        "16. Create a class Animal with an abstract method sound(). Create two derived classes Cow and Sheep that\n",
        "implement the sound() method."
      ],
      "metadata": {
        "id": "6w3svj9DSD3Z"
      }
    },
    {
      "cell_type": "code",
      "source": [
        "class Animal(ABC):\n",
        "      def sound(self):\n",
        "        pass\n",
        "\n",
        "class Cow(Animal):\n",
        "    def sound(self):\n",
        "        return \"Moo\"\n",
        "\n",
        "class Sheep(Animal):\n",
        "    def sound(self):\n",
        "        return \"Baa\""
      ],
      "metadata": {
        "id": "7Q2Z5413SGv0"
      },
      "execution_count": 20,
      "outputs": []
    },
    {
      "cell_type": "markdown",
      "source": [
        "17. Create a class Book with attributes title, author, and year_published. Add a method get_book_info() that\n",
        "returns a formatted string with the book's details."
      ],
      "metadata": {
        "id": "iNhuvkfbSVc4"
      }
    },
    {
      "cell_type": "code",
      "source": [
        "class Book:\n",
        "    def __init__(self, title, author, year_published):\n",
        "        self.title = title\n",
        "        self.author = author\n",
        "        self.year = year_published\n",
        "\n",
        "    def get_book_info(self):\n",
        "        return f\"{self.title} by {self.author}, published in {self.year}\""
      ],
      "metadata": {
        "id": "p2Zt00teSaKa"
      },
      "execution_count": 21,
      "outputs": []
    },
    {
      "cell_type": "markdown",
      "source": [
        "18. Create a class House with attributes address and price. Create a derived class Mansion that adds an\n",
        "attribute number_of_rooms."
      ],
      "metadata": {
        "id": "Zg4izxuRSfnk"
      }
    },
    {
      "cell_type": "code",
      "source": [
        "class House:\n",
        "    def __init__(self, address, price):\n",
        "        self.address = address\n",
        "        self.price = price\n",
        "\n",
        "class Mansion(House):\n",
        "    def __init__(self, address, price, rooms):\n",
        "        super().__init__(address, price)\n",
        "        self.number_of_rooms = rooms"
      ],
      "metadata": {
        "id": "7vQCWPDWSi_M"
      },
      "execution_count": 22,
      "outputs": []
    }
  ]
}