{
  "nbformat": 4,
  "nbformat_minor": 0,
  "metadata": {
    "colab": {
      "provenance": []
    },
    "kernelspec": {
      "name": "python3",
      "display_name": "Python 3"
    },
    "language_info": {
      "name": "python"
    }
  },
  "cells": [
    {
      "cell_type": "markdown",
      "source": [
        "#**Data Types and Structures Questions**\n"
      ],
      "metadata": {
        "id": "oFT8kvTLH2hO"
      }
    },
    {
      "cell_type": "code",
      "execution_count": null,
      "metadata": {
        "id": "J9T8MVwA6VAx"
      },
      "outputs": [],
      "source": []
    },
    {
      "cell_type": "markdown",
      "source": [
        "1. What are data structures, and why are they important?\n",
        "-\n",
        "Data structures are ways to organize and store data efficiently. They are important for performing operations like searching, sorting, insertion, and deletion effectively."
      ],
      "metadata": {
        "id": "D2FRpbX769AQ"
      }
    },
    {
      "cell_type": "markdown",
      "source": [],
      "metadata": {
        "id": "9EUJw5xM7O7_"
      }
    },
    {
      "cell_type": "markdown",
      "source": [
        "2.  Explain the difference between mutable and immutable data types with examples.\n",
        " - Mutable: Can be changed (e.g., list, dict, set)\n",
        "\n",
        "  - Immutable: Cannot be changed (e.g., int, str, tuple)\n"
      ],
      "metadata": {
        "id": "PUuyAgr78OyL"
      }
    },
    {
      "cell_type": "markdown",
      "source": [
        "3. What are the main differences between lists and tuples in Python?\n",
        " - Lists are mutable; tuples are immutable.\n",
        "\n",
        "  - Lists have more methods and are slower; tuples are faster and memory-efficient."
      ],
      "metadata": {
        "id": "D4gnxHwZ8qgK"
      }
    },
    {
      "cell_type": "markdown",
      "source": [
        "4.Describe how dictionaries store data.\n",
        "  - Dictionaries use key-value pairs and hash tables internally for fast data access."
      ],
      "metadata": {
        "id": "W9AYVj6M87ev"
      }
    },
    {
      "cell_type": "markdown",
      "source": [
        "5. Why might you use a set instead of a list in Python?\n",
        "  \n",
        "   - Sets automatically remove duplicates and offer faster membership testing."
      ],
      "metadata": {
        "id": "mF8FmpIY9Ft0"
      }
    },
    {
      "cell_type": "markdown",
      "source": [
        "6.  What is a string in Python, and how is it different from a list?\n",
        " - A string is a sequence of characters and is immutable. A list is a collection of elements and is mutable."
      ],
      "metadata": {
        "id": "qOrSDSpX9VPg"
      }
    },
    {
      "cell_type": "markdown",
      "source": [
        "7. How do tuples ensure data integrity in Python?\n",
        " - Tuples are immutable, so their data cannot be changed, making them ideal for fixed collections."
      ],
      "metadata": {
        "id": "mhNMCDP29dfC"
      }
    },
    {
      "cell_type": "markdown",
      "source": [
        "8.  What is a hash table, and how does it relate to dictionaries in Python?\n",
        " - A hash table is a data structure that stores data in an associative manner using hash functions. Python dictionaries are implemented using hash tables."
      ],
      "metadata": {
        "id": "hk7EszAM9nc9"
      }
    },
    {
      "cell_type": "markdown",
      "source": [
        "9.  Can lists contain different data types in Python?\n",
        "- Yes, Python lists can store elements of multiple types."
      ],
      "metadata": {
        "id": "ZRVaf5NP-DMh"
      }
    },
    {
      "cell_type": "markdown",
      "source": [
        "10. Explain why strings are immutable in Python.\n",
        " - Immutability makes strings safe, thread-safe, and usable as dictionary keys."
      ],
      "metadata": {
        "id": "yd3r-bkx-LJD"
      }
    },
    {
      "cell_type": "markdown",
      "source": [
        "11. What advantages do dictionaries offer over lists for certain tasks?\n",
        "- Dictionaries allow fast lookups by keys, making them more efficient for key-value pair data."
      ],
      "metadata": {
        "id": "QK6WxQ53A1T1"
      }
    },
    {
      "cell_type": "markdown",
      "source": [
        "12. Describe a scenario where using a tuple would be preferable over a list.\n",
        "- When storing fixed values such as coordinates or days of the week."
      ],
      "metadata": {
        "id": "8eVe3nCBBAAa"
      }
    },
    {
      "cell_type": "markdown",
      "source": [
        "13.  How do sets handle duplicate values in Python?\n",
        " - Sets automatically ignore duplicates."
      ],
      "metadata": {
        "id": "jFmuYyqjBSjv"
      }
    },
    {
      "cell_type": "markdown",
      "source": [
        "14. How does the “in” keyword work differently for lists and dictionaries?\n",
        "\n",
        " - In lists: checks for values.\n",
        "\n",
        " - In dictionaries: checks for keys."
      ],
      "metadata": {
        "id": "glS3Vup0Be4M"
      }
    },
    {
      "cell_type": "markdown",
      "source": [
        "15. Can you modify the elements of a tuple?\n",
        "- Explain why or why not.No. Tuples are immutable."
      ],
      "metadata": {
        "id": "ExpzkUbzBsD1"
      }
    },
    {
      "cell_type": "markdown",
      "source": [
        "16. What is a nested dictionary, and give an example of its use case.\n",
        " - A dictionary within a dictionary.\n",
        " - Example: {\"student\": {\"name\": \"Alex\", \"marks\": 90}}"
      ],
      "metadata": {
        "id": "q2YCx0TuB80n"
      }
    },
    {
      "cell_type": "markdown",
      "source": [
        "17. Describe the time complexity of accessing elements in a dictionary.\n",
        " - Average case: O(1) (constant time)."
      ],
      "metadata": {
        "id": "tyiiIZ1sCNe3"
      }
    },
    {
      "cell_type": "markdown",
      "source": [
        "18.  In what situations are lists preferred over dictionaries?\n",
        " - When order matters or when working with sequences of items without key-value pairs."
      ],
      "metadata": {
        "id": "NDIN8jVJCVrj"
      }
    },
    {
      "cell_type": "markdown",
      "source": [
        "19. Why are dictionaries considered unordered, and how does that affect data retrieval?\n",
        " - Before Python 3.7, dictionaries didn’t maintain order. Retrieval is by key, not position."
      ],
      "metadata": {
        "id": "lXmu_uALCdlv"
      }
    },
    {
      "cell_type": "markdown",
      "source": [
        "20. Explain the difference between a list and a dictionary in terms of data retrieval.\n",
        "\n",
        "- List: Access by index.\n",
        "\n",
        "- Dictionary: Access by key."
      ],
      "metadata": {
        "id": "CiC1O4xKCoei"
      }
    },
    {
      "cell_type": "markdown",
      "source": [
        "#**Practical Questions**"
      ],
      "metadata": {
        "id": "lBEqlXUCILmT"
      }
    },
    {
      "cell_type": "markdown",
      "source": [
        "1. Write a code to create a string with your name and print it\n"
      ],
      "metadata": {
        "id": "BMUgnkzGIWuK"
      }
    },
    {
      "cell_type": "code",
      "source": [
        "print(\"Shivanshu Singh\")\n"
      ],
      "metadata": {
        "colab": {
          "base_uri": "https://localhost:8080/"
        },
        "id": "papEPVe_LG4k",
        "outputId": "f67e7b2a-4df7-45e1-a634-9cfaeba03b55"
      },
      "execution_count": 1,
      "outputs": [
        {
          "output_type": "stream",
          "name": "stdout",
          "text": [
            "Shivanshu Singh\n"
          ]
        }
      ]
    },
    {
      "cell_type": "markdown",
      "source": [
        "2. Write a code to find the length of the string \"Hello World\"\n"
      ],
      "metadata": {
        "id": "gKsNmvzILTYM"
      }
    },
    {
      "cell_type": "code",
      "source": [
        "print(len(\"Hello World\"))\n"
      ],
      "metadata": {
        "colab": {
          "base_uri": "https://localhost:8080/"
        },
        "id": "vXQ_aS_sLeH5",
        "outputId": "22e49285-9886-4c1f-81f6-a38fb8b80639"
      },
      "execution_count": 2,
      "outputs": [
        {
          "output_type": "stream",
          "name": "stdout",
          "text": [
            "11\n"
          ]
        }
      ]
    },
    {
      "cell_type": "markdown",
      "source": [
        "3. Write a code to slice the first 3 characters from the string \"Python Programming\".\n"
      ],
      "metadata": {
        "id": "rWzozEd8Lozm"
      }
    },
    {
      "cell_type": "code",
      "source": [
        "print(\"Python Programming\"[:3])\n"
      ],
      "metadata": {
        "colab": {
          "base_uri": "https://localhost:8080/"
        },
        "id": "0viFQKouLtlo",
        "outputId": "15070902-3bd7-497a-f994-fc94bc1829d8"
      },
      "execution_count": 3,
      "outputs": [
        {
          "output_type": "stream",
          "name": "stdout",
          "text": [
            "Pyt\n"
          ]
        }
      ]
    },
    {
      "cell_type": "markdown",
      "source": [
        "4. Write a code to convert the string \"hello\" to uppercase.\n"
      ],
      "metadata": {
        "id": "aYOk2wzIL2yW"
      }
    },
    {
      "cell_type": "code",
      "source": [
        "print(\"hello\".upper())\n"
      ],
      "metadata": {
        "colab": {
          "base_uri": "https://localhost:8080/"
        },
        "id": "UwmaBJwQL6uo",
        "outputId": "7cb5adde-cab5-4c48-cd95-026292bf99fb"
      },
      "execution_count": 4,
      "outputs": [
        {
          "output_type": "stream",
          "name": "stdout",
          "text": [
            "HELLO\n"
          ]
        }
      ]
    },
    {
      "cell_type": "markdown",
      "source": [
        "5. Write a code to replace the word \"apple\" with \"orange\" in the string \"I like apple\"\n"
      ],
      "metadata": {
        "id": "1cXbHklpMFdB"
      }
    },
    {
      "cell_type": "code",
      "source": [
        "print(\"I like apple\".replace(\"apple\", \"orange\"))\n"
      ],
      "metadata": {
        "colab": {
          "base_uri": "https://localhost:8080/"
        },
        "id": "xuyzTz09MLEp",
        "outputId": "d6ce1f21-d119-43f2-d521-7d496a12220d"
      },
      "execution_count": 5,
      "outputs": [
        {
          "output_type": "stream",
          "name": "stdout",
          "text": [
            "I like orange\n"
          ]
        }
      ]
    },
    {
      "cell_type": "markdown",
      "source": [
        "6.  Write a code to create a list with numbers 1 to 5 and print it\n"
      ],
      "metadata": {
        "id": "F28RbtX7MSv7"
      }
    },
    {
      "cell_type": "code",
      "source": [
        "print([1, 2, 3, 4, 5])\n",
        "\n"
      ],
      "metadata": {
        "colab": {
          "base_uri": "https://localhost:8080/"
        },
        "id": "V48rjNkGMX5h",
        "outputId": "7b253bd4-f025-423d-e58d-cd918d719173"
      },
      "execution_count": 6,
      "outputs": [
        {
          "output_type": "stream",
          "name": "stdout",
          "text": [
            "[1, 2, 3, 4, 5]\n"
          ]
        }
      ]
    },
    {
      "cell_type": "markdown",
      "source": [
        "7.  Write a code to append the number 10 to the list [1, 2, 3, 4]\n"
      ],
      "metadata": {
        "id": "rAYH9Ol2Mhua"
      }
    },
    {
      "cell_type": "code",
      "source": [
        "lst = [1, 2, 3, 4]\n",
        "lst.append(10)\n",
        "print(lst)"
      ],
      "metadata": {
        "colab": {
          "base_uri": "https://localhost:8080/"
        },
        "id": "aBbaCjahP1ZZ",
        "outputId": "8d06f5fa-5683-4858-d5c9-a2ea4b750fac"
      },
      "execution_count": 7,
      "outputs": [
        {
          "output_type": "stream",
          "name": "stdout",
          "text": [
            "[1, 2, 3, 4, 10]\n"
          ]
        }
      ]
    },
    {
      "cell_type": "markdown",
      "source": [
        "8.  Write a code to remove the number 3 from the list [1, 2, 3, 4, 5]\n"
      ],
      "metadata": {
        "id": "Z_icBHH8P8Bh"
      }
    },
    {
      "cell_type": "code",
      "source": [
        "lst = [1, 2, 3, 4, 5]\n",
        "lst.remove(3)\n",
        "print(lst)"
      ],
      "metadata": {
        "colab": {
          "base_uri": "https://localhost:8080/"
        },
        "id": "0pjjZ8ckQB2c",
        "outputId": "305ec50d-9165-403c-e7c0-8365d09d597b"
      },
      "execution_count": 8,
      "outputs": [
        {
          "output_type": "stream",
          "name": "stdout",
          "text": [
            "[1, 2, 4, 5]\n"
          ]
        }
      ]
    },
    {
      "cell_type": "markdown",
      "source": [
        "9.  Write a code to access the second element in the list ['a', 'b', 'c', 'd']\n"
      ],
      "metadata": {
        "id": "OtI7rxF0QzXD"
      }
    },
    {
      "cell_type": "code",
      "source": [
        "print(['a', 'b', 'c', 'd'][1])\n"
      ],
      "metadata": {
        "colab": {
          "base_uri": "https://localhost:8080/"
        },
        "id": "xQkL561tQ5a-",
        "outputId": "03a22f63-48ef-4db5-dc93-709ce4167f29"
      },
      "execution_count": 9,
      "outputs": [
        {
          "output_type": "stream",
          "name": "stdout",
          "text": [
            "b\n"
          ]
        }
      ]
    },
    {
      "cell_type": "markdown",
      "source": [
        "10. Write a code to reverse the list [10, 20, 30, 40, 50]."
      ],
      "metadata": {
        "id": "0lPeQsPYQ_ag"
      }
    },
    {
      "cell_type": "code",
      "source": [
        "print([10, 20, 30, 40, 50][::-1])\n"
      ],
      "metadata": {
        "colab": {
          "base_uri": "https://localhost:8080/"
        },
        "id": "l6jJMEyRRFqK",
        "outputId": "a7221862-ec5f-424e-c164-2a2c5c511b5d"
      },
      "execution_count": 10,
      "outputs": [
        {
          "output_type": "stream",
          "name": "stdout",
          "text": [
            "[50, 40, 30, 20, 10]\n"
          ]
        }
      ]
    },
    {
      "cell_type": "markdown",
      "source": [
        "11.  Write a code to create a tuple with the elements 100, 200, 300 and print it."
      ],
      "metadata": {
        "id": "54saoidtRPzY"
      }
    },
    {
      "cell_type": "code",
      "source": [
        "print((100, 200, 300))\n"
      ],
      "metadata": {
        "colab": {
          "base_uri": "https://localhost:8080/"
        },
        "id": "-CALTHV9RZkT",
        "outputId": "e101451f-5526-4db2-856f-a26d87c6f752"
      },
      "execution_count": 11,
      "outputs": [
        {
          "output_type": "stream",
          "name": "stdout",
          "text": [
            "(100, 200, 300)\n"
          ]
        }
      ]
    },
    {
      "cell_type": "markdown",
      "source": [
        "12. Write a code to access the second-to-last element of the tuple ('red', 'green', 'blue', 'yellow')."
      ],
      "metadata": {
        "id": "mFfajX2RRmh4"
      }
    },
    {
      "cell_type": "code",
      "source": [
        "print(('red', 'green', 'blue', 'yellow')[-2])\n"
      ],
      "metadata": {
        "colab": {
          "base_uri": "https://localhost:8080/"
        },
        "id": "X5o7vZj5RoAH",
        "outputId": "b75dadf3-afc0-4cee-c9e6-2d2b63f8c3ad"
      },
      "execution_count": 12,
      "outputs": [
        {
          "output_type": "stream",
          "name": "stdout",
          "text": [
            "blue\n"
          ]
        }
      ]
    },
    {
      "cell_type": "markdown",
      "source": [
        "13. Write a code to find the minimum number in the tuple (10, 20, 5, 15)."
      ],
      "metadata": {
        "id": "yKhrZ7fYR9BQ"
      }
    },
    {
      "cell_type": "code",
      "source": [
        "print(min((10, 20, 5, 15)))\n"
      ],
      "metadata": {
        "colab": {
          "base_uri": "https://localhost:8080/"
        },
        "id": "xuy6X5ZPSF2R",
        "outputId": "1e5e8765-ab64-4a57-ae69-77a01ea021b9"
      },
      "execution_count": 13,
      "outputs": [
        {
          "output_type": "stream",
          "name": "stdout",
          "text": [
            "5\n"
          ]
        }
      ]
    },
    {
      "cell_type": "markdown",
      "source": [
        "14. Write a code to find the index of the element \"cat\" in the tuple ('dog', 'cat', 'rabbit')."
      ],
      "metadata": {
        "id": "ThwZGuNzSSco"
      }
    },
    {
      "cell_type": "code",
      "source": [
        "print(('dog', 'cat', 'rabbit').index(\"cat\"))\n"
      ],
      "metadata": {
        "colab": {
          "base_uri": "https://localhost:8080/"
        },
        "id": "YTyZVjjPSUM8",
        "outputId": "e55b0ecd-3c55-47a1-f3f1-d41ce38273a6"
      },
      "execution_count": 14,
      "outputs": [
        {
          "output_type": "stream",
          "name": "stdout",
          "text": [
            "1\n"
          ]
        }
      ]
    },
    {
      "cell_type": "markdown",
      "source": [
        "15. Write a code to create a tuple containing three different fruits and check if \"kiwi\" is in it."
      ],
      "metadata": {
        "id": "CBKGK3GkSk3t"
      }
    },
    {
      "cell_type": "code",
      "source": [
        "fruits = ('apple', 'banana', 'mango')\n",
        "print(\"kiwi\" in fruits)\n"
      ],
      "metadata": {
        "colab": {
          "base_uri": "https://localhost:8080/"
        },
        "id": "6DCgji9pSpk9",
        "outputId": "cb6f8b41-385d-4253-89ce-a9cbf738ba7f"
      },
      "execution_count": 15,
      "outputs": [
        {
          "output_type": "stream",
          "name": "stdout",
          "text": [
            "False\n"
          ]
        }
      ]
    },
    {
      "cell_type": "markdown",
      "source": [
        "16. Write a code to create a set with the elements 'a', 'b', 'c' and print it."
      ],
      "metadata": {
        "id": "65dK_HRPS3UF"
      }
    },
    {
      "cell_type": "code",
      "source": [
        "print({'a', 'b', 'c'})\n"
      ],
      "metadata": {
        "colab": {
          "base_uri": "https://localhost:8080/"
        },
        "id": "ERz_1DdfS8jc",
        "outputId": "4ba7a39d-cf31-4dc0-b8af-a7c7f237127a"
      },
      "execution_count": 16,
      "outputs": [
        {
          "output_type": "stream",
          "name": "stdout",
          "text": [
            "{'b', 'a', 'c'}\n"
          ]
        }
      ]
    },
    {
      "cell_type": "markdown",
      "source": [
        "17. Write a code to clear all elements from the set {1, 2, 3, 4, 5}."
      ],
      "metadata": {
        "id": "IoCvesxdTbD9"
      }
    },
    {
      "cell_type": "code",
      "source": [
        "s = {1, 2, 3, 4, 5}\n",
        "s.clear()\n",
        "print(s)"
      ],
      "metadata": {
        "colab": {
          "base_uri": "https://localhost:8080/"
        },
        "id": "Ima1pej4TcKF",
        "outputId": "7faa2434-4659-4205-ee7d-c74c0a811b7d"
      },
      "execution_count": 17,
      "outputs": [
        {
          "output_type": "stream",
          "name": "stdout",
          "text": [
            "set()\n"
          ]
        }
      ]
    },
    {
      "cell_type": "markdown",
      "source": [
        "18. Write a code to remove the element 4 from the set {1, 2, 3, 4}."
      ],
      "metadata": {
        "id": "n4xYOreqTqg9"
      }
    },
    {
      "cell_type": "code",
      "source": [
        "s = {1, 2, 3, 4}\n",
        "s.remove(4)\n",
        "print(s)"
      ],
      "metadata": {
        "colab": {
          "base_uri": "https://localhost:8080/"
        },
        "id": "BnXLnlj0TtaW",
        "outputId": "d3daae8a-2958-443b-98d8-276e6682d486"
      },
      "execution_count": 18,
      "outputs": [
        {
          "output_type": "stream",
          "name": "stdout",
          "text": [
            "{1, 2, 3}\n"
          ]
        }
      ]
    },
    {
      "cell_type": "markdown",
      "source": [
        "19. Write a code to find the union of two sets {1, 2, 3} and {3, 4, 5}."
      ],
      "metadata": {
        "id": "-tMaEty8T6cW"
      }
    },
    {
      "cell_type": "code",
      "source": [
        "print({1, 2, 3} | {3, 4, 5})\n"
      ],
      "metadata": {
        "colab": {
          "base_uri": "https://localhost:8080/"
        },
        "id": "QHCXPlmBUAIJ",
        "outputId": "e22cce2d-23f7-4507-bad0-02404ef9f73b"
      },
      "execution_count": 19,
      "outputs": [
        {
          "output_type": "stream",
          "name": "stdout",
          "text": [
            "{1, 2, 3, 4, 5}\n"
          ]
        }
      ]
    },
    {
      "cell_type": "markdown",
      "source": [
        "20. Write a code to find the intersection of two sets {1, 2, 3} and {2, 3, 4}."
      ],
      "metadata": {
        "id": "7D_1eWpmUQWQ"
      }
    },
    {
      "cell_type": "code",
      "source": [
        "print({1, 2, 3} & {2, 3, 4})\n"
      ],
      "metadata": {
        "colab": {
          "base_uri": "https://localhost:8080/"
        },
        "id": "bvx3hJFzUTbH",
        "outputId": "37c3ac45-fa59-4f09-a19c-e3217c078d51"
      },
      "execution_count": 20,
      "outputs": [
        {
          "output_type": "stream",
          "name": "stdout",
          "text": [
            "{2, 3}\n"
          ]
        }
      ]
    },
    {
      "cell_type": "markdown",
      "source": [
        "21. Write a code to create a dictionary with the keys \"name\", \"age\", and \"city\", and print it."
      ],
      "metadata": {
        "id": "dF0-ZtA6Ui66"
      }
    },
    {
      "cell_type": "code",
      "source": [
        "print({\"name\": \"John\", \"age\": 25, \"city\": \"New York\"})\n"
      ],
      "metadata": {
        "colab": {
          "base_uri": "https://localhost:8080/"
        },
        "id": "-PzEjXyYUy9p",
        "outputId": "bc9b6064-73ed-46c7-a5c3-658ab9248c8f"
      },
      "execution_count": 21,
      "outputs": [
        {
          "output_type": "stream",
          "name": "stdout",
          "text": [
            "{'name': 'John', 'age': 25, 'city': 'New York'}\n"
          ]
        }
      ]
    },
    {
      "cell_type": "markdown",
      "source": [
        "22. Write a code to add a new key-value pair \"country\": \"USA\" to the dictionary {'name': 'John', 'age': 25}."
      ],
      "metadata": {
        "id": "5iHnumU7VLpG"
      }
    },
    {
      "cell_type": "code",
      "source": [
        "info = {'name': 'John', 'age': 25}\n",
        "info['country'] = 'USA'\n",
        "print(info)"
      ],
      "metadata": {
        "colab": {
          "base_uri": "https://localhost:8080/"
        },
        "id": "0LdD0UL3VQ3t",
        "outputId": "051ada48-f6f9-48fd-f7c5-8b686a8630cf"
      },
      "execution_count": 23,
      "outputs": [
        {
          "output_type": "stream",
          "name": "stdout",
          "text": [
            "{'name': 'John', 'age': 25, 'country': 'USA'}\n"
          ]
        }
      ]
    },
    {
      "cell_type": "markdown",
      "source": [
        "23. Write a code to access the value associated with the key \"name\" in the dictionary {'name': 'Alice', 'age': 30}."
      ],
      "metadata": {
        "id": "btGuOUQJVjI0"
      }
    },
    {
      "cell_type": "code",
      "source": [
        "print({'name': 'Alice', 'age': 30}['name'])\n"
      ],
      "metadata": {
        "colab": {
          "base_uri": "https://localhost:8080/"
        },
        "id": "qhmk8NxpVmz7",
        "outputId": "01d4bb70-48f3-48c8-d8cf-e6a9b763ab02"
      },
      "execution_count": 24,
      "outputs": [
        {
          "output_type": "stream",
          "name": "stdout",
          "text": [
            "Alice\n"
          ]
        }
      ]
    },
    {
      "cell_type": "markdown",
      "source": [
        "24. Write a code to remove the key \"age\" from the dictionary {'name': 'Bob', 'age': 22, 'city': 'New York'}."
      ],
      "metadata": {
        "id": "wjzwrgFQV21G"
      }
    },
    {
      "cell_type": "code",
      "source": [
        "d = {'name': 'Bob', 'age': 22, 'city': 'New York'}\n",
        "d.pop(\"age\")\n",
        "print(d)\n"
      ],
      "metadata": {
        "colab": {
          "base_uri": "https://localhost:8080/"
        },
        "id": "aAqSpiD4V6Cj",
        "outputId": "3e161797-4075-4516-f9ca-933aa1817dc2"
      },
      "execution_count": 28,
      "outputs": [
        {
          "output_type": "stream",
          "name": "stdout",
          "text": [
            "{'name': 'Bob', 'city': 'New York'}\n"
          ]
        }
      ]
    },
    {
      "cell_type": "markdown",
      "source": [
        "25. Write a code to check if the key \"city\" exists in the dictionary {'name': 'Alice', 'city': 'Paris'}."
      ],
      "metadata": {
        "id": "uONNw-B4WX_P"
      }
    },
    {
      "cell_type": "code",
      "source": [
        "print(\"city\" in {'name': 'Alice', 'city': 'Paris'})\n"
      ],
      "metadata": {
        "colab": {
          "base_uri": "https://localhost:8080/"
        },
        "id": "NcialyoxWbSE",
        "outputId": "c7f35aeb-0d9b-4277-8879-ce46369c058d"
      },
      "execution_count": 29,
      "outputs": [
        {
          "output_type": "stream",
          "name": "stdout",
          "text": [
            "True\n"
          ]
        }
      ]
    },
    {
      "cell_type": "markdown",
      "source": [
        "26. Write a code to create a list, a tuple, and a dictionary, and print them all."
      ],
      "metadata": {
        "id": "sesAigZDWpcS"
      }
    },
    {
      "cell_type": "code",
      "source": [
        "print([1, 2, 3])\n",
        "print((4, 5, 6))\n",
        "print({'a': 1, 'b': 2})"
      ],
      "metadata": {
        "colab": {
          "base_uri": "https://localhost:8080/"
        },
        "id": "rhutq1RCXIuU",
        "outputId": "61af1357-e80e-4d8e-b2ad-3a4cd988a392"
      },
      "execution_count": 30,
      "outputs": [
        {
          "output_type": "stream",
          "name": "stdout",
          "text": [
            "[1, 2, 3]\n",
            "(4, 5, 6)\n",
            "{'a': 1, 'b': 2}\n"
          ]
        }
      ]
    },
    {
      "cell_type": "markdown",
      "source": [
        "27. Write a code to create a list of 5 random numbers between 1 and 100, sort it in ascending order, and print the\n",
        "result.(replaced)"
      ],
      "metadata": {
        "id": "FQsU8BWyXV6h"
      }
    },
    {
      "cell_type": "code",
      "source": [
        "import random\n",
        "lst = random.sample(range(1, 101), 5)\n",
        "lst.sort()\n",
        "print(lst)"
      ],
      "metadata": {
        "colab": {
          "base_uri": "https://localhost:8080/"
        },
        "id": "kL3EhyBJXnAX",
        "outputId": "1a741585-b8dd-4aa0-c2f0-e010265dc5db"
      },
      "execution_count": 31,
      "outputs": [
        {
          "output_type": "stream",
          "name": "stdout",
          "text": [
            "[17, 30, 49, 61, 72]\n"
          ]
        }
      ]
    },
    {
      "cell_type": "markdown",
      "source": [
        "28. Write a code to create a list with strings and print the element at the third index."
      ],
      "metadata": {
        "id": "90rF3q1FXy8m"
      }
    },
    {
      "cell_type": "code",
      "source": [
        "print([\"apple\", \"banana\", \"cherry\", \"date\", \"fig\"][3])\n"
      ],
      "metadata": {
        "colab": {
          "base_uri": "https://localhost:8080/"
        },
        "id": "zzlYqR_vXzzi",
        "outputId": "0df272df-5844-4344-9bee-fd075694e7d2"
      },
      "execution_count": 32,
      "outputs": [
        {
          "output_type": "stream",
          "name": "stdout",
          "text": [
            "date\n"
          ]
        }
      ]
    },
    {
      "cell_type": "markdown",
      "source": [
        "29. Write a code to combine two dictionaries into one and print the result."
      ],
      "metadata": {
        "id": "f5UM-5JOYHIm"
      }
    },
    {
      "cell_type": "code",
      "source": [
        "d1 = {'a': 1, 'b': 2}\n",
        "d2 = {'c': 3, 'd': 4}\n",
        "d1.update(d2)\n",
        "print(d1)\n"
      ],
      "metadata": {
        "colab": {
          "base_uri": "https://localhost:8080/"
        },
        "id": "DBV8KmjVYILR",
        "outputId": "e989021a-2c95-418b-969a-84f422a3ba15"
      },
      "execution_count": 33,
      "outputs": [
        {
          "output_type": "stream",
          "name": "stdout",
          "text": [
            "{'a': 1, 'b': 2, 'c': 3, 'd': 4}\n"
          ]
        }
      ]
    },
    {
      "cell_type": "markdown",
      "source": [
        "30. Write a code to convert a list of strings into a set."
      ],
      "metadata": {
        "id": "_45lttmxYOxn"
      }
    },
    {
      "cell_type": "code",
      "source": [
        "print(set([\"apple\", \"banana\", \"apple\"]))"
      ],
      "metadata": {
        "colab": {
          "base_uri": "https://localhost:8080/"
        },
        "id": "K9mvC0ABYSXU",
        "outputId": "d5d30f96-2b07-4c9c-d252-8af8c8994631"
      },
      "execution_count": 34,
      "outputs": [
        {
          "output_type": "stream",
          "name": "stdout",
          "text": [
            "{'apple', 'banana'}\n"
          ]
        }
      ]
    }
  ]
}