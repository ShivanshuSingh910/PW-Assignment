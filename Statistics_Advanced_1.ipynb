{
  "nbformat": 4,
  "nbformat_minor": 0,
  "metadata": {
    "colab": {
      "provenance": []
    },
    "kernelspec": {
      "name": "python3",
      "display_name": "Python 3"
    },
    "language_info": {
      "name": "python"
    }
  },
  "cells": [
    {
      "cell_type": "markdown",
      "source": [
        "#**Statistics Advanced - 1| Assignment**\n"
      ],
      "metadata": {
        "id": "brdxISSYR7LI"
      }
    },
    {
      "cell_type": "markdown",
      "source": [
        "**Question 1**: What is a random variable in probability theory?\n"
      ],
      "metadata": {
        "id": "ZvlLhKqjSB_Q"
      }
    },
    {
      "cell_type": "markdown",
      "source": [
        "**Answer 1** : - In probability theory, a random variable is a function that assigns a real number to each outcome of a random experiment. It provides a numerical representation of uncertain events, allowing us to analyze and quantify randomness using mathematical methods.\n",
        "\n",
        "Whenever we perform a random experiment, the exact outcome is uncertain. For example, when rolling a fair six-sided die, the result could be any of the numbers 1, 2, 3, 4, 5, or 6. Instead of only describing outcomes qualitatively, a random variable gives us a way to map these outcomes to numbers        \n",
        "\n",
        " Example:\n",
        "\n",
        "- Experiment: Roll a six-sided die.\n",
        "\n",
        "- Sample space (S): {1, 2, 3, 4, 5, 6}.\n",
        "\n",
        "- Let X be the random variable defined as \"the number appearing on the die.\"\n",
        "\n",
        "- If the die shows 4, then X = 4.\n",
        "\n",
        "This allows us to calculate probabilities like P(X = 4) = 1/6 and to study more advanced concepts such as expected value and variance."
      ],
      "metadata": {
        "id": "sh99-QVVSNhy"
      }
    },
    {
      "cell_type": "markdown",
      "source": [
        "**Question 2**: What are the types of random variables?\n"
      ],
      "metadata": {
        "id": "1ZVoB1muUPL5"
      }
    },
    {
      "cell_type": "markdown",
      "source": [
        "**Answer 2** : - Random variables are classified into two main types based on the nature of their values:\n",
        " 1. Discrete Random Variable\n",
        "\n",
        "- Takes a finite or countably infinite set of specific values.\n",
        "\n",
        "- Each individual value has a well-defined probability.\n",
        "\n",
        " Example:\n",
        "\n",
        "- Number of heads when flipping a coin three times → Possible values: {0, 1, 2, 3}.\n",
        "\n",
        "- Each outcome (e.g., X = 2 heads) has a calculable probability.\n",
        "\n",
        "- Represented using a Probability Mass Function (PMF).\n",
        "\n",
        " 2. Continuous Random Variable\n",
        "\n",
        "- Takes any value in a continuous range or interval.\n",
        "\n",
        "- Individual outcomes do not have specific probabilities; instead, we consider the probability over intervals.\n",
        "\n",
        "Example:\n",
        "\n",
        "- The time (in seconds) for a computer to boot → It could be any real number like 12.5 seconds, 14.78 seconds, etc.\n",
        "\n",
        "- Represented using a Probability Density Function (PDF)."
      ],
      "metadata": {
        "id": "lVZegMHXUcfE"
      }
    },
    {
      "cell_type": "markdown",
      "source": [
        "**Question 3**: Explain the difference between discrete and continuous distributions.\n"
      ],
      "metadata": {
        "id": "cfwggJVIXp8v"
      }
    },
    {
      "cell_type": "markdown",
      "source": [
        "**Answer 3** : - In probability and statistics, a distribution shows how the values of a random variable are spread.\n",
        "\n",
        " 1. Discrete Distribution\n",
        "\n",
        "- Applies to a discrete random variable (countable values).\n",
        "\n",
        "- Described by Probability Mass Function (PMF).\n",
        "\n",
        "Example:\n",
        "- Rolling a fair six-sided die.\n",
        "\n",
        "- Random variable X = Number shown on the die.\n",
        "\n",
        "- Possible values: {1, 2, 3, 4, 5, 6}.\n",
        "\n",
        "- Probability of each value:\n",
        "\n",
        "$$P(X = x) = \\frac{1}{6}$$\n",
        "\n",
        "\t​\n",
        "\n",
        " 2. Continuous Distribution\n",
        "\n",
        "- Applies to a continuous random variable (any real number in a range).\n",
        "\n",
        "- Described by Probability Density Function (PDF).\n",
        "\n",
        "Example:\n",
        "- Time to download a file (in seconds):\n",
        "\n",
        "- X = 3.57 seconds, 5.82 seconds, etc.\n",
        "\n",
        "- Probability over an interval [a, b]:\n",
        "$$P(a \\le X \\le b) = \\int_{a}^{b} f(x) \\, dx$$\n",
        "Total area under PDF curve:\n",
        "\n",
        "$$\\int_{-\\infty}^{\\infty} f(x) \\, dx = 1$$\n"
      ],
      "metadata": {
        "id": "AnDxEMp6Xvz8"
      }
    },
    {
      "cell_type": "markdown",
      "source": [
        "**Question 4**:- What is a binomial distribution, and how is it used in probability?"
      ],
      "metadata": {
        "id": "eIKj_t8Da58F"
      }
    },
    {
      "cell_type": "markdown",
      "source": [
        "**Answer4** :- Binomial distribution is a discrete probability distribution that describes the number of successes in a fixed number of independent trials, where each trial has only two possible outcomes: success or failure.\n",
        "\n",
        " Characteristics of Binomial Distribution\n",
        "\n",
        "- Fixed number of trials (n): The experiment is repeated a set number of times.\n",
        "\n",
        "- **Two possible outcomes per trial:**  \n",
        "**Success** (usually denoted by probability **p**)  \n",
        " **Failure** (probability **q = 1 − p**)\n",
        "\n",
        "-  Independent trials: The outcome of one trial does not affect another.\n",
        "\n",
        "- Random variable X: Represents the number of successes in n trials.\n",
        "\n",
        "Probability Formula\n",
        "\n",
        "$$P(X = x) = \\binom{n}{x} p^x (1-p)^{n-x}$$\n",
        "Where:\n",
        "\n",
        "𝑛\n",
        "n = number of trials\n",
        "\n",
        "𝑥\n",
        "x = number of successes\n",
        "\n",
        "𝑝\n",
        "p = probability of success\n",
        "\n",
        "1\n",
        "−\n",
        "𝑝\n",
        "1−p = probability of failure\n",
        "$$\\binom{n}{x} = \\frac{n!}{x!(n-x)!}$$\n",
        "\n",
        "\n",
        "\n",
        "\n",
        "\n",
        "\n",
        "\n",
        "\n",
        "\n",
        "\n",
        "\n",
        "\n",
        "\n",
        "\n",
        "\n",
        "\n",
        "\n",
        "\n",
        "\n",
        "\n",
        "\n",
        "\n",
        "\n",
        "\n",
        "\n",
        "\n",
        "\n",
        "\n",
        "  = number of ways to choose x successes from n trials\n",
        "\n",
        "**Example:**\n",
        "\n",
        "- Toss a coin 5 times (**n = 5**)  \n",
        "- Probability of heads (**p = 0.5**)  \n",
        "- Random variable X = Number of heads  \n",
        "- Probability of exactly 3 heads:\n",
        "\n",
        "$$P(X = 3) = \\binom{5}{3} (0.5)^3 (0.5)^{5-3} = 10 \\cdot 0.125 \\cdot 0.25 = 0.3125$$\n",
        "\n",
        "- **Uses of Binomial Distribution**\n",
        "\n",
        "Modeling situations with success/failure outcomes.\n",
        "\n",
        "- Examples:\n",
        "\n",
        "Number of defective items in a batch of products.\n",
        "\n",
        "Number of heads when tossing coins.\n",
        "\n",
        "Probability of passing a multiple-choice test with guessed answers."
      ],
      "metadata": {
        "id": "imRohj6Bba7h"
      }
    },
    {
      "cell_type": "markdown",
      "source": [
        "**Question 5**:- What is the standard normal distribution, and why is it important?\n"
      ],
      "metadata": {
        "id": "zummbCTrd5bS"
      }
    },
    {
      "cell_type": "markdown",
      "source": [
        "**Answer 5**:-The standard normal distribution is a special type of continuous probability distribution that has the following characteristics:\n",
        "\n",
        "Characteristics\n",
        "\n",
        "- It is bell-shaped and symmetric around the mean.\n",
        "\n",
        "- Mean (\n",
        "𝜇\n",
        "μ) = 0 and Standard Deviation (\n",
        "𝜎\n",
        "σ) = 1.\n",
        "\n",
        "- Denoted by the random variable\n",
        "𝑍\n",
        "Z.\n",
        "\n",
        "- Its probability density function (PDF) is:$$f(z) = \\frac{1}{\\sqrt{2\\pi}} e^{-z^2 / 2}$$\n",
        "- Total area under the curve = 1.\n",
        "\n",
        " **Importance of Standard Normal Distribution**\n",
        "\n",
        "- Simplifies calculations: Any normal distribution can be converted to the standard normal distribution using Z-scores:\n",
        "\n",
        "$$Z = \\frac{X - \\mu}{\\sigma}$$\n",
        "\n",
        "\n",
        "- Widely used in statistics:\n",
        "\n",
        "- Finding probabilities for a range of values.\n",
        "\n",
        "- Hypothesis testing.\n",
        "\n",
        "- Confidence intervals.\n",
        "\n",
        "- Provides a reference: Standard tables (Z-tables) are used to quickly determine probabilities and critical values."
      ],
      "metadata": {
        "id": "lFZAlFhweJBl"
      }
    },
    {
      "cell_type": "markdown",
      "source": [
        "**Question 6**:- What is the Central Limit Theorem (CLT), and why is it critical in statistics?\n"
      ],
      "metadata": {
        "id": "w-L0N1Cpi2dp"
      }
    },
    {
      "cell_type": "markdown",
      "source": [
        "**Answer 6**:- The Central Limit Theorem (CLT) is a fundamental concept in statistics that describes the behavior of the sampling distribution of the sample mean.\n",
        "\n",
        "**Definition**\n",
        "\n",
        "The CLT states that:\n",
        "\n",
        "If you take a large number of random samples (n) from any population with a finite mean (\n",
        "𝜇\n",
        "μ) and finite standard deviation (\n",
        "𝜎\n",
        "σ), the distribution of the sample means will approximate a normal distribution, regardless of the shape of the population distribution.\n",
        "\n",
        "- Sample mean:\n",
        "𝑋\n",
        "ˉ\n",
        "X\n",
        "ˉ\n",
        "\n",
        "- Population mean:\n",
        "𝜇\n",
        "μ\n",
        "\n",
        "- Population standard deviation:\n",
        "𝜎\n",
        "σ\n",
        "\n",
        "- Sample size:\n",
        "𝑛\n",
        "n (usually\n",
        "𝑛\n",
        "≥\n",
        "30\n",
        "n≥30 is considered sufficient)\n",
        "\n",
        "- Mathematical Expression\n",
        "\n",
        "The sampling distribution of\n",
        "𝑋\n",
        "ˉ\n",
        "X\n",
        "ˉ\n",
        " is approximately normal:\n",
        "\n",
        "$$\\bar{X} \\sim N\\left(\\mu, \\frac{\\sigma}{\\sqrt{n}}\\right)$$\n",
        "\n",
        "\n",
        "Where:\n",
        "\n",
        "- 𝜇\n",
        "μ = population mean\n",
        "\n",
        "- 𝜎\n",
        "/\n",
        "𝑛\n",
        "σ/\n",
        "n\n",
        "\t​\n",
        " = standard error of the mean\n",
        "\n",
        "**Importance of CLT**\n",
        "\n",
        "1. Foundation of Inferential Statistics:\n",
        "\n",
        "- Allows us to make probability-based conclusions about population parameters from sample statistics.\n",
        "\n",
        "2. Justifies Use of Normal Distribution:\n",
        "\n",
        "- Even if the population is not normal, the sample mean distribution can be treated as normal for large\n",
        "𝑛\n",
        "n.\n",
        "\n",
        "3. Enables Confidence Intervals and Hypothesis Testing:\n",
        "\n",
        "- Used to calculate margins of error, z-scores, and p-values.\n",
        "\n",
        "4. Simplifies Complex Problems:\n",
        "\n",
        "- Helps in approximating probabilities and analyzing real-world data efficiently."
      ],
      "metadata": {
        "id": "J6E9GEd6jt5p"
      }
    },
    {
      "cell_type": "markdown",
      "source": [
        "**Question 7**:- What is the significance of confidence intervals in statistical analysis?\n"
      ],
      "metadata": {
        "id": "dUkbLKT5ku_O"
      }
    },
    {
      "cell_type": "markdown",
      "source": [
        "**Answer 7**:-A confidence interval (CI) is a range of values derived from sample data that is likely to contain the true population parameter (like the mean or proportion) with a specified level of confidence.\n",
        "\n",
        "**Key Points**\n",
        "\n",
        "1. Estimates Population Parameters:\n",
        "\n",
        "- CI provides an interval estimate instead of a single point estimate, giving a sense of uncertainty.\n",
        "\n",
        "- Example: A 95% CI for the mean = [50, 60] → We are 95% confident the true mean lies in this range.\n",
        "\n",
        "2. Quantifies Uncertainty:\n",
        "\n",
        "- The width of the CI indicates precision:\n",
        "\n",
        "- Narrow CI → more precise estimate\n",
        "\n",
        "- Wide CI → less precise estimate\n",
        "\n",
        "3. Supports Decision Making:\n",
        "\n",
        "- Helps researchers and analysts make informed conclusions about populations using sample data.\n",
        "\n",
        "4. Basis for Hypothesis Testing:\n",
        "\n",
        "- CI can show if a population parameter falls within a hypothesized value.\n",
        "\n",
        "- Example: If a CI for mean weight does not include 70 kg, we may reject the hypothesis that the mean weight is 70 kg.\n",
        "\n",
        "Formula for Confidence Interval (for population mean, known σ)\n",
        "$$CI = \\bar{X} \\pm Z_{\\alpha/2} \\frac{\\sigma}{\\sqrt{n}}$$\n",
        "\n",
        "\n",
        "**Where:**  \n",
        "- $\\bar{X}$ = sample mean  \n",
        "- $Z_{\\alpha/2}$ = Z-value corresponding to confidence level  \n",
        "- $\\sigma$ = population standard deviation  \n",
        "- $n$ = sample size\n",
        "\n"
      ],
      "metadata": {
        "id": "kseLwQhNlAfp"
      }
    },
    {
      "cell_type": "markdown",
      "source": [
        "**Question 8**:- What is the concept of expected value in a probability distribution?\n"
      ],
      "metadata": {
        "id": "GfmDtlTImcJ2"
      }
    },
    {
      "cell_type": "markdown",
      "source": [
        "**Answer 8**:- The expected value (also called mean) of a random variable is a measure of the “average” or “central” value that the variable takes in the long run. It represents the weighted average of all possible values, weighted by their probabilities.\n",
        "\n",
        "\n",
        "\n",
        "- For a discrete random variable\n",
        "\n",
        "𝑋\n",
        " with values\n",
        "𝑥\n",
        "1\n",
        ",\n",
        "𝑥\n",
        "2\n",
        ",\n",
        "…\n",
        ",\n",
        "𝑥\n",
        "𝑛\n",
        "x\n",
        "1\n",
        "\t​\n",
        ",x\n",
        "2\n",
        "\n",
        ",…,xn\n",
        " and probabilities\n",
        "𝑃\n",
        "(\n",
        "𝑋\n",
        "=\n",
        "𝑥\n",
        "𝑖\n",
        ")\n",
        "P(X=x\n",
        "i\n",
        "\t​\n",
        "):\n",
        "\n",
        "$$E(X) = \\sum_{i=1}^{n} x_i \\cdot P(X = x_i)$$\n",
        "\n",
        "\n",
        "- For a continuous random variable\n",
        "𝑋\n",
        "X with probability density function\n",
        "𝑓\n",
        "(\n",
        "𝑥\n",
        ")\n",
        "f(x):\n",
        "\n",
        "$$E(X) = \\int_{-\\infty}^{\\infty} x \\cdot f(x) \\, dx$$\n",
        "\n",
        "- Example (Discrete Random Variable)\n",
        "\n",
        "- Toss a fair six-sided die.\n",
        "\n",
        "- Random variable\n",
        "𝑋\n",
        "X = number on the die.\n",
        "\n",
        "- Possible values: 1, 2, 3, 4, 5, 6 (each with probability\n",
        "1\n",
        "/\n",
        "6\n",
        "1/6)\n",
        "\n",
        "$$E(X) = 1\\cdot\\frac{1}{6} + 2\\cdot\\frac{1}{6} + 3\\cdot\\frac{1}{6} + 4\\cdot\\frac{1}{6} + 5\\cdot\\frac{1}{6} + 6\\cdot\\frac{1}{6} = 3.5$$\n",
        "\n",
        "\n",
        " This means that, on average, the die shows 3.5 in the long run.\n",
        "\n",
        "**Significance**\n",
        "\n",
        "- Provides a central measure for a random variable.\n",
        "\n",
        "- Used in decision-making and risk assessment.\n",
        "\n",
        "- Forms the basis for variance, standard deviation, and other statistical calculations."
      ],
      "metadata": {
        "id": "d2ZfurpRnuSf"
      }
    },
    {
      "cell_type": "markdown",
      "source": [
        "**Question 9**:- Write a Python program to generate 1000 random numbers from a normal\n",
        "distribution with mean = 50 and standard deviation = 5. Compute its mean and standard\n",
        "deviation using NumPy, and draw a histogram to visualize the distribution.\n"
      ],
      "metadata": {
        "id": "AJLXZd00pGDO"
      }
    },
    {
      "cell_type": "code",
      "source": [
        "#**Answer 9**:-\n",
        "\n",
        "import numpy as np\n",
        "import matplotlib.pyplot as plt\n",
        "\n",
        "mean = 50\n",
        "std_dev = 5\n",
        "size = 1000\n",
        "\n",
        "data = np.random.normal(loc=mean, scale=std_dev, size=size)\n",
        "\n",
        "data_mean = np.mean(data)\n",
        "data_std = np.std(data)\n",
        "\n",
        "print(f\"Mean of generated data: {data_mean:.2f}\")\n",
        "print(f\"Standard Deviation of generated data: {data_std:.2f}\")\n",
        "\n",
        "plt.figure(figsize=(10,6))\n",
        "plt.hist(data, bins=30, color='skyblue', edgecolor='black')\n",
        "plt.title('Histogram of Generated Normal Distribution')\n",
        "plt.xlabel('Value')\n",
        "plt.ylabel('Frequency')\n",
        "plt.grid(True)\n",
        "plt.show()\n"
      ],
      "metadata": {
        "colab": {
          "base_uri": "https://localhost:8080/",
          "height": 599
        },
        "id": "Y1uYPhHfp4ZK",
        "outputId": "2d334403-c212-42fc-aaf5-d4d7b507e871"
      },
      "execution_count": 2,
      "outputs": [
        {
          "output_type": "stream",
          "name": "stdout",
          "text": [
            "Mean of generated data: 50.05\n",
            "Standard Deviation of generated data: 5.14\n"
          ]
        },
        {
          "output_type": "display_data",
          "data": {
            "text/plain": [
              "<Figure size 1000x600 with 1 Axes>"
            ],
            "image/png": "[encoded data removed]"
          },
          "metadata": {}
        }
      ]
    },
    {
      "cell_type": "markdown",
      "source": [
        "**Explanation**\n",
        "\n",
        "1. np.random.normal(loc, scale, size) generates random numbers from a normal distribution:\n",
        "\n",
        "- loc = mean\n",
        "\n",
        "- scale = standard deviation\n",
        "\n",
        "- size = number of samples\n",
        "\n",
        "2. np.mean() calculates the mean of the generated numbers.\n",
        "\n",
        "3. np.std() calculates the standard deviation.\n",
        "\n",
        "4. plt.hist() plots a histogram to visualize the data distribution."
      ],
      "metadata": {
        "id": "2Wal5MyHqX4E"
      }
    },
    {
      "cell_type": "markdown",
      "source": [
        "**Question 10:** You are working as a data analyst for a retail company. The company has\n",
        "collected daily sales data for 2 years and wants you to identify the overall sales trend.\n",
        "daily_sales = [220, 245, 210, 265, 230, 250, 260, 275, 240, 255,\n",
        " 235, 260, 245, 250, 225, 270, 265, 255, 250, 260]\n",
        "\n",
        "-  Explain how you would apply the Central Limit Theorem to estimate the average sales\n",
        "with a 95% confidence interval.\n",
        "\n",
        "-  Write the Python code to compute the mean sales and its confidence interval.\n"
      ],
      "metadata": {
        "id": "5dg0kuTWqqBo"
      }
    },
    {
      "cell_type": "markdown",
      "source": [
        "**Answer 10 :** Step 1: Applying the Central Limit Theorem\n",
        "\n",
        "- The Central Limit Theorem (CLT) states that the sampling distribution of the sample mean will approximate a normal distribution if the sample size is sufficiently large, even if the population distribution is not normal.\n",
        "\n",
        "- In this case:\n",
        "\n",
        "   - Daily sales data = population/sample\n",
        "\n",
        "  - Goal: Estimate average daily sales with a 95% confidence interval\n",
        "\n",
        "**Procedure:**\n",
        "\n",
        "1. Compute the sample mean (\n",
        "𝑋\n",
        "ˉ\n",
        "X\n",
        "ˉ\n",
        ") of daily sales.\n",
        "\n",
        "2. Compute the sample standard deviation (s).\n",
        "\n",
        "3. Compute the standard error (SE):\n",
        "\n",
        "$$SE = \\frac{s}{\\sqrt{n}}$$\n",
        "\n",
        "\n",
        "4. For 95% confidence, use Z-value = 1.96.\n",
        "\n",
        "5. Compute confidence interval (CI):\n",
        "$$CI = \\bar{X} \\pm Z \\cdot SE$$\n"
      ],
      "metadata": {
        "id": "kZ5ItumgrDdj"
      }
    },
    {
      "cell_type": "code",
      "source": [
        "import numpy as np\n",
        "from scipy import stats\n",
        "\n",
        "daily_sales = [220, 245, 210, 265, 230, 250, 260, 275, 240, 255,\n",
        "               235, 260, 245, 250, 225, 270, 265, 255, 250, 260]\n",
        "\n",
        "mean_sales = np.mean(daily_sales)\n",
        "\n",
        "std_sales = np.std(daily_sales, ddof=1)  # ddof=1 for sample std\n",
        "\n",
        "n = len(daily_sales)\n",
        "\n",
        "se = std_sales / np.sqrt(n)\n",
        "\n",
        "z = 1.96\n",
        "ci_lower = mean_sales - z * se\n",
        "ci_upper = mean_sales + z * se\n",
        "\n",
        "print(f\"Mean Daily Sales: {mean_sales:.2f}\")\n",
        "print(f\"95% Confidence Interval: ({ci_lower:.2f}, {ci_upper:.2f})\")\n"
      ],
      "metadata": {
        "colab": {
          "base_uri": "https://localhost:8080/"
        },
        "id": "t6rbGJsesGhJ",
        "outputId": "607f7b3a-c845-4e3a-bfee-992392c4f429"
      },
      "execution_count": 3,
      "outputs": [
        {
          "output_type": "stream",
          "name": "stdout",
          "text": [
            "Mean Daily Sales: 248.25\n",
            "95% Confidence Interval: (240.68, 255.82)\n"
          ]
        }
      ]
    },
    {
      "cell_type": "markdown",
      "source": [
        "**Explanation of Output**\n",
        "\n",
        "- Mean Daily Sales: Gives the average daily revenue.\n",
        "\n",
        "- 95% Confidence Interval: We are 95% confident that the true mean daily sales lies within this interval."
      ],
      "metadata": {
        "id": "PpPN9zKasVTK"
      }
    }
  ]
}