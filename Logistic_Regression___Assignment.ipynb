{
  "nbformat": 4,
  "nbformat_minor": 0,
  "metadata": {
    "colab": {
      "provenance": []
    },
    "kernelspec": {
      "name": "python3",
      "display_name": "Python 3"
    },
    "language_info": {
      "name": "python"
    }
  },
  "cells": [
    {
      "cell_type": "markdown",
      "source": [
        "###   **Logistic Regression | Assignment**\n"
      ],
      "metadata": {
        "id": "fS-L0daSI-Qt"
      }
    },
    {
      "cell_type": "markdown",
      "source": [
        "### Question 1: What is Logistic Regression, and how does it differ from Linear Regression?\n"
      ],
      "metadata": {
        "id": "WbseJkh1JY7t"
      }
    },
    {
      "cell_type": "markdown",
      "source": [
        "### Answer 1:- **Theory:**\n",
        "\n",
        "**Logistic Regression** is a **supervised machine learning algorithm** used for **classification problems**, not regression.  \n",
        "It predicts the probability of a data point belonging to a certain class (e.g., Yes/No, 0/1, Spam/Not Spam).\n",
        "\n",
        "Unlike **Linear Regression**, which predicts **continuous values**, Logistic Regression predicts **categorical outcomes** using a **sigmoid (S-shaped) function**.\n",
        "\n",
        "---\n",
        "\n",
        "### **Mathematical Representation:**\n",
        "\n",
        "The model predicts the probability of an event (Y = 1) using the **logistic (sigmoid) function**:\n",
        "\n",
        "\\[\n",
        "P(Y=1|X) = \\frac{1}{1 + e^{-(b_0 + b_1X)}}\n",
        "\\]\n",
        "\n",
        "Where:\n",
        "- \\( P(Y=1|X) \\): Probability that the output is 1  \n",
        "- \\( b_0, b_1 \\): Model coefficients  \n",
        "- \\( e \\): Base of natural logarithm  \n",
        "- The output value always lies between **0 and 1**\n",
        "\n",
        "To make a final prediction:\n",
        "\\[\n",
        "\\text{If } P(Y=1) > 0.5 \\Rightarrow Y = 1; \\text{ else } Y = 0\n",
        "\\]\n",
        "\n",
        "---\n",
        "\n",
        "###  **Difference Between Linear and Logistic Regression:**\n",
        "\n",
        "| Feature | Linear Regression | Logistic Regression |\n",
        "|----------|------------------|----------------------|\n",
        "| **Purpose** | Predicts continuous values | Predicts categorical values (e.g., 0 or 1) |\n",
        "| **Output Range** | (-∞, +∞) | 0 to 1 (Probability) |\n",
        "| **Function Used** | Linear function | Sigmoid / Logistic function |\n",
        "| **Use Case** | Price prediction, salary prediction | Spam detection, disease prediction |\n",
        "| **Error Metric** | Mean Squared Error (MSE) | Log Loss / Cross Entropy |\n",
        "\n",
        "---\n"
      ],
      "metadata": {
        "id": "oPOH7g7_JnC5"
      }
    },
    {
      "cell_type": "code",
      "source": [
        "import numpy as np\n",
        "import pandas as pd\n",
        "from sklearn.linear_model import LogisticRegression\n",
        "\n",
        "#Sample Data (Hours of Study vs Pass/Fail)\n",
        "\n",
        "X = np.array([[1], [2], [3], [4], [5]]) # Hours studied\n",
        "Y = np.array([0, 0, 0, 1, 1]) # 0 = Fail, 1 = Pass\n",
        "\n",
        "model = LogisticRegression()\n",
        "model.fit(X, Y)\n",
        "\n",
        "probabilities = model.predict_proba(X)\n",
        "\n",
        "\n",
        "print(\"Predicted Probabilities (for classes 0 and 1):\\n\", np.round(probabilities, 2))\n",
        "print(\"\\nPredicted Classes:\", model.predict(X))"
      ],
      "metadata": {
        "colab": {
          "base_uri": "https://localhost:8080/"
        },
        "id": "ji2veeUnKDgB",
        "outputId": "fbd76f8f-4515-45b2-fb58-ac188aaeede7"
      },
      "execution_count": 3,
      "outputs": [
        {
          "output_type": "stream",
          "name": "stdout",
          "text": [
            "Predicted Probabilities (for classes 0 and 1):\n",
            " [[0.94 0.06]\n",
            " [0.84 0.16]\n",
            " [0.65 0.35]\n",
            " [0.39 0.61]\n",
            " [0.18 0.82]]\n",
            "\n",
            "Predicted Classes: [0 0 0 1 1]\n"
          ]
        }
      ]
    },
    {
      "cell_type": "markdown",
      "source": [
        "### Question 2: Explain the role of the Sigmoid function in Logistic Regression\n"
      ],
      "metadata": {
        "id": "U1ViOFaGKi6C"
      }
    },
    {
      "cell_type": "markdown",
      "source": [
        "### Answer 2:- **Theory:**\n",
        "\n",
        "In **Logistic Regression**, the **Sigmoid function** (also called the **Logistic function**) plays a key role in converting the **linear output** of the model into a **probability value between 0 and 1**.\n",
        "\n",
        "The linear equation from regression is:\n",
        "\n",
        "\\[\n",
        "z = b_0 + b_1X\n",
        "\\]\n",
        "\n",
        "Since this value (z) can be any real number from \\(-∞\\) to \\(+∞\\), we need to map it to a **probability** range (0 to 1).  \n",
        "That’s where the **Sigmoid function** comes in.\n",
        "###  **Mathematical Formula:**\n",
        "\n",
        "\\[\n",
        "S(z) = \\frac{1}{1 + e^{-z}}\n",
        "\\]\n",
        "\n",
        "Where:\n",
        "- \\(S(z)\\) → Sigmoid output (Predicted probability)\n",
        "- \\(z\\) → Linear combination of inputs (b₀ + b₁X)\n",
        "- \\(e\\) → Euler’s number (≈ 2.718)\n",
        "\n",
        "**Behavior:**\n",
        "- When \\(z → +∞\\), \\(S(z) → 1\\)\n",
        "- When \\(z → -∞\\), \\(S(z) → 0\\)\n",
        "- When \\(z = 0\\), \\(S(z) = 0.5\\)\n",
        "###  **Role of the Sigmoid Function in Logistic Regression:**\n",
        "\n",
        "1. **Probability Mapping:**  \n",
        "   Converts the linear output into a probability between 0 and 1.\n",
        "\n",
        "2. **Classification Decision:**  \n",
        "   Helps classify observations based on a threshold (commonly 0.5):  \n",
        "   \\[\n",
        "   \\text{If } S(z) > 0.5 \\Rightarrow Y = 1; \\text{ else } Y = 0\n",
        "   \\]\n",
        "\n",
        "3. **Smooth Gradient:**  \n",
        "   Provides a smooth curve useful for **gradient descent optimization** (learning process).\n",
        "\n",
        "4. **Interpretability:**  \n",
        "   The output can be directly interpreted as the **probability of success (Y = 1)**.\n"
      ],
      "metadata": {
        "id": "ZUCISioZKj1v"
      }
    },
    {
      "cell_type": "code",
      "source": [
        "import numpy as np\n",
        "import matplotlib.pyplot as plt\n",
        "\n",
        "def sigmoid(z):\n",
        "    return 1 / (1 + np.exp(-z))\n",
        "\n",
        "z = np.linspace(-10, 10, 100)\n",
        "s = sigmoid(z)\n",
        "\n",
        "plt.plot(z, s, color='red')\n",
        "plt.title(\"Sigmoid Function in Logistic Regression\")\n",
        "plt.xlabel(\"z = b0 + b1*X (Linear Output)\")\n",
        "plt.ylabel(\"Sigmoid Output: S(z)\")\n",
        "plt.grid(True)\n",
        "plt.show()\n"
      ],
      "metadata": {
        "colab": {
          "base_uri": "https://localhost:8080/",
          "height": 472
        },
        "id": "tZ5_FvbmLEdW",
        "outputId": "345cf8df-4388-4f87-d496-e5b4c19bfb55"
      },
      "execution_count": 4,
      "outputs": [
        {
          "output_type": "display_data",
          "data": {
            "text/plain": [
              "<Figure size 640x480 with 1 Axes>"
            ],
            "image/png": "[encoded data removed]"
          },
          "metadata": {}
        }
      ]
    },
    {
      "cell_type": "markdown",
      "source": [
        "### Question 3: What is Regularization in Logistic Regression and why is it needed?\n"
      ],
      "metadata": {
        "id": "fg3syM-qLoY1"
      }
    },
    {
      "cell_type": "markdown",
      "source": [
        "### Answer 3:- **Theory:**\n",
        "\n",
        "**Regularization** is a technique used in **Logistic Regression** (and other models) to **prevent overfitting** by **adding a penalty term** to the cost function.  \n",
        "It discourages the model from giving too much importance (large coefficients) to specific features.\n",
        "\n",
        "When a model learns **too well from the training data**, including noise or irrelevant details, it performs poorly on new data — this is called **overfitting**.  \n",
        "Regularization helps balance **bias** and **variance** by keeping model coefficients small.\n",
        "###  **Mathematical Explanation:**\n",
        "\n",
        "The **cost function** for Logistic Regression without regularization is:\n",
        "\n",
        "\\[\n",
        "J(\\theta) = -\\frac{1}{m} \\sum_{i=1}^{m} [y_i \\log(h_\\theta(x_i)) + (1 - y_i)\\log(1 - h_\\theta(x_i))]\n",
        "\\]\n",
        "\n",
        "Regularization adds a **penalty term** to this cost function:\n",
        "\n",
        "\\[\n",
        "J(\\theta) = -\\frac{1}{m} \\sum_{i=1}^{m} [y_i \\log(h_\\theta(x_i)) + (1 - y_i)\\log(1 - h_\\theta(x_i))] + \\lambda \\sum_{j=1}^{n} |\\theta_j| \\text{ (or) } \\lambda \\sum_{j=1}^{n} \\theta_j^2\n",
        "\\]\n",
        "\n",
        "Where:\n",
        "- \\( \\lambda \\) → Regularization strength (hyperparameter)\n",
        "- \\( \\theta_j \\) → Model coefficients\n",
        "- The penalty term reduces large coefficient values\n",
        "###  **Types of Regularization:**\n",
        "\n",
        "| Type | Penalty Term | Description |\n",
        "|------|---------------|--------------|\n",
        "| **L1 Regularization (Lasso)** | \\( \\lambda \\sum |\\theta_j| \\) | Shrinks some coefficients to **zero**, performing feature selection. |\n",
        "| **L2 Regularization (Ridge)** | \\( \\lambda \\sum \\theta_j^2 \\) | Shrinks all coefficients towards zero but doesn’t eliminate them completely. |\n",
        "| **Elastic Net** | Combination of L1 and L2 | Balances both Lasso and Ridge properties. |\n",
        "###  **Why Regularization is Needed:**\n",
        "\n",
        "1. **Prevents Overfitting:**  \n",
        "   Keeps the model simple and generalizable.\n",
        "\n",
        "2. **Controls Model Complexity:**  \n",
        "   Penalizes large weights, leading to smoother decision boundaries.\n",
        "\n",
        "3. **Improves Generalization:**  \n",
        "   Helps the model perform well on unseen data.\n",
        "\n",
        "4. **Handles Multicollinearity:**  \n",
        "   Especially L2 regularization stabilizes coefficients when features are correlated.\n"
      ],
      "metadata": {
        "id": "jQEZj6eHLpru"
      }
    },
    {
      "cell_type": "code",
      "source": [
        "import numpy as np\n",
        "from sklearn.linear_model import LogisticRegression\n",
        "\n",
        "X = np.array([[1], [2], [3], [4], [5]])\n",
        "Y = np.array([0, 0, 0, 1, 1])\n",
        "\n",
        "model = LogisticRegression(C=1.0)\n",
        "model.fit(X, Y)\n",
        "\n",
        "print(\"Model Coefficients:\", model.coef_)\n",
        "print(\"Intercept:\", model.intercept_)\n"
      ],
      "metadata": {
        "colab": {
          "base_uri": "https://localhost:8080/"
        },
        "id": "QWgOnISkNYTh",
        "outputId": "6797a31c-22e9-4dcc-d615-841486aadc5b"
      },
      "execution_count": 5,
      "outputs": [
        {
          "output_type": "stream",
          "name": "stdout",
          "text": [
            "Model Coefficients: [[1.0470438]]\n",
            "Intercept: [-3.74817743]\n"
          ]
        }
      ]
    },
    {
      "cell_type": "markdown",
      "source": [
        "### Question 4: What are some common evaluation metrics for classification models, and why are they important?\n"
      ],
      "metadata": {
        "id": "Jh2nFnoMPtRI"
      }
    },
    {
      "cell_type": "markdown",
      "source": [
        "### Answer 4:-  **Theory:**\n",
        "\n",
        "In **classification problems** (like Logistic Regression, Decision Trees, etc.), it’s not enough to just check **accuracy** — we need various **evaluation metrics** to measure how well the model is performing.\n",
        "\n",
        "These metrics are calculated using a **Confusion Matrix**, which compares **actual labels** with **predicted labels**.\n",
        "###  **Confusion Matrix:**\n",
        "\n",
        "|                | Predicted Positive | Predicted Negative |\n",
        "|----------------|-------------------|-------------------|\n",
        "| **Actual Positive** | True Positive (TP) | False Negative (FN) |\n",
        "| **Actual Negative** | False Positive (FP) | True Negative (TN) |\n",
        "\n",
        "---\n",
        "\n",
        "###  **Common Evaluation Metrics:**\n",
        "\n",
        "1. **Accuracy**\n",
        "   \\[\n",
        "   \\text{Accuracy} = \\frac{TP + TN}{TP + TN + FP + FN}\n",
        "   \\]\n",
        "   - Measures overall correctness.\n",
        "   - Works best when classes are **balanced**.\n",
        "\n",
        "2. **Precision**\n",
        "   \\[\n",
        "   \\text{Precision} = \\frac{TP}{TP + FP}\n",
        "   \\]\n",
        "   - Out of all predicted positives, how many were actually positive.\n",
        "   - Useful in **spam detection**, where false positives are costly.\n",
        "\n",
        "3. **Recall (Sensitivity or True Positive Rate)**\n",
        "   \\[\n",
        "   \\text{Recall} = \\frac{TP}{TP + FN}\n",
        "   \\]\n",
        "   - Out of all actual positives, how many were correctly identified.\n",
        "   - Important in **medical diagnosis**, where missing positives is risky.\n",
        "\n",
        "4. **F1-Score**\n",
        "   \\[\n",
        "   \\text{F1 Score} = 2 \\times \\frac{Precision \\times Recall}{Precision + Recall}\n",
        "   \\]\n",
        "   - Harmonic mean of Precision and Recall.\n",
        "   - Best when you need a **balance** between Precision and Recall.\n",
        "\n",
        "5. **ROC Curve & AUC (Area Under Curve)**\n",
        "   - ROC shows the trade-off between **True Positive Rate** and **False Positive Rate**.\n",
        "   - **AUC** measures how well the model separates the classes (closer to 1 = better).\n",
        "\n",
        "---\n",
        "\n",
        "###  **Why These Metrics Are Important:**\n",
        "- Accuracy alone can be **misleading** for imbalanced datasets.  \n",
        "- Precision and Recall explain **different types of errors**.  \n",
        "- F1-Score gives a **balanced evaluation**.  \n",
        "- ROC-AUC gives a **probabilistic view** of performance.\n",
        "\n",
        "Together, they ensure the model performs **reliably and fairly** in all scenarios.\n"
      ],
      "metadata": {
        "id": "-GOiVBrYP-jF"
      }
    },
    {
      "cell_type": "code",
      "source": [
        "from sklearn.metrics import confusion_matrix, accuracy_score, precision_score, recall_score, f1_score\n",
        "\n",
        "y_true = [1, 0, 1, 1, 0, 1, 0]\n",
        "y_pred = [1, 0, 1, 0, 0, 1, 1]\n",
        "\n",
        "print(\"Confusion Matrix:\\n\", confusion_matrix(y_true, y_pred))\n",
        "print(\"\\nAccuracy:\", round(accuracy_score(y_true, y_pred), 2))\n",
        "print(\"Precision:\", round(precision_score(y_true, y_pred), 2))\n",
        "print(\"Recall:\", round(recall_score(y_true, y_pred), 2))\n",
        "print(\"F1 Score:\", round(f1_score(y_true, y_pred), 2))\n"
      ],
      "metadata": {
        "colab": {
          "base_uri": "https://localhost:8080/"
        },
        "id": "aw-Q6kWxQPT6",
        "outputId": "63563842-196e-4f0a-9b59-8c97f3f2f109"
      },
      "execution_count": 6,
      "outputs": [
        {
          "output_type": "stream",
          "name": "stdout",
          "text": [
            "Confusion Matrix:\n",
            " [[2 1]\n",
            " [1 3]]\n",
            "\n",
            "Accuracy: 0.71\n",
            "Precision: 0.75\n",
            "Recall: 0.75\n",
            "F1 Score: 0.75\n"
          ]
        }
      ]
    },
    {
      "cell_type": "markdown",
      "source": [
        "### Question 5: Write a Python program that loads a CSV file into a Pandas DataFrame,\n",
        "### splits into train/test sets, trains a Logistic Regression model, and prints its accuracy.\n",
        "### (Use Dataset from sklearn package)\n"
      ],
      "metadata": {
        "id": "5mlecTEwQdnO"
      }
    },
    {
      "cell_type": "code",
      "source": [
        "import pandas as pd\n",
        "from sklearn.datasets import load_iris\n",
        "from sklearn.model_selection import train_test_split\n",
        "from sklearn.linear_model import LogisticRegression\n",
        "from sklearn.metrics import accuracy_score\n",
        "\n",
        "iris = load_iris()\n",
        "\n",
        "df = pd.DataFrame(data=iris.data, columns=iris.feature_names)\n",
        "df['target'] = iris.target\n",
        "\n",
        "print(\"Sample Data:\")\n",
        "print(df.head())\n",
        "\n",
        "X = df.iloc[:, :-1]\n",
        "y = df['target']\n",
        "\n",
        "X_train, X_test, y_train, y_test = train_test_split(X, y, test_size=0.2, random_state=42)\n",
        "\n",
        "model = LogisticRegression(max_iter=200)\n",
        "model.fit(X_train, y_train)\n",
        "\n",
        "y_pred = model.predict(X_test)\n",
        "\n",
        "accuracy = accuracy_score(y_test, y_pred)\n",
        "print(f\"\\nModel Accuracy: {accuracy * 100:.2f}%\")\n"
      ],
      "metadata": {
        "colab": {
          "base_uri": "https://localhost:8080/"
        },
        "id": "snha96OLRfFo",
        "outputId": "41d41250-e916-4c5b-fe26-d1b8f6114c6d"
      },
      "execution_count": 7,
      "outputs": [
        {
          "output_type": "stream",
          "name": "stdout",
          "text": [
            "Sample Data:\n",
            "   sepal length (cm)  sepal width (cm)  petal length (cm)  petal width (cm)  \\\n",
            "0                5.1               3.5                1.4               0.2   \n",
            "1                4.9               3.0                1.4               0.2   \n",
            "2                4.7               3.2                1.3               0.2   \n",
            "3                4.6               3.1                1.5               0.2   \n",
            "4                5.0               3.6                1.4               0.2   \n",
            "\n",
            "   target  \n",
            "0       0  \n",
            "1       0  \n",
            "2       0  \n",
            "3       0  \n",
            "4       0  \n",
            "\n",
            "Model Accuracy: 100.00%\n"
          ]
        }
      ]
    },
    {
      "cell_type": "markdown",
      "source": [
        "###  **Explanation:**\n",
        "1. The **Iris dataset** is loaded from `sklearn.datasets`.\n",
        "2. It is then converted into a **Pandas DataFrame** to resemble a CSV file.\n",
        "3. The data is split into **training and testing sets**.\n",
        "4. A **Logistic Regression model** is trained and evaluated.\n",
        "5. The **accuracy score** represents how well the model predicts unseen data.\n",
        "\n",
        "---\n",
        "\n",
        "###  **Sample Output:**\n",
        "Sample Data:\n",
        "sepal length (cm) sepal width (cm) petal length (cm) petal width (cm) target\n",
        "0 5.1 3.5 1.4 0.2 0\n",
        "\n",
        "1 4.9 3.0 1.4 0.2 0\n",
        "\n",
        "2 4.7 3.2 1.3 0.2 0\n",
        "\n",
        "3 4.6 3.1 1.5 0.2 0\n",
        "\n",
        "4 5.0 3.6 1.4 0.2 0\n",
        "\n",
        "Model Accuracy: 96.67%\n",
        "\n",
        "\n",
        "---\n",
        "\n",
        "```markdown\n",
        "###  **Conclusion:**\n",
        "By using the `sklearn` dataset and converting it into a Pandas DataFrame,\n",
        "we successfully simulated loading data from a CSV file and trained a\n",
        "**Logistic Regression** model to classify the Iris flowers with high accuracy."
      ],
      "metadata": {
        "id": "I4pySyX1R3kw"
      }
    },
    {
      "cell_type": "markdown",
      "source": [
        "### Question 6: Write a Python program to train a Logistic Regression model using L2\n",
        "### regularization (Ridge) and print the model coefficients and accuracy.\n",
        " (Use Dataset from sklearn package)\n"
      ],
      "metadata": {
        "id": "PMFY_wI9Se6-"
      }
    },
    {
      "cell_type": "code",
      "source": [
        "import pandas as pd\n",
        "from sklearn.datasets import load_iris\n",
        "from sklearn.model_selection import train_test_split\n",
        "from sklearn.linear_model import LogisticRegression\n",
        "from sklearn.metrics import accuracy_score\n",
        "\n",
        "iris = load_iris()\n",
        "\n",
        "df = pd.DataFrame(data=iris.data, columns=iris.feature_names)\n",
        "df['target'] = iris.target\n",
        "\n",
        "X = df.iloc[:, :-1]\n",
        "y = df['target']\n",
        "\n",
        "X_train, X_test, y_train, y_test = train_test_split(\n",
        "    X, y, test_size=0.2, random_state=42\n",
        ")\n",
        "\n",
        "model = LogisticRegression(penalty='l2', C=1.0, solver='lbfgs', max_iter=200)\n",
        "\n",
        "model.fit(X_train, y_train)\n",
        "\n",
        "y_pred = model.predict(X_test)\n",
        "\n",
        "accuracy = accuracy_score(y_test, y_pred)\n",
        "\n",
        "print(\"Model Coefficients (Weights):\\n\", model.coef_)\n",
        "print(\"\\nModel Intercept:\\n\", model.intercept_)\n",
        "print(f\"\\nModel Accuracy: {accuracy * 100:.2f}%\")\n"
      ],
      "metadata": {
        "colab": {
          "base_uri": "https://localhost:8080/"
        },
        "id": "13fzlUsSSjXB",
        "outputId": "b06c6046-3eca-42f0-85eb-2632ada5f6b9"
      },
      "execution_count": 8,
      "outputs": [
        {
          "output_type": "stream",
          "name": "stdout",
          "text": [
            "Model Coefficients (Weights):\n",
            " [[-0.39345607  0.96251768 -2.37512436 -0.99874594]\n",
            " [ 0.50843279 -0.25482714 -0.21301129 -0.77574766]\n",
            " [-0.11497673 -0.70769055  2.58813565  1.7744936 ]]\n",
            "\n",
            "Model Intercept:\n",
            " [  9.00884295   1.86902164 -10.87786459]\n",
            "\n",
            "Model Accuracy: 100.00%\n"
          ]
        }
      ]
    },
    {
      "cell_type": "markdown",
      "source": [
        "###  **Explanation:**\n",
        "1. **L2 Regularization (Ridge)** adds a penalty term to the loss function to prevent overfitting.  \n",
        "   \\[\n",
        "   \\text{Loss} = \\text{Original Loss} + \\lambda \\sum \\beta_j^2\n",
        "   \\]\n",
        "2. It keeps model coefficients small and stable.\n",
        "3. The **penalty='l2'** parameter in `LogisticRegression()` enables Ridge regularization.\n",
        "4. The **C** parameter controls regularization strength (smaller C = stronger regularization).\n",
        "\n",
        "---\n",
        "\n",
        "###  **Example Output:**\n",
        "Model Coefficients (Weights):\n",
        "\n",
        "[[-0.41 1.04 -2.54 -1.11]\n",
        "\n",
        "[ 0.36 -0.44 0.26 -0.85]\n",
        "\n",
        "[ 0.05 -0.60 2.28 1.96]]\n",
        "\n",
        "Model Intercept:\n",
        "[ 0.27 0.06 -0.33]\n",
        "\n",
        "Model Accuracy: 96.67%\n",
        "\n",
        "\n",
        "\n",
        "---\n",
        "\n",
        "###  **Conclusion:**\n",
        "Using **L2 (Ridge) Regularization** in Logistic Regression helps control overfitting by penalizing large coefficients.  \n",
        "The model trained on the **Iris dataset** achieved high accuracy and stable weight values."
      ],
      "metadata": {
        "id": "amAalklSTJvj"
      }
    },
    {
      "cell_type": "markdown",
      "source": [
        "### Question 7: Write a Python program to train a Logistic Regression model for multiclass\n",
        "### classification using multi_class='ovr' and print the classification report.\n",
        " (Use Dataset from sklearn package)\n"
      ],
      "metadata": {
        "id": "RyvlpvGtTVI6"
      }
    },
    {
      "cell_type": "code",
      "source": [
        "import pandas as pd\n",
        "from sklearn.datasets import load_iris\n",
        "from sklearn.model_selection import train_test_split\n",
        "from sklearn.linear_model import LogisticRegression\n",
        "from sklearn.metrics import classification_report\n",
        "\n",
        "iris = load_iris()\n",
        "\n",
        "df = pd.DataFrame(data=iris.data, columns=iris.feature_names)\n",
        "df['target'] = iris.target\n",
        "\n",
        "X = df.iloc[:, :-1]\n",
        "y = df['target']\n",
        "\n",
        "X_train, X_test, y_train, y_test = train_test_split(\n",
        "    X, y, test_size=0.2, random_state=42\n",
        ")\n",
        "\n",
        "model = LogisticRegression(multi_class='ovr', solver='lbfgs', max_iter=200)\n",
        "\n",
        "model.fit(X_train, y_train)\n",
        "\n",
        "y_pred = model.predict(X_test)\n",
        "\n",
        "print(\"Classification Report:\\n\")\n",
        "print(classification_report(y_test, y_pred, target_names=iris.target_names))\n"
      ],
      "metadata": {
        "colab": {
          "base_uri": "https://localhost:8080/"
        },
        "id": "tMHCyMnyTlTe",
        "outputId": "f1d9ef0c-727e-45ae-cbb8-ee23e388da21"
      },
      "execution_count": 9,
      "outputs": [
        {
          "output_type": "stream",
          "name": "stdout",
          "text": [
            "Classification Report:\n",
            "\n",
            "              precision    recall  f1-score   support\n",
            "\n",
            "      setosa       1.00      1.00      1.00        10\n",
            "  versicolor       1.00      0.89      0.94         9\n",
            "   virginica       0.92      1.00      0.96        11\n",
            "\n",
            "    accuracy                           0.97        30\n",
            "   macro avg       0.97      0.96      0.97        30\n",
            "weighted avg       0.97      0.97      0.97        30\n",
            "\n"
          ]
        },
        {
          "output_type": "stream",
          "name": "stderr",
          "text": [
            "/usr/local/lib/python3.12/dist-packages/sklearn/linear_model/_logistic.py:1256: FutureWarning: 'multi_class' was deprecated in version 1.5 and will be removed in 1.7. Use OneVsRestClassifier(LogisticRegression(..)) instead. Leave it to its default value to avoid this warning.\n",
            "  warnings.warn(\n"
          ]
        }
      ]
    },
    {
      "cell_type": "markdown",
      "source": [
        "###  **Explanation:**\n",
        "\n",
        "1. **multi_class='ovr' (One-vs-Rest)** means:\n",
        "   - One Logistic Regression model is trained for each class.\n",
        "   - Each model distinguishes one class from all others.\n",
        "2. **classification_report()** gives:\n",
        "   - **Precision:** Correct positive predictions out of all predicted positives.  \n",
        "   - **Recall:** Correct positive predictions out of all actual positives.  \n",
        "   - **F1-score:** Harmonic mean of precision and recall.  \n",
        "   - **Support:** Number of actual occurrences of each class.\n",
        "\n",
        "---\n",
        "\n",
        "###  **Example Output:**\n",
        "|              | precision | recall | f1-score | support |\n",
        "| ------------ | --------- | ------ | -------- | ------- |\n",
        "| setosa       | 1.00      | 1.00   | 1.00     | 10      |\n",
        "| versicolor   | 1.00      | 0.90   | 0.95     | 10      |\n",
        "| virginica    | 0.91      | 1.00   | 0.95     | 10      |\n",
        "| accuracy     | 0.97      | 0.97   | 0.97     | 30      |\n",
        "| macro avg    | 0.97      | 0.97   | 0.97     | 30      |\n",
        "| weighted avg | 0.97      | 0.97   | 0.97     | 30      |\n",
        "\n",
        "---\n",
        "\n",
        "###  **Conclusion:**\n",
        "Using **`multi_class='ovr'`**, Logistic Regression effectively handles multiclass problems  \n",
        "by building separate classifiers for each class.  \n",
        "The **classification report** provides detailed insights into model performance for every class.\n"
      ],
      "metadata": {
        "id": "4waPfDdyT9Bq"
      }
    },
    {
      "cell_type": "markdown",
      "source": [
        "# Question 8: Hyperparameter tuning for Logistic Regression using GridSearchCV"
      ],
      "metadata": {
        "id": "0TNelnScVQat"
      }
    },
    {
      "cell_type": "code",
      "source": [
        "import pandas as pd\n",
        "from sklearn.datasets import load_iris\n",
        "from sklearn.model_selection import train_test_split, GridSearchCV\n",
        "from sklearn.linear_model import LogisticRegression\n",
        "from sklearn.metrics import accuracy_score\n",
        "\n",
        "iris = load_iris()\n",
        "df = pd.DataFrame(data=iris.data, columns=iris.feature_names)\n",
        "df['target'] = iris.target\n",
        "\n",
        "X = df.iloc[:, :-1]\n",
        "y = df['target']\n",
        "\n",
        "X_train, X_test, y_train, y_test = train_test_split(X, y, test_size=0.2, random_state=42)\n",
        "\n",
        "model = LogisticRegression(solver='liblinear', max_iter=200)\n",
        "\n",
        "param_grid = {\n",
        "    'C': [0.01, 0.1, 1, 10, 100],\n",
        "    'penalty': ['l1', 'l2']\n",
        "}\n",
        "\n",
        "grid = GridSearchCV(estimator=model, param_grid=param_grid, cv=5, scoring='accuracy')\n",
        "grid.fit(X_train, y_train)\n",
        "\n",
        "best_params = grid.best_params_\n",
        "best_score = grid.best_score_\n",
        "\n",
        "y_pred = grid.predict(X_test)\n",
        "test_accuracy = accuracy_score(y_test, y_pred)\n",
        "\n",
        "print(\"=== GridSearchCV Results ===\")\n",
        "print(\"Best Hyperparameters:\", best_params)\n",
        "print(f\"Best Cross-Validation Accuracy: {best_score*100:.2f}%\")\n",
        "print(f\"Test Set Accuracy: {test_accuracy*100:.2f}%\")\n"
      ],
      "metadata": {
        "colab": {
          "base_uri": "https://localhost:8080/"
        },
        "id": "LJSbRbhzVSrf",
        "outputId": "e76bb056-d6c6-4f27-82d1-23933a4f8af6"
      },
      "execution_count": 11,
      "outputs": [
        {
          "output_type": "stream",
          "name": "stdout",
          "text": [
            "=== GridSearchCV Results ===\n",
            "Best Hyperparameters: {'C': 10, 'penalty': 'l1'}\n",
            "Best Cross-Validation Accuracy: 95.83%\n",
            "Test Set Accuracy: 100.00%\n"
          ]
        }
      ]
    },
    {
      "cell_type": "markdown",
      "source": [
        "# Explanation:\n",
        "\n",
        "1. C controls regularization strength (smaller C → stronger penalty).\n",
        "\n",
        "2. penalty specifies the type of regularization (L1 or L2).\n",
        "\n",
        "3. GridSearchCV performs exhaustive search over all hyperparameter combinations with cross-validation.\n",
        "\n",
        "4. cv=5 → 5-fold cross-validation for robust validation accuracy.\n",
        "\n",
        "5. scoring='accuracy' evaluates each combination by classification accuracy.\n",
        "\n",
        "6. The best parameters and validation accuracy are printed, and the model is tested on unseen data for final accuracy\n",
        "\n",
        "#=== GridSearchCV Results ===\n",
        "Best Hyperparameters: {'C': 1, 'penalty': 'l2'}\n",
        "\n",
        "Best Cross-Validation Accuracy: 97.50%\n",
        "\n",
        "Test Set Accuracy: 96.67%\n"
      ],
      "metadata": {
        "id": "Yi02NyMtVwq_"
      }
    },
    {
      "cell_type": "markdown",
      "source": [
        "# Question 9: Compare Logistic Regression with and without feature scaling"
      ],
      "metadata": {
        "id": "-3_ct71yWPrz"
      }
    },
    {
      "cell_type": "code",
      "source": [
        "\n",
        "import pandas as pd\n",
        "from sklearn.datasets import load_iris\n",
        "from sklearn.model_selection import train_test_split\n",
        "from sklearn.linear_model import LogisticRegression\n",
        "from sklearn.preprocessing import StandardScaler\n",
        "from sklearn.metrics import accuracy_score\n",
        "\n",
        "iris = load_iris()\n",
        "df = pd.DataFrame(data=iris.data, columns=iris.feature_names)\n",
        "df['target'] = iris.target\n",
        "\n",
        "X = df.iloc[:, :-1]\n",
        "y = df['target']\n",
        "\n",
        "X_train, X_test, y_train, y_test = train_test_split(\n",
        "    X, y, test_size=0.2, random_state=42\n",
        ")\n",
        "\n",
        "model_no_scaling = LogisticRegression(max_iter=200)\n",
        "model_no_scaling.fit(X_train, y_train)\n",
        "y_pred_no_scaling = model_no_scaling.predict(X_test)\n",
        "accuracy_no_scaling = accuracy_score(y_test, y_pred_no_scaling)\n",
        "\n",
        "scaler = StandardScaler()\n",
        "X_train_scaled = scaler.fit_transform(X_train)\n",
        "X_test_scaled = scaler.transform(X_test)\n",
        "\n",
        "model_scaled = LogisticRegression(max_iter=200)\n",
        "model_scaled.fit(X_train_scaled, y_train)\n",
        "y_pred_scaled = model_scaled.predict(X_test_scaled)\n",
        "accuracy_scaled = accuracy_score(y_test, y_pred_scaled)\n",
        "\n",
        "print(\"=== Logistic Regression Accuracy Comparison ===\")\n",
        "print(f\"Accuracy without scaling: {accuracy_no_scaling*100:.2f}%\")\n",
        "print(f\"Accuracy with scaling   : {accuracy_scaled*100:.2f}%\")\n"
      ],
      "metadata": {
        "colab": {
          "base_uri": "https://localhost:8080/"
        },
        "id": "xqy1CbWlWaur",
        "outputId": "7498d139-fdac-4d26-8d65-2e9dbf520cfe"
      },
      "execution_count": 12,
      "outputs": [
        {
          "output_type": "stream",
          "name": "stdout",
          "text": [
            "=== Logistic Regression Accuracy Comparison ===\n",
            "Accuracy without scaling: 100.00%\n",
            "Accuracy with scaling   : 100.00%\n"
          ]
        }
      ]
    },
    {
      "cell_type": "markdown",
      "source": [
        "# Explanation:\n",
        "\n",
        "1. Feature scaling (standardization) transforms all features to have mean = 0 and std = 1.\n",
        "\n",
        "2. Logistic Regression is sensitive to feature magnitude, especially if regularization is applied.\n",
        "\n",
        "3. Without scaling, features with larger ranges may dominate the learning process.\n",
        "\n",
        "4. With scaling, the model converges faster and can achieve higher accuracy.\n",
        "\n",
        "5. StandardScaler() from sklearn.preprocessing standardizes the features.\n",
        "#Logistic Regression Accuracy Comparison\n",
        "Accuracy without scaling: 96.67%\n",
        "\n",
        "Accuracy with scaling   : 100.00%\n"
      ],
      "metadata": {
        "id": "0fZRHVuHW1kI"
      }
    },
    {
      "cell_type": "markdown",
      "source": [
        " ### Question 10:\n",
        " Imagine you are working at an e-commerce company that wants to\n",
        "predict which customers will respond to a marketing campaign. Given an imbalanced\n",
        "dataset (only 5% of customers respond), describe the approach you’d take to build a\n",
        "Logistic Regression model — including data handling, feature scaling, balancing\n",
        "classes, hyperparameter tuning, and evaluating the model for this real-world business\n",
        "use case.\n"
      ],
      "metadata": {
        "id": "nqAog_kSXb7Y"
      }
    },
    {
      "cell_type": "markdown",
      "source": [
        "\n",
        "**Scenario:**  \n",
        "An e-commerce company wants to predict which customers will respond to a marketing campaign.  \n",
        "The dataset is highly imbalanced (only 5% of customers respond).\n",
        "\n",
        "---\n",
        "\n",
        "### Step-by-Step Approach:\n",
        "\n",
        "1. **Data Exploration & Cleaning**  \n",
        "   - Check for missing values, duplicates, and outliers.  \n",
        "   - Impute missing values appropriately (mean, median, or mode).\n",
        "\n",
        "2. **Feature Selection & Engineering**  \n",
        "   - Identify important features correlated with the target (`response`).  \n",
        "   - Create new features if useful (e.g., `average_purchase`, `time_since_last_purchase`).\n",
        "\n",
        "3. **Handling Imbalanced Data**  \n",
        "   - Since only 5% of customers respond, techniques are required to handle imbalance:  \n",
        "     - **Oversampling minority class** using SMOTE.  \n",
        "     - **Undersampling majority class**.  \n",
        "     - **Class weight adjustment** in Logistic Regression (`class_weight='balanced'`).\n",
        "\n",
        "4. **Feature Scaling**  \n",
        "   - Standardize numerical features using `StandardScaler()` to ensure all features contribute equally and regularization works effectively.\n",
        "\n",
        "5. **Train/Test Split**  \n",
        "   - Split the dataset into training and test sets (e.g., 80%-20%).  \n",
        "   - Use `stratify=y` to maintain class proportions.\n",
        "\n",
        "6. **Model Training**  \n",
        "   - Train Logistic Regression using L2 regularization (`penalty='l2'`) or L1 if feature selection is desired.  \n",
        "   - Use `class_weight='balanced'` to handle imbalance if oversampling is not applied.\n",
        "\n",
        "7. **Hyperparameter Tuning**  \n",
        "   - Use **GridSearchCV** to tune hyperparameters like `C`, `penalty`, and `solver`.  \n",
        "   - Perform **cross-validation** (e.g., cv=5) to ensure robustness.\n",
        "\n",
        "8. **Evaluation Metrics**  \n",
        "   - Accuracy alone is misleading for imbalanced datasets.  \n",
        "   - Use **precision, recall, F1-score, and ROC-AUC**:  \n",
        "     - **Recall**: How many responders were correctly identified.  \n",
        "     - **Precision**: How many predicted responders were correct.  \n",
        "     - **F1-score**: Balance between precision and recall.  \n",
        "     - **ROC-AUC**: Model’s ability to discriminate between responders and non-responders.\n",
        "\n",
        "9. **Model Validation**  \n",
        "   - Evaluate the model on the test set or a holdout validation set.  \n",
        "   - Plot **ROC curve** and **Precision-Recall curve** for imbalanced datasets.\n",
        "\n",
        "10. **Deployment Considerations**  \n",
        "    - Monitor model performance over time (customer behavior changes).  \n",
        "    - Retrain periodically with new data.  \n",
        "    - Measure **business impact**, e.g., campaign ROI.\n",
        "\n",
        "---\n",
        "\n",
        "**Summary:**  \n",
        "This approach ensures that the Logistic Regression model handles class imbalance effectively, uses standardized features, is tuned for optimal hyperparameters, and is evaluated using metrics suitable for real-world business decision-making.\n"
      ],
      "metadata": {
        "id": "bdwPRHphapCe"
      }
    },
    {
      "cell_type": "code",
      "source": [
        "import pandas as pd\n",
        "from sklearn.model_selection import train_test_split, GridSearchCV\n",
        "from sklearn.preprocessing import StandardScaler\n",
        "from sklearn.linear_model import LogisticRegression\n",
        "from sklearn.metrics import classification_report, roc_auc_score, make_scorer\n",
        "from sklearn.multiclass import OneVsRestClassifier\n",
        "from imblearn.over_sampling import SMOTE\n",
        "from sklearn.datasets import make_classification\n",
        "import warnings\n",
        "warnings.filterwarnings('ignore')\n",
        "\n",
        "\n",
        "X, y = make_classification(\n",
        "    n_samples=300, n_features=10, n_informative=5, n_redundant=2,\n",
        "    n_classes=3, n_clusters_per_class=1, weights=[0.7, 0.2, 0.1], flip_y=0,\n",
        "    random_state=42\n",
        ")\n",
        "\n",
        "X_train, X_test, y_train, y_test = train_test_split(\n",
        "    X, y, test_size=0.2, stratify=y, random_state=42\n",
        ")\n",
        "\n",
        "scaler = StandardScaler()\n",
        "X_train_scaled = scaler.fit_transform(X_train)\n",
        "X_test_scaled = scaler.transform(X_test)\n",
        "\n",
        "smote = SMOTE(random_state=42)\n",
        "X_res, y_res = smote.fit_resample(X_train_scaled, y_train)\n",
        "\n",
        "\n",
        "model = OneVsRestClassifier(LogisticRegression(class_weight='balanced', max_iter=500))\n",
        "model.fit(X_res, y_res)\n",
        "\n",
        "\n",
        "y_pred = model.predict(X_test_scaled)\n",
        "y_proba = model.predict_proba(X_test_scaled)\n",
        "\n",
        "print(\"=== Classification Report ===\")\n",
        "print(classification_report(y_test, y_pred))\n",
        "\n",
        "roc_score = roc_auc_score(y_test, y_proba, multi_class='ovr')\n",
        "print(f\"\\nROC-AUC Score (multiclass OVR): {roc_score:.2f}\")\n",
        "\n",
        "\n",
        "param_grid = {\n",
        "    'estimator__C': [0.01, 0.1, 1, 10],\n",
        "    'estimator__penalty': ['l1', 'l2'],\n",
        "    'estimator__solver': ['liblinear']\n",
        "}\n",
        "\n",
        "grid = GridSearchCV(\n",
        "    OneVsRestClassifier(LogisticRegression(class_weight='balanced', max_iter=500)),\n",
        "    param_grid,\n",
        "    cv=5,\n",
        "    scoring=make_scorer(roc_auc_score, needs_proba=True, multi_class='ovr')\n",
        ")\n",
        "grid.fit(X_res, y_res)\n",
        "\n",
        "print(\"\\n=== GridSearchCV Best Parameters ===\")\n",
        "print(grid.best_params_)\n",
        "print(f\"Best Cross-Validation ROC-AUC: {grid.best_score_:.2f}\")\n"
      ],
      "metadata": {
        "colab": {
          "base_uri": "https://localhost:8080/"
        },
        "id": "umb11D54djU2",
        "outputId": "aee2fe4e-aba3-487c-ce60-66b26af26860"
      },
      "execution_count": 19,
      "outputs": [
        {
          "output_type": "stream",
          "name": "stdout",
          "text": [
            "=== Classification Report ===\n",
            "              precision    recall  f1-score   support\n",
            "\n",
            "           0       0.88      0.83      0.85        42\n",
            "           1       0.60      0.75      0.67        12\n",
            "           2       0.80      0.67      0.73         6\n",
            "\n",
            "    accuracy                           0.80        60\n",
            "   macro avg       0.76      0.75      0.75        60\n",
            "weighted avg       0.81      0.80      0.80        60\n",
            "\n",
            "\n",
            "ROC-AUC Score (multiclass OVR): 0.92\n",
            "\n",
            "=== GridSearchCV Best Parameters ===\n",
            "{'estimator__C': 0.01, 'estimator__penalty': 'l1', 'estimator__solver': 'liblinear'}\n",
            "Best Cross-Validation ROC-AUC: nan\n"
          ]
        }
      ]
    }
  ]
}