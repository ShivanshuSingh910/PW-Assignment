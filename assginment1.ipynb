{
  "nbformat": 4,
  "nbformat_minor": 0,
  "metadata": {
    "colab": {
      "provenance": []
    },
    "kernelspec": {
      "name": "python3",
      "display_name": "Python 3"
    },
    "language_info": {
      "name": "python"
    }
  },
  "cells": [
    {
      "cell_type": "code",
      "execution_count": null,
      "metadata": {
        "id": "GV0Qp0e5sylQ"
      },
      "outputs": [],
      "source": []
    },
    {
      "cell_type": "markdown",
      "source": [
        "# **Python Basics Questions**\n"
      ],
      "metadata": {
        "id": "fDsx58xuyjyH"
      }
    },
    {
      "cell_type": "markdown",
      "source": [
        "1. What is Python, and why is it popular?\n",
        "\n",
        " - Python is a high-level, interpreted programming language which is easy to understand and write, making it a popular choice among developers and programmers.\n",
        "\n",
        " - Python is popular because it combines ease of use, power, and flexibility\n",
        " Python has a large and active community of developers, an extensive standard library, and third-party packages for various domains."
      ],
      "metadata": {
        "id": "mPx_yAHZtFNw"
      }
    },
    {
      "cell_type": "markdown",
      "source": [
        "2. What is an interpreter in Python?\n",
        "\n",
        " - In Python, an interpreter is a program that reads and executes Python code line by line. Unlike compiled languages (like C or Java), where code is first converted to machine code before execution, Python code is interpreted directly at runtime"
      ],
      "metadata": {
        "id": "Ayln5PqRvh5K"
      }
    },
    {
      "cell_type": "markdown",
      "source": [
        "3. What are pre-defined keywords in Python?\n",
        "\n",
        "- Keywords are reserved words in Python that have special meanings and cannot be used as identifiers (variable names, function names, etc.).\n",
        "-Examples of keywords include if, else, while, for, def, class, import, try, except, return, True, False, None, etc.\n"
      ],
      "metadata": {
        "id": "JF-Bh56hwTd5"
      }
    },
    {
      "cell_type": "markdown",
      "source": [
        "4. Can keywords be used as variable name?\n",
        "- No, keywords cannot be used as variable names in Python."
      ],
      "metadata": {
        "id": "6YoMEh_CxAOr"
      }
    },
    {
      "cell_type": "markdown",
      "source": [
        "5.  What is mutability in Python?\n",
        "- In Python, objects can be either changeable (modifiable) or unchangeable (unchangeable).\n",
        "- Mutable objects, such as lists and dictionaries, can be modified after creation, while immutable objects, such as tuples and strings, cannot."
      ],
      "metadata": {
        "id": "mBk9s2G1zIa-"
      }
    },
    {
      "cell_type": "markdown",
      "source": [
        "6. Why are lists mutable, but tuples are immutable?\n",
        "- The difference in mutability between lists and tuples comes down to their design purpose and internal implementation in Python.\n",
        "-Lists are mutable to support dynamic, changeable collections, while tuples are immutable to support fixed, safe, and performant data structures. Python gives you both so you can choose the right tool for the job"
      ],
      "metadata": {
        "id": "74Pl6bMyzNEH"
      }
    },
    {
      "cell_type": "markdown",
      "source": [
        "7.  What is the difference between “==” and “is” operators in Python?\n",
        "- “==” is a Equality operator it Checks if values are equal,\n",
        "Compares the contents of two variables.\n",
        "-“is” is a Identity Operator it Checks if two variables point to the same object in memory,\n",
        "Compares object identity, not content."
      ],
      "metadata": {
        "id": "Kv15kOnAyfok"
      }
    },
    {
      "cell_type": "markdown",
      "source": [
        "8. What are logical operators in Python?\n",
        "- Logical operators in Python are used to perform logical operations on boolean values (True or False). There are three main logical operators\n",
        " - and – Returns True if both conditions are True.\n",
        " -or – Returns True if at least one condition is True.\n",
        " -not – Reverses the result: True becomes False, and False becomes True.\n",
        "\n",
        "\n"
      ],
      "metadata": {
        "id": "CCmVriNO318X"
      }
    },
    {
      "cell_type": "markdown",
      "source": [
        "9. What is type casting in Python?\n",
        "- Type casting in Python refers to the process of converting one data type into another. It is used when we want to perform operations that require variables to be in a specific type.\n",
        "-There are two types of type casting in Python:\n",
        "\n",
        "     Implicit Type Casting\n",
        "\n",
        "     Explicit Type Casting"
      ],
      "metadata": {
        "id": "Q88F56aL9_kb"
      }
    },
    {
      "cell_type": "markdown",
      "source": [
        "10.What is the difference between implicit and explicit type casting in Python?\n",
        "\n",
        "- Type casting is the process of converting one data type into another. In Python, there are two types of type castin\n",
        "\n",
        "- Implicit Type Casting\n",
        "\n",
        "   Done automatically by Python.\n",
        "\n",
        "   No user involvement needed.\n",
        "\n",
        "   Occurs when Python promotes a data type to prevent data loss.\n",
        "- Explicit Type Casting\n",
        "\n",
        "   Done manually by the programmer.\n",
        "\n",
        "   Requires use of casting functions like int(), float(), str(), etc."
      ],
      "metadata": {
        "id": "BNBi4sOk_ys9"
      }
    },
    {
      "cell_type": "markdown",
      "source": [
        "11.  What is the purpose of conditional statements in Python?\n",
        "- Conditional statements are used to make decisions in Python programs. They allow the program to execute different code blocks based on whether a condition is True or False.\n",
        "\n",
        " Python uses these conditional statements:\n",
        "\n",
        " if\n",
        "\n",
        " elif (else if)\n",
        "\n",
        " else\n",
        " - Purpose:\n",
        "\n",
        "Helps in controlling program flow\n",
        "\n",
        "Allows logical decision-making\n",
        "\n",
        "Makes programs interactive and intelligent"
      ],
      "metadata": {
        "id": "oj3DYNN-ECB0"
      }
    },
    {
      "cell_type": "markdown",
      "source": [
        "12. How does the elif statement work in Python?\n",
        "- The elif statement in Python stands for \"else if\". It is used when we want to check multiple conditions one after another.\n",
        "\n",
        "Python checks the first if condition.\n",
        "\n",
        "If it's False, it checks the elif.\n",
        "\n",
        "If none are True, it runs the else block."
      ],
      "metadata": {
        "id": "H_vigxZhEfTQ"
      }
    },
    {
      "cell_type": "markdown",
      "source": [
        "13.  What is the difference between for and while loops in Python?\n",
        "-  for Loop:\n",
        "Used when the number of iterations is known or fixed.\n",
        "\n",
        "Commonly used to iterate over a sequence (like a list, string, or range).\n",
        "- while Loop:\n",
        "Used when the number of iterations is unknown.\n",
        "\n",
        "It continues as long as a given condition is True."
      ],
      "metadata": {
        "id": "tDXDhE4iEyyh"
      }
    },
    {
      "cell_type": "markdown",
      "source": [
        "14. Describe a scenario where a while loop is more suitable than a for loop\n",
        "- A while loop is more suitable when we don’t know in advance how many times we need to repeat a block of code. It runs as long as a condition is True."
      ],
      "metadata": {
        "id": "i21c-Z7yFgY5"
      }
    },
    {
      "cell_type": "markdown",
      "source": [
        "#**Practical Questions**"
      ],
      "metadata": {
        "id": "RekOI912F_JY"
      }
    },
    {
      "cell_type": "markdown",
      "source": [
        "1.  Write a Python program to print \"[Hello, World!](https://)\""
      ],
      "metadata": {
        "id": "TKC12ogqGIRO"
      }
    },
    {
      "cell_type": "code",
      "source": [
        "print (\"Hello,World!\")"
      ],
      "metadata": {
        "colab": {
          "base_uri": "https://localhost:8080/"
        },
        "id": "1ao31gJzGet8",
        "outputId": "cb8b3b45-3fb7-48df-d7a6-0dc552bee0e9"
      },
      "execution_count": 2,
      "outputs": [
        {
          "output_type": "stream",
          "name": "stdout",
          "text": [
            "Hello,World!\n"
          ]
        }
      ]
    },
    {
      "cell_type": "markdown",
      "source": [
        "2. Write a Python program that displays your name and age\n"
      ],
      "metadata": {
        "id": "HEaSTJHIHUxi"
      }
    },
    {
      "cell_type": "code",
      "source": [
        "name = \"Shivanshu Singh\"\n",
        "age = 22\n",
        "print(\"My name is\", name)\n",
        "print(\"I am\", age, \"years old.\")"
      ],
      "metadata": {
        "colab": {
          "base_uri": "https://localhost:8080/"
        },
        "id": "MC9Corx1Hfa3",
        "outputId": "c8a70260-8a9b-4030-e7a8-5c8980b2209b"
      },
      "execution_count": 3,
      "outputs": [
        {
          "output_type": "stream",
          "name": "stdout",
          "text": [
            "My name is Shivanshu Singh\n",
            "I am 22 years old.\n"
          ]
        }
      ]
    },
    {
      "cell_type": "markdown",
      "source": [
        "3.Write code to print all the pre-defined keywords in Python using the keyword library\n"
      ],
      "metadata": {
        "id": "D8ECWGW5HzKN"
      }
    },
    {
      "cell_type": "code",
      "source": [
        "\n",
        "import keyword\n",
        "\n",
        "Totalkeywords = keyword.kwlist\n",
        "\n",
        "print(\"\\nList of Python keywords:\")\n",
        "for kw in Totalkeywords:\n",
        "    print(kw)\n"
      ],
      "metadata": {
        "colab": {
          "base_uri": "https://localhost:8080/"
        },
        "id": "x6Pl-XRwIXVS",
        "outputId": "c2d4370a-06e7-4fb1-c02d-79023981a635"
      },
      "execution_count": 5,
      "outputs": [
        {
          "output_type": "stream",
          "name": "stdout",
          "text": [
            "\n",
            "List of Python keywords:\n",
            "False\n",
            "None\n",
            "True\n",
            "and\n",
            "as\n",
            "assert\n",
            "async\n",
            "await\n",
            "break\n",
            "class\n",
            "continue\n",
            "def\n",
            "del\n",
            "elif\n",
            "else\n",
            "except\n",
            "finally\n",
            "for\n",
            "from\n",
            "global\n",
            "if\n",
            "import\n",
            "in\n",
            "is\n",
            "lambda\n",
            "nonlocal\n",
            "not\n",
            "or\n",
            "pass\n",
            "raise\n",
            "return\n",
            "try\n",
            "while\n",
            "with\n",
            "yield\n"
          ]
        }
      ]
    },
    {
      "cell_type": "markdown",
      "source": [
        "4.Write a program that checks if a given word is a Python keyword.\n"
      ],
      "metadata": {
        "id": "56rG54U1JNS4"
      }
    },
    {
      "cell_type": "code",
      "source": [
        "\n",
        "import keyword\n",
        "\n",
        "word = input(\"Enter a word: \")\n",
        "\n",
        "if keyword.iskeyword(word):\n",
        "    print(f\"'{word}' is a Python keyword.\")\n",
        "else:\n",
        "    print(f\"'{word}' is NOT a Python keyword.\")\n"
      ],
      "metadata": {
        "colab": {
          "base_uri": "https://localhost:8080/"
        },
        "id": "cn1YsSG-Kg93",
        "outputId": "77dac753-d727-456a-e775-789df8271b1d"
      },
      "execution_count": 6,
      "outputs": [
        {
          "output_type": "stream",
          "name": "stdout",
          "text": [
            "Enter a word: Shivanshu\n",
            "'Shivanshu' is NOT a Python keyword.\n"
          ]
        }
      ]
    },
    {
      "cell_type": "markdown",
      "source": [
        "5. Create a list and tuple in Python, and demonstrate how attempting to change an element works differently\n",
        "for each\n"
      ],
      "metadata": {
        "id": "HWVJNOkAKvFp"
      }
    },
    {
      "cell_type": "code",
      "source": [
        "\n",
        "my_list = [10, 20, 30]\n",
        "print(\"Original list:\", my_list)\n",
        "\n",
        "my_list[1] = 200\n",
        "print(\"Modified list:\", my_list)\n",
        "\n",
        "my_tuple = (10, 20, 30)\n",
        "print(\"Original tuple:\", my_tuple)\n",
        "\n",
        "my_tuple[1] = 200\n",
        "print(\"Modified tuple:\", my_tuple)\n"
      ],
      "metadata": {
        "colab": {
          "base_uri": "https://localhost:8080/",
          "height": 245
        },
        "id": "OaFq9cASLt2R",
        "outputId": "38312c82-a941-470b-ea5d-12521d208887"
      },
      "execution_count": 9,
      "outputs": [
        {
          "output_type": "stream",
          "name": "stdout",
          "text": [
            "Original list: [10, 20, 30]\n",
            "Modified list: [10, 200, 30]\n",
            "Original tuple: (10, 20, 30)\n"
          ]
        },
        {
          "output_type": "error",
          "ename": "TypeError",
          "evalue": "'tuple' object does not support item assignment",
          "traceback": [
            "\u001b[0;31m---------------------------------------------------------------------------\u001b[0m",
            "\u001b[0;31mTypeError\u001b[0m                                 Traceback (most recent call last)",
            "\u001b[0;32m/tmp/ipython-input-9-432903615.py\u001b[0m in \u001b[0;36m<cell line: 0>\u001b[0;34m()\u001b[0m\n\u001b[1;32m      8\u001b[0m \u001b[0mprint\u001b[0m\u001b[0;34m(\u001b[0m\u001b[0;34m\"Original tuple:\"\u001b[0m\u001b[0;34m,\u001b[0m \u001b[0mmy_tuple\u001b[0m\u001b[0;34m)\u001b[0m\u001b[0;34m\u001b[0m\u001b[0;34m\u001b[0m\u001b[0m\n\u001b[1;32m      9\u001b[0m \u001b[0;34m\u001b[0m\u001b[0m\n\u001b[0;32m---> 10\u001b[0;31m \u001b[0mmy_tuple\u001b[0m\u001b[0;34m[\u001b[0m\u001b[0;36m1\u001b[0m\u001b[0;34m]\u001b[0m \u001b[0;34m=\u001b[0m \u001b[0;36m200\u001b[0m\u001b[0;34m\u001b[0m\u001b[0;34m\u001b[0m\u001b[0m\n\u001b[0m\u001b[1;32m     11\u001b[0m \u001b[0mprint\u001b[0m\u001b[0;34m(\u001b[0m\u001b[0;34m\"Modified tuple:\"\u001b[0m\u001b[0;34m,\u001b[0m \u001b[0mmy_tuple\u001b[0m\u001b[0;34m)\u001b[0m\u001b[0;34m\u001b[0m\u001b[0;34m\u001b[0m\u001b[0m\n",
            "\u001b[0;31mTypeError\u001b[0m: 'tuple' object does not support item assignment"
          ]
        }
      ]
    },
    {
      "cell_type": "markdown",
      "source": [
        "6. Write a function to demonstrate the behavior of mutable and immutable arguments"
      ],
      "metadata": {
        "id": "refevZLENM5X"
      }
    },
    {
      "cell_type": "code",
      "source": [
        "def change_number(x):\n",
        "    print(\"Inside function, before change:\", x)\n",
        "    x = x + 5\n",
        "    print(\"Inside function, after change:\", x)\n",
        "\n",
        "def change_list(mylist):\n",
        "    print(\"Inside function, before change:\", mylist)\n",
        "    mylist.append(100)\n",
        "    print(\"Inside function, after change:\", mylist)\n",
        "\n",
        "num = 10\n",
        "print(\"Before function call (immutable):\", num)\n",
        "change_number(num)\n",
        "print(\"After function call (immutable):\", num)\n",
        "\n",
        "print(\"----------\")\n",
        "\n",
        "numbers = [1, 2, 3]\n",
        "print(\"Before function call (mutable):\", numbers)\n",
        "change_list(numbers)\n",
        "print(\"After function call (mutable):\", numbers)\n"
      ],
      "metadata": {
        "colab": {
          "base_uri": "https://localhost:8080/"
        },
        "id": "li3aGGsLVd9v",
        "outputId": "86ec147f-e5d5-4d12-a27b-2e5430637fde"
      },
      "execution_count": 10,
      "outputs": [
        {
          "output_type": "stream",
          "name": "stdout",
          "text": [
            "Before function call (immutable): 10\n",
            "Inside function, before change: 10\n",
            "Inside function, after change: 15\n",
            "After function call (immutable): 10\n",
            "----------\n",
            "Before function call (mutable): [1, 2, 3]\n",
            "Inside function, before change: [1, 2, 3]\n",
            "Inside function, after change: [1, 2, 3, 100]\n",
            "After function call (mutable): [1, 2, 3, 100]\n"
          ]
        }
      ]
    },
    {
      "cell_type": "markdown",
      "source": [
        "7. Write a program that performs basic arithmetic operations on two user-input numbers.\n"
      ],
      "metadata": {
        "id": "JP2ox--FXV_E"
      }
    },
    {
      "cell_type": "code",
      "source": [
        "num1 = float(input(\"Enter first number: \"))\n",
        "num2 = float(input(\"Enter second number: \"))\n",
        "\n",
        "print(\"Addition:\", num1 + num2)\n",
        "print(\"Subtraction:\", num1 - num2)\n",
        "print(\"Multiplication:\", num1 * num2)\n",
        "\n",
        "\n"
      ],
      "metadata": {
        "colab": {
          "base_uri": "https://localhost:8080/"
        },
        "id": "c2TCx4SeXdXG",
        "outputId": "dd43c59a-1cf4-43b5-c69b-55f6e4b79892"
      },
      "execution_count": 11,
      "outputs": [
        {
          "output_type": "stream",
          "name": "stdout",
          "text": [
            "Enter first number: 10\n",
            "Enter second number: 43\n",
            "Addition: 53.0\n",
            "Subtraction: -33.0\n",
            "Multiplication: 430.0\n"
          ]
        }
      ]
    },
    {
      "cell_type": "markdown",
      "source": [
        "8.  Write a program to demonstrate the use of logical operators.\n"
      ],
      "metadata": {
        "id": "m0Pg14XoXysF"
      }
    },
    {
      "cell_type": "code",
      "source": [
        "\n",
        "age = int(input(\"Enter your age: \"))\n",
        "has_id = input(\"Do you have a valid ID? (yes/no): \")\n",
        "\n",
        "has_id = has_id.lower() == \"yes\"\n",
        "\n",
        "if age >= 18 and has_id:\n",
        "    print(\"Access granted. You are eligible.\")\n",
        "else:\n",
        "    print(\"Access denied. You are not eligible.\")\n",
        "\n",
        "if age >= 18 or has_id:\n",
        "    print(\"Partial access allowed.\")\n",
        "else:\n",
        "    print(\"No access allowed.\")\n",
        "\n",
        "if not has_id:\n",
        "    print(\"You must carry a valid ID.\")\n"
      ],
      "metadata": {
        "colab": {
          "base_uri": "https://localhost:8080/"
        },
        "id": "iBTX_6htX9rN",
        "outputId": "88f6de48-852b-4d63-a1f1-0498be6cafa8"
      },
      "execution_count": 14,
      "outputs": [
        {
          "output_type": "stream",
          "name": "stdout",
          "text": [
            "Enter your age: 16\n",
            "Do you have a valid ID? (yes/no): no\n",
            "Access denied. You are not eligible.\n",
            "No access allowed.\n",
            "You must carry a valid ID.\n"
          ]
        }
      ]
    },
    {
      "cell_type": "markdown",
      "source": [
        "9. Write a Python program to convert user input from string to integer, float, and boolean types"
      ],
      "metadata": {
        "id": "nhw2krBeY0bJ"
      }
    },
    {
      "cell_type": "code",
      "source": [
        "user_input = input(\"Enter a value: \")\n",
        "\n",
        "try:\n",
        "    int_value = int(user_input)\n",
        "    print(\"Integer value:\", int_value)\n",
        "except ValueError:\n",
        "    print(\"Cannot convert to integer.\")\n",
        "\n",
        "try:\n",
        "    float_value = float(user_input)\n",
        "    print(\"Float value:\", float_value)\n",
        "except ValueError:\n",
        "    print(\"Cannot convert to float.\")\n",
        "\n",
        "bool_value = bool(user_input)\n",
        "print(\"Boolean value:\", bool_value)\n"
      ],
      "metadata": {
        "colab": {
          "base_uri": "https://localhost:8080/"
        },
        "id": "OkxcRoTFY4TD",
        "outputId": "c157c1c8-a803-403c-cfdd-6b24eb5a4d56"
      },
      "execution_count": 16,
      "outputs": [
        {
          "output_type": "stream",
          "name": "stdout",
          "text": [
            "Enter a value: 65\n",
            "Integer value: 65\n",
            "Float value: 65.0\n",
            "Boolean value: True\n"
          ]
        }
      ]
    },
    {
      "cell_type": "markdown",
      "source": [
        "10.Write code to demonstrate type casting with list elements"
      ],
      "metadata": {
        "id": "Vp9YvsJ6ZeEC"
      }
    },
    {
      "cell_type": "code",
      "source": [
        "str_list = [\"10\", \"20\", \"30\", \"40\"]\n",
        "\n",
        "print(\"Original list (strings):\", str_list)\n",
        "\n",
        "int_list = []\n",
        "for item in str_list:\n",
        "    int_list.append(int(item))\n",
        "\n",
        "print(\"List after converting to integers:\", int_list)\n",
        "\n",
        "float_list = []\n",
        "for item in str_list:\n",
        "    float_list.append(float(item))\n",
        "\n",
        "print(\"List after converting to floats:\", float_list)\n"
      ],
      "metadata": {
        "colab": {
          "base_uri": "https://localhost:8080/"
        },
        "id": "63Z7D7NSZ3Do",
        "outputId": "3d5aaac1-d69b-4fa8-ae91-94e404dbf9c1"
      },
      "execution_count": 19,
      "outputs": [
        {
          "output_type": "stream",
          "name": "stdout",
          "text": [
            "Original list (strings): ['10', '20', '30', '40']\n",
            "List after converting to integers: [10, 20, 30, 40]\n",
            "List after converting to floats: [10.0, 20.0, 30.0, 40.0]\n"
          ]
        }
      ]
    },
    {
      "cell_type": "markdown",
      "source": [
        "11. Write a program that checks if a number is positive, negative, or zero"
      ],
      "metadata": {
        "id": "w0AYFe6PaJNn"
      }
    },
    {
      "cell_type": "code",
      "source": [
        "num = float(input(\"Enter a number: \"))\n",
        "\n",
        "if num > 0:\n",
        "    print(\"The number is positive.\")\n",
        "elif num < 0:\n",
        "    print(\"The number is negative.\")\n",
        "else:\n",
        "    print(\"The number is zero.\")\n"
      ],
      "metadata": {
        "colab": {
          "base_uri": "https://localhost:8080/"
        },
        "id": "69sNx-staVAC",
        "outputId": "ff4f6720-ad6f-414c-c709-754a57703d54"
      },
      "execution_count": 20,
      "outputs": [
        {
          "output_type": "stream",
          "name": "stdout",
          "text": [
            "Enter a number: -5\n",
            "The number is negative.\n"
          ]
        }
      ]
    },
    {
      "cell_type": "markdown",
      "source": [
        "12.. Write a for loop to print numbers from 1 to 10."
      ],
      "metadata": {
        "id": "lpn5SkIiaqsD"
      }
    },
    {
      "cell_type": "code",
      "source": [
        "for i in range(1, 11):\n",
        "    print(i)\n"
      ],
      "metadata": {
        "colab": {
          "base_uri": "https://localhost:8080/"
        },
        "id": "1WhsXehSa3JR",
        "outputId": "9686ac08-2b3f-4806-d601-0a66aeb75ee8"
      },
      "execution_count": 21,
      "outputs": [
        {
          "output_type": "stream",
          "name": "stdout",
          "text": [
            "1\n",
            "2\n",
            "3\n",
            "4\n",
            "5\n",
            "6\n",
            "7\n",
            "8\n",
            "9\n",
            "10\n"
          ]
        }
      ]
    },
    {
      "cell_type": "markdown",
      "source": [
        "13.Write a Python program to find the sum of all even numbers between 1 and 50"
      ],
      "metadata": {
        "id": "hPTyNEeobNdd"
      }
    },
    {
      "cell_type": "code",
      "source": [
        "even_sum = 0\n",
        "\n",
        "for num in range(1, 51):\n",
        "    if num % 2 == 0:\n",
        "        even_sum += num\n",
        "print(\"Sum of all even numbers from 1 to 50 is:\", even_sum)\n"
      ],
      "metadata": {
        "colab": {
          "base_uri": "https://localhost:8080/"
        },
        "id": "mcJr74qgbTbD",
        "outputId": "89882d4f-597f-4db4-9501-a4bbca51fe84"
      },
      "execution_count": 22,
      "outputs": [
        {
          "output_type": "stream",
          "name": "stdout",
          "text": [
            "Sum of all even numbers from 1 to 50 is: 650\n"
          ]
        }
      ]
    },
    {
      "cell_type": "markdown",
      "source": [
        "14.Write a program to reverse a string using a while loop."
      ],
      "metadata": {
        "id": "ZRrgZxlhccu4"
      }
    },
    {
      "cell_type": "code",
      "source": [
        "word = input(\"Enter a string: \")\n",
        "\n",
        "i = len(word) - 1\n",
        "\n",
        "rev = \"\"\n",
        "\n",
        "while i >= 0:\n",
        "    rev = rev + word[i]\n",
        "    i = i - 1\n",
        "\n",
        "print(\"Reversed string:\", rev)\n"
      ],
      "metadata": {
        "colab": {
          "base_uri": "https://localhost:8080/"
        },
        "id": "phdIdrsNdFyM",
        "outputId": "6dc65071-5427-4f21-ce0c-59fb2ccfbd69"
      },
      "execution_count": 23,
      "outputs": [
        {
          "output_type": "stream",
          "name": "stdout",
          "text": [
            "Enter a string: Shivanshu\n",
            "Reversed string: uhsnavihS\n"
          ]
        }
      ]
    },
    {
      "cell_type": "markdown",
      "source": [
        "15. Write a Python program to calculate the factorial of a number provided by the user using a while loop."
      ],
      "metadata": {
        "id": "H-IJfcLFdYF9"
      }
    },
    {
      "cell_type": "code",
      "source": [
        "num = int(input(\"Enter a number: \"))\n",
        "\n",
        "fact = 1\n",
        "\n",
        "i = num\n",
        "\n",
        "while i > 0:\n",
        "    fact = fact * i\n",
        "    i = i - 1\n",
        "\n",
        "print(\"Factorial of\", num, \"is\", fact)\n"
      ],
      "metadata": {
        "colab": {
          "base_uri": "https://localhost:8080/"
        },
        "id": "QVZ5Ta9-ddvK",
        "outputId": "919e1abb-73b1-49ba-8a3c-f5186a652168"
      },
      "execution_count": 25,
      "outputs": [
        {
          "output_type": "stream",
          "name": "stdout",
          "text": [
            "Enter a number: 5\n",
            "Factorial of 5 is 120\n"
          ]
        }
      ]
    }
  ]
}